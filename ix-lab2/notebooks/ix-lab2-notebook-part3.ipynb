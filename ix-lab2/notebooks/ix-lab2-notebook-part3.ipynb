{
 "cells": [
  {
   "cell_type": "markdown",
   "metadata": {},
   "source": [
    "# Networks: structure, evolution & processes\n",
    "**Internet Analytics - Lab 2**\n",
    "\n",
    "---\n",
    "\n",
    "**Group:** *K*\n",
    "\n",
    "**Names:**\n",
    "\n",
    "* *Robin Lang*\n",
    "* *Kim Lan Phan Hoang*\n",
    "* *Julien Harbulot*\n",
    "\n",
    "---\n",
    "\n",
    "#### Instructions\n",
    "\n",
    "*This is a template for part 3 of the lab. Clearly write your answers, comments and interpretations in Markodown cells. Don't forget that you can add $\\LaTeX$ equations in these cells. Feel free to add or remove any cell.*\n",
    "\n",
    "*Please properly comment your code. Code readability will be considered for grading. To avoid long cells of codes in the notebook, you can also embed long python functions and classes in a separate module. Don’t forget to hand in your module if that is the case. In multiple exercises, you are required to come up with your own method to solve various problems. Be creative and clearly motivate and explain your methods. Creativity and clarity will be considered for grading.*"
   ]
  },
  {
   "cell_type": "markdown",
   "metadata": {},
   "source": [
    "---\n",
    "\n",
    "## 2.3 Epdemics\n",
    "\n",
    "#### Exercise 2.9: Simulate an epidemic outbreak"
   ]
  },
  {
   "cell_type": "code",
   "execution_count": 1,
   "metadata": {
    "collapsed": false
   },
   "outputs": [],
   "source": [
    "import epidemics_helper\n",
    "import json\n",
    "\n",
    "import numpy as np\n",
    "import matplotlib.pyplot as plt\n",
    "%matplotlib inline  \n",
    "\n",
    "import networkx as nx\n",
    "from networkx.readwrite import json_graph"
   ]
  },
  {
   "cell_type": "code",
   "execution_count": 41,
   "metadata": {
    "collapsed": false,
    "scrolled": true
   },
   "outputs": [
    {
     "name": "stdout",
     "output_type": "stream",
     "text": [
      "Epidemic stopped after 96.08 days | 96.08 days elapsed | 0.1% susceptible, 0.0% infected, 99.9% recovered\n"
     ]
    }
   ],
   "source": [
    "file = open(\"../data/nyc_augmented_network.json\")\n",
    "file_json = json.load(file)\n",
    "G = json_graph.node_link_graph(file_json)\n",
    "\n",
    "num_nodes = nx.number_of_nodes(G)\n",
    "\n",
    "sir = epidemics_helper.SimulationSIR(G, beta=10.0, gamma=0.1)\n",
    "sir.launch_epidemic(source=23654, max_time=100.0)"
   ]
  },
  {
   "cell_type": "code",
   "execution_count": 42,
   "metadata": {
    "collapsed": true
   },
   "outputs": [],
   "source": [
    "inf = sir.inf_time\n",
    "rec = sir.rec_time\n",
    "\n",
    "def infected(t):\n",
    "    ret = 0\n",
    "    for i in range(num_nodes):\n",
    "        if inf[i] < t:\n",
    "            ret += 1\n",
    "        if rec[i] < t:\n",
    "            ret -= 1\n",
    "    return ret\n",
    "\n",
    "def susceptible(t):\n",
    "    ret = 0\n",
    "    for i in range(num_nodes):\n",
    "        if inf[i] > t:\n",
    "            ret += 1\n",
    "    return ret\n",
    "\n",
    "def recovered(t):\n",
    "    ret = 0\n",
    "    for i in range(num_nodes):\n",
    "        if rec[i] < t:\n",
    "            ret += 1\n",
    "    return ret\n",
    "\n",
    "graph_points = 500\n",
    "\n",
    "X = np.arange(0, 100, 100/graph_points)\n",
    "INF = np.zeros(graph_points)\n",
    "SUSC = np.zeros(graph_points)\n",
    "REC = np.zeros(graph_points)\n",
    "for i in range(graph_points):\n",
    "    INF[i] = infected(X[i])\n",
    "    SUSC[i] = susceptible(X[i])\n",
    "    REC[i] = recovered(X[i])"
   ]
  },
  {
   "cell_type": "code",
   "execution_count": 38,
   "metadata": {
    "collapsed": false
   },
   "outputs": [
    {
     "data": {
      "image/png": "[encoded data removed]",
      "text/plain": [
       "<matplotlib.figure.Figure at 0x112790a20>"
      ]
     },
     "metadata": {},
     "output_type": "display_data"
    }
   ],
   "source": [
    "plt.plot(X, SUSC, label=\"susceptible\")\n",
    "plt.plot(X, INF, label=\"infected\")\n",
    "plt.plot(X, REC, label=\"recovered\")\n",
    "plt.legend(loc='center right', frameon=True)\n",
    "plt.xlabel(\"days\")\n",
    "plt.ylabel(\"nodes\")\n",
    "plt.title(\"Sumulated Epidemic\")\n",
    "plt.show()"
   ]
  },
  {
   "cell_type": "markdown",
   "metadata": {},
   "source": [
    "---\n",
    "\n",
    "### 2.3.1 Stop the apocalypse!\n",
    "\n",
    "#### Exercise 2.10: Strategy 1"
   ]
  },
  {
   "cell_type": "code",
   "execution_count": null,
   "metadata": {
    "collapsed": true
   },
   "outputs": [],
   "source": [
    "\"\"\"\n",
    "sir = epidemics_helper.SimulationSIR(G, beta=10.0, gamma=0.1)\n",
    "sir.launch_epidemic(source=23654, max_time=15.0)\n",
    "\"\"\"\n",
    "\n",
    "\"\"\"It needs about 7 days to get 60% of the population infected (it is a very fast illness!).\n",
    "It needs about 15 days to get 60% of the population recovered (healed or dead).\n",
    "\"\"\"\n",
    "\n",
    "nG = nx.Graph()\n",
    "links = file_json['links']\n",
    "nodes =file_json['nodes']\n",
    "pos = np.zeros((maxu,maxu))\n",
    "\n",
    "for i in range(200):\n",
    "    u = links[i]['target']\n",
    "    v = links[i]['source']\n",
    "    \n",
    "    coordU = nodes[u]['coordinates']\n",
    "    coordV = nodes[v]['coordinates']\n",
    "    nG.add_node(u, pos=(coordU[0], coordU[1]))\n",
    "    nG.add_node(v, pos=(coordV[0], coordV[1]))\n",
    "    nG.add_edge(u,v)  # default edge data=1\n",
    "    pos[i] =((coordU[0], coordU[1]))\n",
    "    pos[maxu-i] = ((coordU[0], coordU[1]))\n",
    "\n",
    "nx.draw(nG, pos)\n",
    "plt.show()"
   ]
  },
  {
   "cell_type": "markdown",
   "metadata": {},
   "source": [
    "#### Exercise 2.11: Strategy 2"
   ]
  },
  {
   "cell_type": "code",
   "execution_count": null,
   "metadata": {
    "collapsed": true
   },
   "outputs": [],
   "source": []
  }
 ],
 "metadata": {
  "anaconda-cloud": {},
  "kernelspec": {
   "display_name": "Python [Root]",
   "language": "python",
   "name": "Python [Root]"
  },
  "language_info": {
   "codemirror_mode": {
    "name": "ipython",
    "version": 3
   },
   "file_extension": ".py",
   "mimetype": "text/x-python",
   "name": "python",
   "nbconvert_exporter": "python",
   "pygments_lexer": "ipython3",
   "version": "3.5.2"
  }
 },
 "nbformat": 4,
 "nbformat_minor": 2
}
