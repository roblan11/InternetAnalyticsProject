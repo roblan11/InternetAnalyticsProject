{
 "cells": [
  {
   "cell_type": "markdown",
   "metadata": {},
   "source": [
    "# Networks: structure, evolution & processes\n",
    "**Internet Analytics - Lab 2**\n",
    "\n",
    "---\n",
    "\n",
    "**Group:** *K*\n",
    "\n",
    "**Names:**\n",
    "\n",
    "* *Robin Lang*\n",
    "* *Kim Lan Phan Hoang*\n",
    "* *Julien Harbulot*\n",
    "\n",
    "---\n",
    "\n",
    "#### Instructions\n",
    "\n",
    "*This is a template for part 3 of the lab. Clearly write your answers, comments and interpretations in Markodown cells. Don't forget that you can add $\\LaTeX$ equations in these cells. Feel free to add or remove any cell.*\n",
    "\n",
    "*Please properly comment your code. Code readability will be considered for grading. To avoid long cells of codes in the notebook, you can also embed long python functions and classes in a separate module. Don’t forget to hand in your module if that is the case. In multiple exercises, you are required to come up with your own method to solve various problems. Be creative and clearly motivate and explain your methods. Creativity and clarity will be considered for grading.*"
   ]
  },
  {
   "cell_type": "markdown",
   "metadata": {},
   "source": [
    "---\n",
    "\n",
    "## 2.3 Epdemics\n",
    "\n",
    "#### Exercise 2.9: Simulate an epidemic outbreak"
   ]
  },
  {
   "cell_type": "code",
   "execution_count": 1,
   "metadata": {
    "collapsed": false
   },
   "outputs": [],
   "source": [
    "import epidemics_helper\n",
    "import json\n",
    "\n",
    "import numpy as np\n",
    "import matplotlib.pyplot as plt\n",
    "%matplotlib inline  \n",
    "\n",
    "import networkx as nx\n",
    "from networkx.readwrite import json_graph"
   ]
  },
  {
   "cell_type": "code",
   "execution_count": 11,
   "metadata": {
    "collapsed": false,
    "scrolled": true
   },
   "outputs": [
    {
     "name": "stdout",
     "output_type": "stream",
     "text": [
      "Epidemic stopped after 100.55 days | 100.55 days elapsed | 0.1% susceptible, 0.0% infected, 99.9% recovered\n",
      "---\n",
      "Node:  0\n",
      "Infection time:  5.64817514096\n",
      "Recovery time:  15.5941130274\n"
     ]
    },
    {
     "ename": "NameError",
     "evalue": "name 'num_nodes' is not defined",
     "output_type": "error",
     "traceback": [
      "\u001b[0;31m---------------------------------------------------------------------------\u001b[0m",
      "\u001b[0;31mNameError\u001b[0m                                 Traceback (most recent call last)",
      "\u001b[0;32m<ipython-input-11-e905adec312a>\u001b[0m in \u001b[0;36m<module>\u001b[0;34m()\u001b[0m\n\u001b[1;32m     12\u001b[0m \u001b[0mprint\u001b[0m\u001b[0;34m(\u001b[0m\u001b[0;34m'Recovery time: '\u001b[0m\u001b[0;34m,\u001b[0m \u001b[0msir\u001b[0m\u001b[0;34m.\u001b[0m\u001b[0mrec_time\u001b[0m\u001b[0;34m[\u001b[0m\u001b[0mnode_id\u001b[0m\u001b[0;34m]\u001b[0m\u001b[0;34m)\u001b[0m\u001b[0;34m\u001b[0m\u001b[0m\n\u001b[1;32m     13\u001b[0m \u001b[0;34m\u001b[0m\u001b[0m\n\u001b[0;32m---> 14\u001b[0;31m \u001b[0mnum_nodes\u001b[0m\u001b[0;34m(\u001b[0m\u001b[0mG\u001b[0m\u001b[0;34m)\u001b[0m\u001b[0;34m\u001b[0m\u001b[0m\n\u001b[0m",
      "\u001b[0;31mNameError\u001b[0m: name 'num_nodes' is not defined"
     ]
    }
   ],
   "source": [
    "file = open(\"../data/nyc_augmented_network.json\")\n",
    "file_json = json.load(file)\n",
    "G = json_graph.node_link_graph(file_json)\n",
    "\n",
    "sir = epidemics_helper.SimulationSIR(G, beta=10.0, gamma=0.1)\n",
    "sir.launch_epidemic(source=23654, max_time=100.0)\n",
    "\n",
    "print(\"---\")\n",
    "node_id = 0\n",
    "print('Node: ', node_id)\n",
    "print('Infection time: ', sir.inf_time[node_id]) \n",
    "print('Recovery time: ', sir.rec_time[node_id])"
   ]
  },
  {
   "cell_type": "code",
   "execution_count": 32,
   "metadata": {
    "collapsed": true
   },
   "outputs": [],
   "source": [
    "inf = sir.inf_time\n",
    "rec = sir.rec_time\n",
    "nodes = nx.number_of_nodes(G)\n",
    "\n",
    "def infected(t):\n",
    "    ret = 0\n",
    "    for i in range(nodes):\n",
    "        if inf[i] < t:\n",
    "            ret += 1\n",
    "        if rec[i] < t:\n",
    "            ret -= 1\n",
    "    return ret\n",
    "\n",
    "def susceptible(t):\n",
    "    ret = 0\n",
    "    for i in range(nodes):\n",
    "        if inf[i] > t:\n",
    "            ret += 1\n",
    "    return ret\n",
    "\n",
    "def recovered(t):\n",
    "    ret = 0\n",
    "    for i in range(nodes):\n",
    "        if rec[i] < t:\n",
    "            ret += 1\n",
    "    return ret\n",
    "\n",
    "graph_points = 500\n",
    "\n",
    "X = np.arange(0, 100, 100/graph_points)\n",
    "INF = np.zeros(graph_points)\n",
    "SUSC = np.zeros(graph_points)\n",
    "REC = np.zeros(graph_points)\n",
    "for i in range(graph_points):\n",
    "    INF[i] = infected(X[i])\n",
    "    SUSC[i] = susceptible(X[i])\n",
    "    REC[i] = recovered(X[i])"
   ]
  },
  {
   "cell_type": "code",
   "execution_count": 33,
   "metadata": {
    "collapsed": false
   },
   "outputs": [
    {
     "data": {
      "image/png": "[encoded data removed]",
      "text/plain": [
       "<matplotlib.figure.Figure at 0x118575278>"
      ]
     },
     "metadata": {},
     "output_type": "display_data"
    }
   ],
   "source": [
    "plt.plot(X, SUSC, label=\"susceptible\")\n",
    "plt.plot(X, INF, label=\"infected\")\n",
    "plt.plot(X, REC, label=\"recovered\")\n",
    "plt.legend(loc='center right', frameon=True)\n",
    "plt.xlabel(\"days\")\n",
    "plt.ylabel(\"nodes\")\n",
    "plt.show()"
   ]
  },
  {
   "cell_type": "markdown",
   "metadata": {},
   "source": [
    "---\n",
    "\n",
    "### 2.3.1 Stop the apocalypse!\n",
    "\n",
    "#### Exercise 2.10: Strategy 1"
   ]
  },
  {
   "cell_type": "code",
   "execution_count": null,
   "metadata": {
    "collapsed": true
   },
   "outputs": [],
   "source": []
  },
  {
   "cell_type": "markdown",
   "metadata": {},
   "source": [
    "#### Exercise 2.11: Strategy 2"
   ]
  },
  {
   "cell_type": "code",
   "execution_count": null,
   "metadata": {
    "collapsed": true
   },
   "outputs": [],
   "source": []
  }
 ],
 "metadata": {
  "anaconda-cloud": {},
  "kernelspec": {
   "display_name": "Python [Root]",
   "language": "python",
   "name": "Python [Root]"
  },
  "language_info": {
   "codemirror_mode": {
    "name": "ipython",
    "version": 3
   },
   "file_extension": ".py",
   "mimetype": "text/x-python",
   "name": "python",
   "nbconvert_exporter": "python",
   "pygments_lexer": "ipython3",
   "version": "3.5.2"
  }
 },
 "nbformat": 4,
 "nbformat_minor": 2
}
