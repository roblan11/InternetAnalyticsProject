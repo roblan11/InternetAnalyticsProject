{
 "cells": [
  {
   "cell_type": "markdown",
   "metadata": {},
   "source": [
    "# Networks: structure, evolution & processes\n",
    "**Internet Analytics - Lab 2**\n",
    "\n",
    "---\n",
    "\n",
    "**Group:** *K*\n",
    "\n",
    "**Names:**\n",
    "\n",
    "* *Robin Lang*\n",
    "* *Kim Lan Phan Hoang*\n",
    "* *Julien Harbulot*\n",
    "\n",
    "---\n",
    "\n",
    "#### Instructions\n",
    "\n",
    "*This is a template for part 4 of the lab. Clearly write your answers, comments and interpretations in Markodown cells. Don't forget that you can add $\\LaTeX$ equations in these cells. Feel free to add or remove any cell.*\n",
    "\n",
    "*Please properly comment your code. Code readability will be considered for grading. To avoid long cells of codes in the notebook, you can also embed long python functions and classes in a separate module. Don’t forget to hand in your module if that is the case. In multiple exercises, you are required to come up with your own method to solve various problems. Be creative and clearly motivate and explain your methods. Creativity and clarity will be considered for grading.*"
   ]
  },
  {
   "cell_type": "code",
   "execution_count": 1,
   "metadata": {
    "collapsed": true
   },
   "outputs": [],
   "source": [
    "import epidemics_helper\n",
    "import json\n",
    "\n",
    "import random\n",
    "import numpy as np\n",
    "import matplotlib.pyplot as plt\n",
    "%matplotlib inline\n",
    "\n",
    "import networkx as nx\n",
    "from networkx.readwrite import json_graph"
   ]
  },
  {
   "cell_type": "markdown",
   "metadata": {},
   "source": [
    "---\n",
    "\n",
    "## 2.4 PageRank\n",
    "\n",
    "### 2.4.1 Random Surfer Model\n",
    "\n",
    "#### Exercise 2.12"
   ]
  },
  {
   "cell_type": "code",
   "execution_count": 2,
   "metadata": {
    "collapsed": false
   },
   "outputs": [],
   "source": [
    "# open the files and store them as graphs\n",
    "absorbing_file = open(\"../data/absorbing.graph\", \"rb\")\n",
    "absorbing_graph = nx.read_adjlist(absorbing_file, create_using=nx.DiGraph())\n",
    "\n",
    "components_file = open(\"../data/components.graph\", \"rb\")\n",
    "components_graph = nx.read_adjlist(components_file, create_using=nx.DiGraph())\n",
    "\n",
    "wikipedia_file = open(\"../data/wikipedia.graph\", \"rb\")\n",
    "wikipedia_graph = nx.read_adjlist(wikipedia_file, create_using=nx.DiGraph())"
   ]
  },
  {
   "cell_type": "code",
   "execution_count": 3,
   "metadata": {
    "collapsed": false
   },
   "outputs": [
    {
     "data": {
      "text/plain": [
       "[1, 2, 3, 4]"
      ]
     },
     "execution_count": 3,
     "metadata": {},
     "output_type": "execute_result"
    }
   ],
   "source": [
    "test = [i for i in range(1, 5)]\n",
    "test"
   ]
  },
  {
   "cell_type": "code",
   "execution_count": 4,
   "metadata": {
    "collapsed": false
   },
   "outputs": [],
   "source": [
    "# run the random surfer algorithm of graph G for N steps\n",
    "def random_surfer(G, N = 100):\n",
    "    nodes = nx.nodes(G)\n",
    "    num_nodes = len(nodes)\n",
    "    prob = np.zeros(num_nodes)\n",
    "    first_node = random.choice(nodes)\n",
    "    \n",
    "    succ = G.successors(first_node)\n",
    "    \n",
    "    # first node has no successors\n",
    "    if len(succ) == 0:\n",
    "        prob[int(first_node)] = 1\n",
    "        return prob\n",
    "    \n",
    "    # construct probability vector\n",
    "    for n in succ:\n",
    "        prob[int(n)] = 1/len(succ)\n",
    "        \n",
    "    # do N - 1 iterations (because the first iteration was calculated prior)\n",
    "    for i in range(1, N):\n",
    "        prob_next = np.zeros(num_nodes)\n",
    "        \n",
    "        # iterate over all nodes\n",
    "        for j in nodes:\n",
    "            \n",
    "            # if the current node has probability 0 at this step, do nothing\n",
    "            if prob[int(j)] > 0:\n",
    "                succ = G.successors(j)\n",
    "                \n",
    "                # if the current node has successor(s), compute the corresponding probabilities\n",
    "                if len(succ) > 0:\n",
    "                    for n in succ:\n",
    "                        prob_next[int(n)] += prob[int(j)] / len(succ)\n",
    "                        \n",
    "                # otherwise the current node is absorbing and keeps its probability\n",
    "                else:\n",
    "                    prob_next[int(j)] += prob[int(j)]\n",
    "                    \n",
    "        # update the probability at each iteration\n",
    "        prob = prob_next\n",
    "        \n",
    "    return prob"
   ]
  },
  {
   "cell_type": "markdown",
   "metadata": {},
   "source": [
    "**random surfer on absorbing.graph**"
   ]
  },
  {
   "cell_type": "code",
   "execution_count": 5,
   "metadata": {
    "collapsed": false
   },
   "outputs": [
    {
     "data": {
      "text/plain": [
       "array([ 0.,  1.,  0.,  0.,  0.])"
      ]
     },
     "execution_count": 5,
     "metadata": {},
     "output_type": "execute_result"
    }
   ],
   "source": [
    "random_surfer(absorbing_graph)"
   ]
  },
  {
   "cell_type": "markdown",
   "metadata": {},
   "source": [
    "The resulting probabilities are either $\\{0, 1, 0, 0, 0\\}$ or is very close to that. <br>\n",
    "This shows that the second node is an dangling node, which means that it has no outgoing links. Therefore, whenever we reach (or even start at) this node, we cannot pass onto any other node. <br>\n",
    "Drawing the graph reveals that indeed, this is the case."
   ]
  },
  {
   "cell_type": "code",
   "execution_count": 6,
   "metadata": {
    "collapsed": false,
    "scrolled": true
   },
   "outputs": [
    {
     "data": {
      "image/png": "[encoded data removed]",
      "text/plain": [
       "<matplotlib.figure.Figure at 0x10e6b67f0>"
      ]
     },
     "metadata": {},
     "output_type": "display_data"
    }
   ],
   "source": [
    "nx.draw_circular(absorbing_graph)"
   ]
  },
  {
   "cell_type": "markdown",
   "metadata": {},
   "source": [
    "**random surfer on components.graph**"
   ]
  },
  {
   "cell_type": "code",
   "execution_count": 7,
   "metadata": {
    "collapsed": false
   },
   "outputs": [
    {
     "data": {
      "text/plain": [
       "array([ 0.        ,  0.        ,  0.        ,  0.        ,  0.28571351,\n",
       "        0.14285639,  0.28571438,  0.28571572])"
      ]
     },
     "execution_count": 7,
     "metadata": {},
     "output_type": "execute_result"
    }
   ],
   "source": [
    "random_surfer(components_graph)"
   ]
  },
  {
   "cell_type": "markdown",
   "metadata": {},
   "source": [
    "In this graph, after running the random surfer, either the first or the last 4 are 0. <br>\n",
    "This shows that there are two connected components, that don't have any links between them. One containing nodes $1, 2, 3, 4$ and one containing nodes $5, 6, 7, 8$. <br>\n",
    "Again, drawing the graph reveals that this is the case."
   ]
  },
  {
   "cell_type": "code",
   "execution_count": 8,
   "metadata": {
    "collapsed": false
   },
   "outputs": [
    {
     "data": {
      "image/png": "[encoded data removed]",
      "text/plain": [
       "<matplotlib.figure.Figure at 0x119adeef0>"
      ]
     },
     "metadata": {},
     "output_type": "display_data"
    }
   ],
   "source": [
    "nx.draw_circular(components_graph)"
   ]
  },
  {
   "cell_type": "markdown",
   "metadata": {},
   "source": [
    "#### Exercise 2.13"
   ]
  },
  {
   "cell_type": "markdown",
   "metadata": {},
   "source": [
    "$1.$ **Start from random node wheneven a dangling node is reached**"
   ]
  },
  {
   "cell_type": "code",
   "execution_count": 9,
   "metadata": {
    "collapsed": true
   },
   "outputs": [],
   "source": [
    "# run an improvement for the random surfer algorithm of graph G for N steps\n",
    "# in this improvement, every time an absorbing node is reached, jump to a random node\n",
    "def method1(G, N = 100):\n",
    "    nodes = nx.nodes(G)\n",
    "    num_nodes = len(nodes)\n",
    "    prob = np.zeros(num_nodes)\n",
    "    first_node = random.choice(nodes)\n",
    "    \n",
    "    succ = G.successors(first_node)\n",
    "    \n",
    "    # initialize the table of probabilities\n",
    "    if len(succ) == 0:\n",
    "        # if the initial node is absorbing, jump to a random node and set its probability to 1\n",
    "        prob[int(random.choice(nodes))] = 1\n",
    "    else:\n",
    "        # otherwise calculate the probabilities to reach each of the successors\n",
    "        for n in succ:\n",
    "            prob[int(n)] = 1/len(succ)\n",
    "    \n",
    "    # do N - 1 iterations (because the first iteration was calculated prior)\n",
    "    for i in range(1, N):\n",
    "        prob_next = np.zeros(num_nodes)\n",
    "        \n",
    "        # iterate over all nodes\n",
    "        for j in nodes:\n",
    "            \n",
    "            # if the current node has probability 0 at this step, do nothing\n",
    "            if prob[int(j)] > 0:\n",
    "                succ = G.successors(j)\n",
    "                \n",
    "                # if the current node has successor(s), compute the corresponding probabilities\n",
    "                if len(succ) > 0:\n",
    "                    for n in succ:\n",
    "                        prob_next[int(n)] += prob[int(j)] / len(succ)\n",
    "                \n",
    "                # otherwise the current node is absorbing, jump to a random node (and transfer the probability)\n",
    "                else:\n",
    "                    prob_next[int(random.choice(nodes))] += prob[int(j)]\n",
    "                    \n",
    "        # update the probability at each iteration\n",
    "        prob = prob_next\n",
    "        \n",
    "    return prob"
   ]
  },
  {
   "cell_type": "markdown",
   "metadata": {},
   "source": [
    "**method 1 on absorbing.graph**"
   ]
  },
  {
   "cell_type": "code",
   "execution_count": 10,
   "metadata": {
    "collapsed": false
   },
   "outputs": [
    {
     "data": {
      "text/plain": [
       "array([ 0.11987882,  0.50417235,  0.11987882,  0.23293624,  0.02313376])"
      ]
     },
     "execution_count": 10,
     "metadata": {},
     "output_type": "execute_result"
    }
   ],
   "source": [
    "method1(absorbing_graph)"
   ]
  },
  {
   "cell_type": "markdown",
   "metadata": {},
   "source": [
    "This time, the probabilities don't converge to any reasonable value, as every time the second node is reached (which happens quite frequently as this node has three incoming links) we jump to a random node on the network. This means that, at every step, the probabilities may drastically change."
   ]
  },
  {
   "cell_type": "markdown",
   "metadata": {},
   "source": [
    "**method 1 on components.graph**"
   ]
  },
  {
   "cell_type": "code",
   "execution_count": 11,
   "metadata": {
    "collapsed": false
   },
   "outputs": [
    {
     "data": {
      "text/plain": [
       "array([ 0.        ,  0.        ,  0.        ,  0.        ,  0.28571351,\n",
       "        0.14285639,  0.28571438,  0.28571572])"
      ]
     },
     "execution_count": 11,
     "metadata": {},
     "output_type": "execute_result"
    }
   ],
   "source": [
    "method1(components_graph)"
   ]
  },
  {
   "cell_type": "markdown",
   "metadata": {},
   "source": [
    "Since there are no dangling nodes, the probabilities remain unchanged to the previous method."
   ]
  },
  {
   "cell_type": "markdown",
   "metadata": {},
   "source": [
    "---\n",
    "$2.$ **Restart at each iteration with a certain probability**"
   ]
  },
  {
   "cell_type": "code",
   "execution_count": 12,
   "metadata": {
    "collapsed": false
   },
   "outputs": [],
   "source": [
    "# run an improvement for the random surfer algorithm of graph G for N steps, with damping factor damp\n",
    "# in this improvement, at every iteration, restart with probability damp\n",
    "def method2(G, N = 100, damp = 0.15):\n",
    "    nodes = nx.nodes(G)\n",
    "    num_nodes = len(nodes)\n",
    "    prob = np.zeros(num_nodes)\n",
    "    first_node = random.choice(nodes)\n",
    "    \n",
    "    succ = G.successors(first_node)\n",
    "    \n",
    "    # first node has no successors\n",
    "    if len(succ) == 0:\n",
    "        prob[int(first_node)] = 1\n",
    "    else:\n",
    "        # construct probability vector\n",
    "        for n in succ:\n",
    "            prob[int(n)] = 1/len(succ)\n",
    "        \n",
    "    # do N - 1 iterations (because the first iteration was calculated prior)\n",
    "    for i in range(1, N):\n",
    "        \n",
    "        # choose wether to restart or not\n",
    "        if np.random.choice([True, False], p=[damp, 1-damp]):\n",
    "            fact = i/N\n",
    "            \n",
    "            # if we're restarting, combine tho probability calculated so far\n",
    "            # with the probability of the new restart\n",
    "            # for this, scale each probability relative to the number of iterations\n",
    "            return fact*prob + (1-fact)*method2(G, N-i)\n",
    "        \n",
    "        prob_next = np.zeros(num_nodes)\n",
    "        \n",
    "        # iterate over all nodes\n",
    "        for j in nodes:\n",
    "            \n",
    "            # if the current node has probability 0 at this step, do nothing\n",
    "            if prob[int(j)] > 0:\n",
    "                succ = G.successors(j)\n",
    "                \n",
    "                # if the current node has successor(s), compute the corresponding probabilities\n",
    "                if len(succ) > 0:\n",
    "                    for n in succ:\n",
    "                        prob_next[int(n)] += prob[int(j)] / len(succ)\n",
    "                        \n",
    "                # otherwise the current node is absorbing and keeps its probability\n",
    "                else:\n",
    "                    prob_next[int(j)] += prob[int(j)]\n",
    "                    \n",
    "        # update the probability at each iteration\n",
    "        prob = prob_next\n",
    "        \n",
    "    return prob"
   ]
  },
  {
   "cell_type": "markdown",
   "metadata": {},
   "source": [
    "**method 2 on absorbing.graph**"
   ]
  },
  {
   "cell_type": "code",
   "execution_count": 13,
   "metadata": {
    "collapsed": false
   },
   "outputs": [
    {
     "data": {
      "text/plain": [
       "array([ 0.        ,  0.98421811,  0.        ,  0.0138546 ,  0.0019273 ])"
      ]
     },
     "execution_count": 13,
     "metadata": {},
     "output_type": "execute_result"
    }
   ],
   "source": [
    "method2(absorbing_graph)"
   ]
  },
  {
   "cell_type": "markdown",
   "metadata": {},
   "source": [
    "This method gives very stable probabilities. As expected, the second node has the highest probability of being reached, as it has the most incoming edges and no outgoing ones. So the only possibility to jump away from this node is when the surfer restarts, which happens with probability 15%."
   ]
  },
  {
   "cell_type": "markdown",
   "metadata": {},
   "source": [
    "**method 2 on components.graph**"
   ]
  },
  {
   "cell_type": "code",
   "execution_count": 14,
   "metadata": {
    "collapsed": false
   },
   "outputs": [
    {
     "data": {
      "text/plain": [
       "array([ 0.18679688,  0.18035156,  0.16546875,  0.07738281,  0.14125   ,\n",
       "        0.056875  ,  0.10375   ,  0.088125  ])"
      ]
     },
     "execution_count": 14,
     "metadata": {},
     "output_type": "execute_result"
    }
   ],
   "source": [
    "method2(components_graph)"
   ]
  },
  {
   "cell_type": "markdown",
   "metadata": {},
   "source": [
    "While the probabilities now all are non-zero, they still are unbalanced. Additionally, the resulting probabilities heavily seem to depend on the random jumps.<br>\n",
    "Ideally those should be balanced (i.e. the same number of iterations in each cluster) in order to get even probabilities on execution. However this rarely the case (and often not even close), which leads to the probabilities \"jumping\" around."
   ]
  },
  {
   "cell_type": "markdown",
   "metadata": {},
   "source": [
    "---\n",
    "\n",
    "### 2.4.2 Power Iteration Method\n",
    "\n",
    "#### Exercise 2.14: Power Iteration method"
   ]
  },
  {
   "cell_type": "code",
   "execution_count": 15,
   "metadata": {
    "collapsed": false
   },
   "outputs": [],
   "source": [
    "# create the w vector, which initialize the position of dangling node to 1\n",
    "def danglingNodes(G):\n",
    "    nbNodes = nx.number_of_nodes(G)\n",
    "    w = np.zeros([nbNodes,nbNodes]);\n",
    "    \n",
    "    for i in G.nodes_iter():\n",
    "        outDegreeCurrent = G.out_degree(i)\n",
    "        if(outDegreeCurrent == 0):\n",
    "            for j in G.nodes_iter():\n",
    "                w[int(i),int(j)] = 1\n",
    "    return w\n",
    "\n",
    "\n",
    "# create markov chain matrix, where position ij is the probability to go from i to j\n",
    "def markovMatrix(G):\n",
    "    nbNodes = G.number_of_nodes()\n",
    "    H = np.zeros([nbNodes,nbNodes])\n",
    "    \n",
    "    for n in G.nodes_iter():\n",
    "        outDegreeCurrent = G.out_degree(n)\n",
    "        for i in G.neighbors(n):\n",
    "            H[int(n),int(i)] = 1/outDegreeCurrent\n",
    "            \n",
    "    return H\n",
    "    \n",
    "\n",
    "# main power iteration\n",
    "def powerIteration(G, theta):\n",
    "    \n",
    "    N = G.number_of_nodes()\n",
    "    \n",
    "    w = danglingNodes(G)\n",
    "    H = markovMatrix(G)\n",
    "    \n",
    "    # initial vector pi_0\n",
    "    matrix = np.empty(N)\n",
    "    matrix.fill(1/N)\n",
    "    \n",
    "    # apply formula \n",
    "    H_hat = np.add(H, w/N)\n",
    "    Google = (theta*H_hat) + ((1-theta)/N)\n",
    "    \n",
    "    count = 0\n",
    "    while(count != 30):\n",
    "        \n",
    "        newMatrix = matrix @ Google\n",
    "        \n",
    "        # check for convergence\n",
    "        if(np.array_equal(matrix, newMatrix)):\n",
    "            count += 1\n",
    "        else :\n",
    "            count = 0\n",
    "            \n",
    "        matrix = newMatrix\n",
    "    \n",
    "    return matrix\n",
    "            "
   ]
  },
  {
   "cell_type": "code",
   "execution_count": 16,
   "metadata": {
    "collapsed": false
   },
   "outputs": [
    {
     "name": "stdout",
     "output_type": "stream",
     "text": [
      "Top 10 page ids : [2214 1651 1661 1665 1673 1675 1676 1684 1692 1693]\n"
     ]
    }
   ],
   "source": [
    "power_it = powerIteration(wikipedia_graph,0.8)\n",
    "#obtain the 10 best ids\n",
    "best10 = power_it.argsort()[:10]\n",
    "print(\"Top 10 page ids :\",best10)"
   ]
  },
  {
   "cell_type": "markdown",
   "metadata": {},
   "source": [
    "Here are the corresponding book titles :\n",
    "\n",
    "2214 - Godspell<br>\n",
    "1651 - Dr. Seuss<br>\n",
    "1661 - Dundee United F.C.<br>\n",
    "1665 - Dunstable and Whipsnade Downs<br>\n",
    "1673 - Dysphania ambrosioides<br>\n",
    "1675 - €2 commemorative coins<br>\n",
    "1676 - e (mathematical constant)<br>\n",
    "1684 - Earwax<br>\n",
    "1692 - Eastern Roman Empire<br>\n",
    "1693 - East Flemish"
   ]
  },
  {
   "cell_type": "markdown",
   "metadata": {},
   "source": [
    "---\n",
    "\n",
    "### 2.4.3 Gaming the system *(Bonus)*\n",
    "\n",
    "#### Exercise 2.15 *(Bonus)*"
   ]
  },
  {
   "cell_type": "code",
   "execution_count": 20,
   "metadata": {
    "collapsed": false
   },
   "outputs": [
    {
     "name": "stdout",
     "output_type": "stream",
     "text": [
      "Score of page History of matemathics: 9.97890687703e-05\n"
     ]
    }
   ],
   "source": [
    "score_1 = power_it[2463]\n",
    "print(\"Score of page History of matemathics:\", score_1)"
   ]
  },
  {
   "cell_type": "markdown",
   "metadata": {
    "collapsed": false
   },
   "source": [
    "The idea is to add edges between best ranked pages to our page History of matemathics. That is, our page will be more visited and thus have a better score."
   ]
  },
  {
   "cell_type": "code",
   "execution_count": 21,
   "metadata": {
    "collapsed": false
   },
   "outputs": [
    {
     "name": "stdout",
     "output_type": "stream",
     "text": [
      "At the end we obtain a score of  0.000953734890423 when we add 300 new edges, which is 9.5575086748 x higher\n"
     ]
    }
   ],
   "source": [
    "wikipedia_file1 = open(\"../data/wikipedia.graph\", \"rb\")\n",
    "G = nx.read_adjlist(wikipedia_file1, create_using=nx.DiGraph())\n",
    "\n",
    "# add new edges\n",
    "nbEdges = 300\n",
    "edgesToDelete = power_it.argsort()[:nbEdges]\n",
    "for i in edgesToDelete:\n",
    "    toNode = i\n",
    "    G.add_edge(str(toNode),'2463')\n",
    "\n",
    "score_2 = powerIteration(G, 0.8)[2463]\n",
    "print(\"At the end we obtain a score of \", score_2, \"when we add\", nbEdges, \"new edges, which is\", score_2/score_1,\"x higher\")"
   ]
  },
  {
   "cell_type": "code",
   "execution_count": null,
   "metadata": {
    "collapsed": true
   },
   "outputs": [],
   "source": []
  }
 ],
 "metadata": {
  "anaconda-cloud": {},
  "kernelspec": {
   "display_name": "Python [Root]",
   "language": "python",
   "name": "Python [Root]"
  },
  "language_info": {
   "codemirror_mode": {
    "name": "ipython",
    "version": 3
   },
   "file_extension": ".py",
   "mimetype": "text/x-python",
   "name": "python",
   "nbconvert_exporter": "python",
   "pygments_lexer": "ipython3",
   "version": "3.5.2"
  }
 },
 "nbformat": 4,
 "nbformat_minor": 2
}
