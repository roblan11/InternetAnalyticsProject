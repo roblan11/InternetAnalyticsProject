{
 "cells": [
  {
   "cell_type": "markdown",
   "metadata": {},
   "source": [
    "# Networks: structure, evolution & processes\n",
    "**Internet Analytics - Lab 2**\n",
    "\n",
    "---\n",
    "\n",
    "**Group:** *K*\n",
    "\n",
    "**Names:**\n",
    "\n",
    "* *Robin Lang*\n",
    "* *Kim Lan Phan Hoang*\n",
    "* *Julien Harbulot*\n",
    "\n",
    "---\n",
    "\n",
    "#### Instructions\n",
    "\n",
    "*This is a template for part 4 of the lab. Clearly write your answers, comments and interpretations in Markodown cells. Don't forget that you can add $\\LaTeX$ equations in these cells. Feel free to add or remove any cell.*\n",
    "\n",
    "*Please properly comment your code. Code readability will be considered for grading. To avoid long cells of codes in the notebook, you can also embed long python functions and classes in a separate module. Don’t forget to hand in your module if that is the case. In multiple exercises, you are required to come up with your own method to solve various problems. Be creative and clearly motivate and explain your methods. Creativity and clarity will be considered for grading.*"
   ]
  },
  {
   "cell_type": "code",
   "execution_count": 1,
   "metadata": {
    "collapsed": true
   },
   "outputs": [],
   "source": [
    "import epidemics_helper\n",
    "import json\n",
    "\n",
    "import random\n",
    "import numpy as np\n",
    "import matplotlib.pyplot as plt\n",
    "%matplotlib inline\n",
    "\n",
    "import networkx as nx\n",
    "from networkx.readwrite import json_graph"
   ]
  },
  {
   "cell_type": "markdown",
   "metadata": {},
   "source": [
    "---\n",
    "\n",
    "## 2.4 PageRank\n",
    "\n",
    "### 2.4.1 Random Surfer Model\n",
    "\n",
    "#### Exercise 2.12"
   ]
  },
  {
   "cell_type": "code",
   "execution_count": 2,
   "metadata": {
    "collapsed": false
   },
   "outputs": [],
   "source": [
    "# open the files and store them as graphs\n",
    "absorbing_file = open(\"../data/absorbing.graph\", \"rb\")\n",
    "absorbing_graph = nx.read_adjlist(absorbing_file, create_using=nx.DiGraph())\n",
    "\n",
    "components_file = open(\"../data/components.graph\", \"rb\")\n",
    "components_graph = nx.read_adjlist(components_file, create_using=nx.DiGraph())"
   ]
  },
  {
   "cell_type": "code",
   "execution_count": 3,
   "metadata": {
    "collapsed": false
   },
   "outputs": [],
   "source": [
    "def random_surfer(G, N = 5):\n",
    "    nodes = nx.nodes(G)\n",
    "    num_nodes = len(nodes)\n",
    "    prob = np.zeros(num_nodes)\n",
    "    first_node = random.choice(nodes)\n",
    "    \n",
    "    succ = G.successors(first_node)\n",
    "    \n",
    "    if len(succ) == 0:\n",
    "        prob[int(first_node)] = 1\n",
    "        return prob\n",
    "    \n",
    "    for n in succ:\n",
    "        prob[int(n)] = 1/len(succ)\n",
    "    \n",
    "    for i in range(N-1):\n",
    "        prob_next = np.zeros(num_nodes)\n",
    "        for j in nodes:\n",
    "            if prob[int(j)] > 0:\n",
    "                succ = G.successors(j)\n",
    "                if len(succ) > 0:\n",
    "                    for n in succ:\n",
    "                        prob_next[int(n)] += prob[int(j)] / len(succ)\n",
    "                else:\n",
    "                    prob_next[int(j)] += prob[int(j)]\n",
    "        prob = prob_next\n",
    "    return prob"
   ]
  },
  {
   "cell_type": "code",
   "execution_count": 4,
   "metadata": {
    "collapsed": false
   },
   "outputs": [
    {
     "data": {
      "text/plain": [
       "array([ 0.        ,  0.83333333,  0.        ,  0.11111111,  0.05555556])"
      ]
     },
     "execution_count": 4,
     "metadata": {},
     "output_type": "execute_result"
    }
   ],
   "source": [
    "random_surfer(absorbing_graph)"
   ]
  },
  {
   "cell_type": "code",
   "execution_count": 5,
   "metadata": {
    "collapsed": false
   },
   "outputs": [
    {
     "data": {
      "text/plain": [
       "array([ 0. ,  0. ,  0. ,  0. ,  0. ,  0. ,  0.5,  0.5])"
      ]
     },
     "execution_count": 5,
     "metadata": {},
     "output_type": "execute_result"
    }
   ],
   "source": [
    "random_surfer(components_graph)"
   ]
  },
  {
   "cell_type": "markdown",
   "metadata": {},
   "source": [
    "#### Exercise 2.13"
   ]
  },
  {
   "cell_type": "code",
   "execution_count": 6,
   "metadata": {
    "collapsed": true
   },
   "outputs": [],
   "source": [
    "def method1(G, N = 5):\n",
    "    nodes = nx.nodes(G)\n",
    "    num_nodes = len(nodes)\n",
    "    prob = np.zeros(num_nodes)\n",
    "    first_node = random.choice(nodes)\n",
    "    \n",
    "    succ = G.successors(first_node)\n",
    "    \n",
    "    if len(succ) == 0:\n",
    "        prob[int(first_node)] = 1\n",
    "        return prob\n",
    "    \n",
    "    for n in succ:\n",
    "        prob[int(n)] = 1/len(succ)\n",
    "    \n",
    "    for i in range(N-1):\n",
    "        prob_next = np.zeros(num_nodes)\n",
    "        for j in nodes:\n",
    "            if prob[int(j)] > 0:\n",
    "                succ = G.successors(j)\n",
    "                if len(succ) > 0:\n",
    "                    for n in succ:\n",
    "                        prob_next[int(n)] += prob[int(j)] / len(succ)\n",
    "                else:\n",
    "                    prob_next[int(random.choice(nodes))] += prob[int(j)]\n",
    "        prob = prob_next\n",
    "    return prob"
   ]
  },
  {
   "cell_type": "code",
   "execution_count": 7,
   "metadata": {
    "collapsed": false
   },
   "outputs": [
    {
     "data": {
      "text/plain": [
       "array([ 0.06360044,  0.46061609,  0.06360044,  0.0096789 ,  0.40250413])"
      ]
     },
     "execution_count": 7,
     "metadata": {},
     "output_type": "execute_result"
    }
   ],
   "source": [
    "method1(absorbing_graph, 100)"
   ]
  },
  {
   "cell_type": "code",
   "execution_count": 8,
   "metadata": {
    "collapsed": false
   },
   "outputs": [
    {
     "data": {
      "text/plain": [
       "array([ 0.28571351,  0.28571278,  0.28571572,  0.14285799,  0.        ,\n",
       "        0.        ,  0.        ,  0.        ])"
      ]
     },
     "execution_count": 8,
     "metadata": {},
     "output_type": "execute_result"
    }
   ],
   "source": [
    "method1(components_graph, 100)"
   ]
  },
  {
   "cell_type": "code",
   "execution_count": 9,
   "metadata": {
    "collapsed": true
   },
   "outputs": [],
   "source": [
    "def method2(G, N = 5, damp = 0.15):\n",
    "    nodes = nx.nodes(G)\n",
    "    num_nodes = len(nodes)\n",
    "    prob = np.zeros(num_nodes)\n",
    "    first_node = random.choice(nodes)\n",
    "    \n",
    "    succ = G.successors(first_node)\n",
    "    \n",
    "    if len(succ) == 0:\n",
    "        prob[int(first_node)] = 1\n",
    "        return prob\n",
    "    \n",
    "    for n in succ:\n",
    "        prob[int(n)] = 1/len(succ)\n",
    "        \n",
    "    for i in range(N-1):\n",
    "        if np.random.choice([True, False], p=[damp, 1-damp]):\n",
    "            print(\"1-2-SWITCH\")\n",
    "        prob_next = np.zeros(num_nodes)\n",
    "        for j in nodes:\n",
    "            if prob[int(j)] > 0:\n",
    "                succ = G.successors(j)\n",
    "                if len(succ) > 0:\n",
    "                    for n in succ:\n",
    "                        prob_next[int(n)] += prob[int(j)] / len(succ)\n",
    "                else:\n",
    "                    prob_next[int(j)] += prob[int(j)]\n",
    "        prob = prob_next\n",
    "    return prob"
   ]
  },
  {
   "cell_type": "code",
   "execution_count": 10,
   "metadata": {
    "collapsed": false
   },
   "outputs": [
    {
     "data": {
      "text/plain": [
       "array([ 0.,  1.,  0.,  0.,  0.])"
      ]
     },
     "execution_count": 10,
     "metadata": {},
     "output_type": "execute_result"
    }
   ],
   "source": [
    "method2(absorbing_graph, 100)"
   ]
  },
  {
   "cell_type": "markdown",
   "metadata": {},
   "source": [
    "---\n",
    "\n",
    "### 2.4.2 Power Iteration Method\n",
    "\n",
    "#### Exercise 2.14: Power Iteration method"
   ]
  },
  {
   "cell_type": "code",
   "execution_count": 11,
   "metadata": {
    "collapsed": false
   },
   "outputs": [
    {
     "name": "stdout",
     "output_type": "stream",
     "text": [
      "[ 0.09333333  0.38666667  0.09333333  0.11466667  0.07733333]\n"
     ]
    },
    {
     "data": {
      "text/plain": [
       "0.76533333333333342"
      ]
     },
     "execution_count": 11,
     "metadata": {},
     "output_type": "execute_result"
    }
   ],
   "source": [
    "def danglingNodes(G):\n",
    "    nbNodes = nx.number_of_nodes(G)\n",
    "    w = np.zeros(nbNodes);\n",
    "    \n",
    "    for i in G.nodes_iter():\n",
    "        outDegreeCurrent = G.out_degree(i)\n",
    "        if(outDegreeCurrent == 0):\n",
    "            w[int(i)] = 1\n",
    "    return w\n",
    "\n",
    "\n",
    "def markovMatrix(G):\n",
    "    nbNodes = G.number_of_nodes()\n",
    "    H = np.zeros([nbNodes,nbNodes])\n",
    "    \n",
    "    for n in G.nodes_iter():\n",
    "        outDegreeCurrent = G.out_degree(n)\n",
    "        for i in G.neighbors(n):\n",
    "            H[int(n),int(i)] = 1/outDegreeCurrent\n",
    "    return H\n",
    "    \n",
    "    \n",
    "def powerIteration(G, run, theta):\n",
    "    \n",
    "    N = G.number_of_nodes()\n",
    "    \n",
    "    w = danglingNodes(G)\n",
    "    \n",
    "    matrix = np.empty(N)\n",
    "    matrix.fill(1/N)\n",
    "    \n",
    "    H = markovMatrix(G)\n",
    "\n",
    "    H_hat = np.add(H, w/N)\n",
    "\n",
    "    Google = (theta*H_hat) + ((1-theta)/N)\n",
    "    \n",
    "    for i in range(run):\n",
    "        \n",
    "        matrix = matrix @ Google\n",
    "        \n",
    "    return matrix\n",
    "\n",
    "\n",
    "m = powerIteration(absorbing_graph,2,0.8)\n",
    "print(m)\n",
    "sum(m)"
   ]
  },
  {
   "cell_type": "markdown",
   "metadata": {},
   "source": [
    "---\n",
    "\n",
    "### 2.4.3 Gaming the system *(Bonus)*\n",
    "\n",
    "#### Exercise 2.15 *(Bonus)*"
   ]
  },
  {
   "cell_type": "code",
   "execution_count": null,
   "metadata": {
    "collapsed": true
   },
   "outputs": [],
   "source": []
  }
 ],
 "metadata": {
  "anaconda-cloud": {},
  "kernelspec": {
   "display_name": "Python [Root]",
   "language": "python",
   "name": "Python [Root]"
  },
  "language_info": {
   "codemirror_mode": {
    "name": "ipython",
    "version": 3
   },
   "file_extension": ".py",
   "mimetype": "text/x-python",
   "name": "python",
   "nbconvert_exporter": "python",
   "pygments_lexer": "ipython3",
   "version": "3.5.2"
  }
 },
 "nbformat": 4,
 "nbformat_minor": 2
}
