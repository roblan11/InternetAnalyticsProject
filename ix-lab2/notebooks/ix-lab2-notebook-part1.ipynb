{
 "cells": [
  {
   "cell_type": "markdown",
   "metadata": {},
   "source": [
    "# Networks: structure, evolution & processes\n",
    "**Internet Analytics - Lab 2**\n",
    "\n",
    "---\n",
    "\n",
    "**Group:** *K*\n",
    "\n",
    "**Names:**\n",
    "\n",
    "* *Robin Lang*\n",
    "* *Kim Lan Phan Hoang*\n",
    "* *Julien Harbulot*\n",
    "\n",
    "---\n",
    "\n",
    "#### Instructions\n",
    "\n",
    "*This is a template for part 1 of the lab. Clearly write your answers, comments and interpretations in Markodown cells. Don't forget that you can add $\\LaTeX$ equations in these cells. Feel free to add or remove any cell.*\n",
    "\n",
    "*Please properly comment your code. Code readability will be considered for grading. To avoid long cells of codes in the notebook, you can also embed long python functions and classes in a separate module. Don’t forget to hand in your module if that is the case. In multiple exercises, you are required to come up with your own method to solve various problems. Be creative and clearly motivate and explain your methods. Creativity and clarity will be considered for grading.*"
   ]
  },
  {
   "cell_type": "code",
   "execution_count": 1,
   "metadata": {
    "collapsed": true
   },
   "outputs": [],
   "source": [
    "import networkx as nx\n",
    "import matplotlib.pyplot as plt\n",
    "%matplotlib inline\n",
    "import numpy as np"
   ]
  },
  {
   "cell_type": "code",
   "execution_count": null,
   "metadata": {
    "collapsed": true
   },
   "outputs": [],
   "source": [
    "plt.rcParams['figure.figsize'] = (20.0, 10.0)\n",
    "plt.rcParams['image.interpolation'] = 'nearest'"
   ]
  },
  {
   "cell_type": "markdown",
   "metadata": {},
   "source": [
    "---\n",
    "\n",
    "## 2.1 Exploration of real networks\n",
    "\n",
    "#### Exercise 2.1"
   ]
  },
  {
   "cell_type": "code",
   "execution_count": 2,
   "metadata": {
    "collapsed": false
   },
   "outputs": [],
   "source": [
    "G_n1 = nx.read_edgelist('../data/network1.csv', delimiter=',', nodetype=int, encoding=\"utf-8\")"
   ]
  },
  {
   "cell_type": "code",
   "execution_count": 3,
   "metadata": {
    "collapsed": false
   },
   "outputs": [
    {
     "name": "stdout",
     "output_type": "stream",
     "text": [
      "# Nodes:  13033\n",
      "# Edges:  18584\n"
     ]
    }
   ],
   "source": [
    "num_nodes1 = nx.number_of_nodes(G_n1)\n",
    "print(\"# Nodes: \", num_nodes1)\n",
    "\n",
    "num_edges1 = nx.number_of_edges(G_n1)\n",
    "print(\"# Edges: \", num_edges1)"
   ]
  },
  {
   "cell_type": "markdown",
   "metadata": {},
   "source": [
    "### Exercise 2.2:  Node degree distribution"
   ]
  },
  {
   "cell_type": "markdown",
   "metadata": {},
   "source": [
    "**What kind of plot do you think is useful for this task?**\n",
    "- to plot a distribution, histograms are a good choice\n",
    "\n",
    "**Can you list some of the properties of the degree distribution?**\n",
    "- this distribution is highly right-skewed (I had to plot the log to see anything)\n",
    "- this distribution seems to follow a power-law\n",
    "- both those properties are generally verified by social graphs\n",
    "\n",
    "**Is it close to a well-known probability distribution? If so, provide an estimation of its\n",
    "parameter(s)?**\n",
    "\n",
    "- this distribution seems close to a power-law distibution $P(k) = k^{−l}$ where $l$ is a constant. We estimate $l = TODO$"
   ]
  },
  {
   "cell_type": "code",
   "execution_count": 4,
   "metadata": {
    "collapsed": false
   },
   "outputs": [
    {
     "data": {
      "text/plain": [
       "<matplotlib.text.Text at 0x111a7c7f0>"
      ]
     },
     "execution_count": 4,
     "metadata": {},
     "output_type": "execute_result"
    },
    {
     "data": {
      "image/png": "[encoded data removed]",
      "text/plain": [
       "<matplotlib.figure.Figure at 0x10db59b70>"
      ]
     },
     "metadata": {},
     "output_type": "display_data"
    }
   ],
   "source": [
    "d = list(nx.degree(G_n1).values())\n",
    "plt.hist(d, log=True, normed=True)\n",
    "plt.title(\"Degree rank plot (log)\")\n",
    "plt.ylabel(\"Frequency\")\n",
    "plt.xlabel(\"Degree\")\n",
    "#TODO plot the power-law distribution on the histogram"
   ]
  },
  {
   "cell_type": "code",
   "execution_count": null,
   "metadata": {
    "collapsed": true
   },
   "outputs": [],
   "source": []
  },
  {
   "cell_type": "markdown",
   "metadata": {},
   "source": [
    "#### Exercise 2.3: Giant component"
   ]
  },
  {
   "cell_type": "markdown",
   "metadata": {},
   "source": [
    "There is a giant Component. Indeed, there are 13'033 nodes in the graph and this biggest component contains 12'576 of them, which is a significant fraction. Computation in the cell below."
   ]
  },
  {
   "cell_type": "code",
   "execution_count": 5,
   "metadata": {
    "collapsed": false
   },
   "outputs": [
    {
     "name": "stdout",
     "output_type": "stream",
     "text": [
      "Number of connected Components =  192\n",
      "Size of biggest connected component =  12576\n",
      "Size of graph =  13033\n"
     ]
    }
   ],
   "source": [
    "num_conn_comp1 = nx.number_connected_components(G_n1)\n",
    "print(\"Number of connected Components = \", num_conn_comp1)\n",
    "\n",
    "max = 0\n",
    "biggest_component1 = []\n",
    "for i in nx.connected_components(G_n1):\n",
    "    if(len(i) > max): \n",
    "        max = len(i)\n",
    "        biggest_component1 = i\n",
    "\n",
    "print(\"Size of biggest connected component = \", len(biggest_component1))\n",
    "print(\"Size of graph = \", num_nodes1)"
   ]
  },
  {
   "cell_type": "markdown",
   "metadata": {},
   "source": [
    "#### Exercise 2.4: Short paths & Small-worlds"
   ]
  },
  {
   "cell_type": "markdown",
   "metadata": {},
   "source": [
    "As shown in the shortest path length distribution below, nodes in this graph as separated by an average of 4 degree of separation. This graph is thus a small world."
   ]
  },
  {
   "cell_type": "code",
   "execution_count": 6,
   "metadata": {
    "collapsed": false
   },
   "outputs": [
    {
     "name": "stdout",
     "output_type": "stream",
     "text": [
      "computing shortest paths (this takes time)...\n",
      "aggrgating lengthes...\n",
      "computing plot...\n"
     ]
    },
    {
     "data": {
      "image/png": "[encoded data removed]",
      "text/plain": [
       "<matplotlib.figure.Figure at 0x1142d4470>"
      ]
     },
     "metadata": {},
     "output_type": "display_data"
    }
   ],
   "source": [
    "print(\"computing shortest paths (this takes time)...\")\n",
    "dic = nx.shortest_path_length(G_n1) #dic[ node_1 ][ node_2 ] = dist_btw_1_and_2\n",
    "print(\"aggrgating lengthes...\")\n",
    "lenghtes = [] # aggregates path lengthes \n",
    "for subdict in dic.values():\n",
    "    for length in subdict.values():\n",
    "        lenghtes.append(length)\n",
    "print(\"computing plot...\")\n",
    "plt.hist(lenghtes) # plot lenghtes using histogram\n",
    "plt.title(\"Distribution of shortest path lenghtes\")\n",
    "plt.xlabel(\"Lenghtes\")\n",
    "plt.ylabel(\"Frequency\")\n",
    "plt.show()"
   ]
  },
  {
   "cell_type": "markdown",
   "metadata": {},
   "source": [
    "#### Exercise 2.5: Network comparison"
   ]
  },
  {
   "cell_type": "code",
   "execution_count": 7,
   "metadata": {
    "collapsed": true
   },
   "outputs": [],
   "source": [
    "G_n2 = nx.read_edgelist('../data/network2.csv', delimiter=',', nodetype=int, encoding=\"utf-8\")"
   ]
  },
  {
   "cell_type": "code",
   "execution_count": 8,
   "metadata": {
    "collapsed": false
   },
   "outputs": [
    {
     "name": "stdout",
     "output_type": "stream",
     "text": [
      "# Nodes:  26542\n",
      "# Edges:  43516\n"
     ]
    }
   ],
   "source": [
    "num_nodes2 = nx.number_of_nodes(G_n2)\n",
    "print(\"# Nodes: \", num_nodes2)\n",
    "\n",
    "num_edges2 = nx.number_of_edges(G_n2)\n",
    "print(\"# Edges: \", num_edges2)"
   ]
  },
  {
   "cell_type": "code",
   "execution_count": 9,
   "metadata": {
    "collapsed": false
   },
   "outputs": [
    {
     "data": {
      "text/plain": [
       "[<matplotlib.lines.Line2D at 0x11479b588>]"
      ]
     },
     "execution_count": 9,
     "metadata": {},
     "output_type": "execute_result"
    },
    {
     "data": {
      "image/png": "[encoded data removed]",
      "text/plain": [
       "<matplotlib.figure.Figure at 0x114282208>"
      ]
     },
     "metadata": {},
     "output_type": "display_data"
    }
   ],
   "source": [
    "G_n2.degree(135627)\n",
    "\n",
    "Y2 = np.zeros(num_nodes2)\n",
    "j = 0\n",
    "for i in G_n2.nodes():\n",
    "    Y2[j] = G_n2.degree(i)\n",
    "    j += 1\n",
    "\n",
    "Y2.sort()\n",
    "plt.loglog(np.arange(num_nodes2), Y2, '.-')"
   ]
  },
  {
   "cell_type": "code",
   "execution_count": 10,
   "metadata": {
    "collapsed": false
   },
   "outputs": [
    {
     "name": "stdout",
     "output_type": "stream",
     "text": [
      "# Connected Components:  5\n",
      "\n",
      "Size of biggest connected component:  26481\n"
     ]
    }
   ],
   "source": [
    "num_conn_comp2 = nx.number_connected_components(G_n2)\n",
    "print(\"# Connected Components: \", num_conn_comp2)\n",
    "\n",
    "max = 0\n",
    "biggest_component2 = []\n",
    "for i in nx.connected_components(G_n2):\n",
    "    if(len(i) > max): \n",
    "        max = len(i)\n",
    "        biggest_component2 = i\n",
    "\n",
    "print(\"\\nSize of biggest connected component: \", len(biggest_component2))"
   ]
  },
  {
   "cell_type": "markdown",
   "metadata": {},
   "source": [
    "So yes, there is a giant Component, as there are 26'582 edges and this biggest component contains 26'481 of them, which is a significant fraction."
   ]
  },
  {
   "cell_type": "markdown",
   "metadata": {},
   "source": [
    "#### Exercise 2.6: Network identification"
   ]
  },
  {
   "cell_type": "markdown",
   "metadata": {
    "collapsed": true
   },
   "source": [
    "The network representing a city of New York is the second one since the biggest degree we can have for a node is really small (8)\n",
    "(it is clearly impossible to have more than 60 roads for an intersection) while the first one has a enormous degree number."
   ]
  },
  {
   "cell_type": "code",
   "execution_count": null,
   "metadata": {
    "collapsed": true
   },
   "outputs": [],
   "source": []
  }
 ],
 "metadata": {
  "anaconda-cloud": {},
  "kernelspec": {
   "display_name": "Python [Root]",
   "language": "python",
   "name": "Python [Root]"
  },
  "language_info": {
   "codemirror_mode": {
    "name": "ipython",
    "version": 3
   },
   "file_extension": ".py",
   "mimetype": "text/x-python",
   "name": "python",
   "nbconvert_exporter": "python",
   "pygments_lexer": "ipython3",
   "version": "3.5.2"
  }
 },
 "nbformat": 4,
 "nbformat_minor": 2
}
