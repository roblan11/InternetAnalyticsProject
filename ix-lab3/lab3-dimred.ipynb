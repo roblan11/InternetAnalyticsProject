{
 "cells": [
  {
   "cell_type": "markdown",
   "metadata": {},
   "source": [
    "# Lab 3 — dimensionality reduction\n",
    "**Internet Analytics - Lab 3**\n",
    "\n",
    "---\n",
    "\n",
    "**Group:** *K*\n",
    "\n",
    "**Names:**\n",
    "\n",
    "* *Robin Lang*\n",
    "* *Kim Lan Phan Hoang*"
   ]
  },
  {
   "cell_type": "code",
   "execution_count": 1,
   "metadata": {
    "collapsed": false
   },
   "outputs": [],
   "source": [
    "import json\n",
    "import matplotlib.pyplot as plt\n",
    "import numpy as np\n",
    "import numpy.linalg as la\n",
    "\n",
    "import pickle\n",
    "\n",
    "%matplotlib inline\n",
    "plt.style.use(\"ggplot\")\n",
    "\n",
    "relevance_file_name = \"relevance_array.npy\""
   ]
  },
  {
   "cell_type": "markdown",
   "metadata": {},
   "source": [
    "## Exercice 3.1"
   ]
  },
  {
   "cell_type": "markdown",
   "metadata": {},
   "source": [
    "### Construct the data matrix using PySpark on the cluster, create the array containing all the ratings from `genome-scores.txt`"
   ]
  },
  {
   "cell_type": "code",
   "execution_count": 61,
   "metadata": {
    "collapsed": true
   },
   "outputs": [],
   "source": [
    "movies = sc.textFile(\"/ix/ml-20m/movies.txt\").map(json.loads)\n",
    "tags = sc.textFile(\"/ix/ml-20m/genome-tags.txt\").map(json.loads)\n",
    "data = sc.textFile(\"/ix/ml-20m/genome-scores.txt\").map(json.loads)"
   ]
  },
  {
   "cell_type": "code",
   "execution_count": 10,
   "metadata": {
    "collapsed": false
   },
   "outputs": [],
   "source": [
    "n_movies = movies.map(lambda x: x[\"movieId\"]).max()\n",
    "n_tags = tags.map(lambda x: x[\"tagId\"]).max()"
   ]
  },
  {
   "cell_type": "code",
   "execution_count": 11,
   "metadata": {
    "collapsed": false
   },
   "outputs": [
    {
     "name": "stdout",
     "output_type": "stream",
     "text": [
      "movies: 131262 | tags: 1128\n"
     ]
    }
   ],
   "source": [
    "print(\"movies:\", n_movies, \"| tags:\", n_tags)"
   ]
  },
  {
   "cell_type": "code",
   "execution_count": 2,
   "metadata": {
    "collapsed": false
   },
   "outputs": [
    {
     "ename": "NameError",
     "evalue": "name 'n_tags' is not defined",
     "output_type": "error",
     "traceback": [
      "\u001b[1;31m---------------------------------------------------------------------------\u001b[0m",
      "\u001b[1;31mNameError\u001b[0m                                 Traceback (most recent call last)",
      "\u001b[1;32m<ipython-input-2-462d38086c55>\u001b[0m in \u001b[0;36m<module>\u001b[1;34m()\u001b[0m\n\u001b[1;32m----> 1\u001b[1;33m \u001b[0mrelevance_array\u001b[0m \u001b[1;33m=\u001b[0m \u001b[0mnp\u001b[0m\u001b[1;33m.\u001b[0m\u001b[0mzeros\u001b[0m\u001b[1;33m(\u001b[0m\u001b[1;33m(\u001b[0m\u001b[0mn_tags\u001b[0m\u001b[1;33m,\u001b[0m \u001b[0mn_movies\u001b[0m\u001b[1;33m)\u001b[0m\u001b[1;33m,\u001b[0m \u001b[0mdtype\u001b[0m\u001b[1;33m=\u001b[0m\u001b[0mfloat\u001b[0m\u001b[1;33m)\u001b[0m\u001b[1;33m\u001b[0m\u001b[0m\n\u001b[0m\u001b[0;32m      2\u001b[0m \u001b[1;33m\u001b[0m\u001b[0m\n\u001b[0;32m      3\u001b[0m \u001b[1;32mfor\u001b[0m \u001b[0mi\u001b[0m \u001b[1;32min\u001b[0m \u001b[0mdata\u001b[0m\u001b[1;33m.\u001b[0m\u001b[0mtoLocalIterator\u001b[0m\u001b[1;33m(\u001b[0m\u001b[1;33m)\u001b[0m\u001b[1;33m:\u001b[0m\u001b[1;33m\u001b[0m\u001b[0m\n\u001b[0;32m      4\u001b[0m     \u001b[1;31m# we substract 1 from each index, to avoid the forst row / colon being empty,\u001b[0m\u001b[1;33m\u001b[0m\u001b[1;33m\u001b[0m\u001b[0m\n\u001b[0;32m      5\u001b[0m     \u001b[1;31m# as the ids start at 1\u001b[0m\u001b[1;33m\u001b[0m\u001b[1;33m\u001b[0m\u001b[0m\n",
      "\u001b[1;31mNameError\u001b[0m: name 'n_tags' is not defined"
     ]
    }
   ],
   "source": [
    "relevance_array = np.zeros((n_tags, n_movies), dtype=float)\n",
    "\n",
    "for i in data.toLocalIterator():\n",
    "    # we substract 1 from each index, to avoid the forst row / colon being empty,\n",
    "    # as the ids start at 1\n",
    "    relevance_array[i[\"tagId\"]-1][i[\"movieId\"]-1] = i[\"relevance\"]"
   ]
  },
  {
   "cell_type": "markdown",
   "metadata": {},
   "source": [
    "The following code allows us to use the previously done computations, so that we don't need to relaunch the expensive computation of the matrix, nor need the cluster, freeing up ressources for others."
   ]
  },
  {
   "cell_type": "markdown",
   "metadata": {},
   "source": [
    "Save the computed array to a file on disk"
   ]
  },
  {
   "cell_type": "code",
   "execution_count": 4,
   "metadata": {
    "collapsed": false
   },
   "outputs": [
    {
     "ename": "NameError",
     "evalue": "name 'relevance_array' is not defined",
     "output_type": "error",
     "traceback": [
      "\u001b[1;31m---------------------------------------------------------------------------\u001b[0m",
      "\u001b[1;31mNameError\u001b[0m                                 Traceback (most recent call last)",
      "\u001b[1;32m<ipython-input-4-513facffa93a>\u001b[0m in \u001b[0;36m<module>\u001b[1;34m()\u001b[0m\n\u001b[1;32m----> 1\u001b[1;33m \u001b[0mnp\u001b[0m\u001b[1;33m.\u001b[0m\u001b[0msave\u001b[0m\u001b[1;33m(\u001b[0m\u001b[0mrelevance_file_name\u001b[0m\u001b[1;33m,\u001b[0m \u001b[0mrelevance_array\u001b[0m\u001b[1;33m)\u001b[0m\u001b[1;33m\u001b[0m\u001b[0m\n\u001b[0m",
      "\u001b[1;31mNameError\u001b[0m: name 'relevance_array' is not defined"
     ]
    }
   ],
   "source": [
    "np.save(relevance_file_name, relevance_array)"
   ]
  },
  {
   "cell_type": "code",
   "execution_count": 2,
   "metadata": {
    "collapsed": false
   },
   "outputs": [],
   "source": [
    "relevance_array = np.load(relevance_file_name)\n",
    "\n",
    "n_movies = len(relevance_array[1])\n",
    "n_tags = len(relevance_array)"
   ]
  },
  {
   "cell_type": "markdown",
   "metadata": {},
   "source": [
    "### Plot the variance of each dimension / tag."
   ]
  },
  {
   "cell_type": "code",
   "execution_count": 3,
   "metadata": {
    "collapsed": true
   },
   "outputs": [],
   "source": [
    "# compute the variance of each tag and save it into an array\n",
    "rel_var = []\n",
    "for i in relevance_array:\n",
    "    rel_var.append(np.var(i))"
   ]
  },
  {
   "cell_type": "code",
   "execution_count": 34,
   "metadata": {
    "collapsed": false
   },
   "outputs": [
    {
     "data": {
      "image/png": "[encoded data removed]",
      "text/plain": [
       "<matplotlib.figure.Figure at 0x7f3d2982cb00>"
      ]
     },
     "metadata": {},
     "output_type": "display_data"
    }
   ],
   "source": [
    "# plot the variances\n",
    "fig, (ax1, ax2) = plt.subplots(ncols=2, figsize=(12, 3), sharey=True)\n",
    "fig.text(0.5, 0.0, 'tag index', ha='center')\n",
    "fig.text(0.05, 0.5, 'variance', va='center', rotation='vertical')\n",
    "\n",
    "ax1.plot(rel_var)\n",
    "ax1.set_title(\"unsorted variances\")\n",
    "\n",
    "ax2.plot(sorted(rel_var))\n",
    "ax2.set_title(\"sorted variances\")\n",
    "plt.show()"
   ]
  },
  {
   "cell_type": "markdown",
   "metadata": {},
   "source": [
    "\n",
    "### Plot the eigenvalues of the covariance matrix."
   ]
  },
  {
   "cell_type": "code",
   "execution_count": 3,
   "metadata": {
    "collapsed": false
   },
   "outputs": [],
   "source": [
    "# compute covariance matrix\n",
    "rel_cov = np.cov(relevance_array)\n",
    "# the formula is:\n",
    "#   rel_cov = 1/n_tags * relevance_array.T @ relevance_array\n",
    "# which gives the same result as the above formula, but is way slower\n",
    "\n",
    "# compute the eigenvalues and -vectors\n",
    "rel_eigvals, rel_eigvecs = la.eigh(rel_cov)"
   ]
  },
  {
   "cell_type": "code",
   "execution_count": 31,
   "metadata": {
    "collapsed": false,
    "scrolled": true
   },
   "outputs": [
    {
     "data": {
      "image/png": "[encoded data removed]",
      "text/plain": [
       "<matplotlib.figure.Figure at 0x7f3d1af32208>"
      ]
     },
     "metadata": {},
     "output_type": "display_data"
    }
   ],
   "source": [
    "# plot the eigenvalues\n",
    "plt.loglog(rel_eigvals)\n",
    "plt.title(\"eigenvalues of the covariance matrix (loglog plot)\")\n",
    "plt.xlabel(\"index\")\n",
    "plt.ylabel(\"eigenvalue\")\n",
    "plt.show()"
   ]
  },
  {
   "cell_type": "markdown",
   "metadata": {},
   "source": [
    "### Explain the implications for dimensionality reduction.\n",
    "\n",
    "Most eigenvalues are very small (between $10^{-5}$ and $10^{-3}$), with very few large values. <br>\n",
    "Since the dimensionality of the data is carried by the eigenvalues, this means that few eigenvalues are required to keep a significant portion of the variability (large eigenvalues capture a large part of the values).\n",
    "\n",
    "For example:\n",
    "\n",
    "**How many principal directions do you need to capture $2 \\over 3$ of the variability in the data?**"
   ]
  },
  {
   "cell_type": "code",
   "execution_count": 28,
   "metadata": {
    "collapsed": false
   },
   "outputs": [
    {
     "name": "stdout",
     "output_type": "stream",
     "text": [
      "to capture 2/3 of the variability you need 3 principal directions\n"
     ]
    }
   ],
   "source": [
    "# compute the sum of all eigenvalues.\n",
    "# 2/3 of the variability will be carried by eigenvalues that cover 2/3 of that sum\n",
    "sum_eig = sum(rel_eigvals)\n",
    "s = 0\n",
    "n_eigvals = len(rel_eigvals)\n",
    "count = 0\n",
    "\n",
    "while s < sum_eig*2/3:\n",
    "    # the eigenvalues are sorted from smallest to largest,\n",
    "    # so to get the n-th largest, all that is needed is to get the\n",
    "    # n-th last element from the array\n",
    "    s += rel_eigvals[n_eigvals-count-1]\n",
    "    count += 1\n",
    "\n",
    "print(\"to capture 2/3 of the variability you need\", count, \"principal directions\")\n"
   ]
  },
  {
   "cell_type": "markdown",
   "metadata": {},
   "source": [
    "## Exercice 3.2"
   ]
  },
  {
   "cell_type": "markdown",
   "metadata": {},
   "source": [
    "### For the five first principal directions, find the 10 tags that have the highest and lowest coordinates in that direction."
   ]
  },
  {
   "cell_type": "code",
   "execution_count": 29,
   "metadata": {
    "collapsed": false
   },
   "outputs": [],
   "source": [
    "# first 5 principal directions, which are the eigenvectors whose eigenvalues are the largest\n",
    "rel_dirs = []\n",
    "for i in range(5):\n",
    "    rel_dirs.append(rel_cov @ rel_eigvecs[-i-1])"
   ]
  },
  {
   "cell_type": "code",
   "execution_count": 122,
   "metadata": {
    "collapsed": true
   },
   "outputs": [],
   "source": [
    "# retrieve the name of a tag by index\n",
    "def getTagName(i):\n",
    "    return tags.filter(lambda x: x[\"tagId\"] == i+1).take(1)[0][\"tag\"]\n",
    "\n",
    "# print the names from a list of tag indices\n",
    "def printTags(l, dir):\n",
    "    for i in l:\n",
    "        print(\"   \", dir[i], \":\", getTagName(i))"
   ]
  },
  {
   "cell_type": "code",
   "execution_count": 123,
   "metadata": {
    "collapsed": false
   },
   "outputs": [],
   "source": [
    "def find_tags(direction):\n",
    "    # find indeces of 10 highest / lowest entries\n",
    "    top10 = np.argsort(-direction)[:10]\n",
    "    bottom10 = np.argsort(direction)[:10]\n",
    "\n",
    "    print(\"  top10 (largest to smallest):\")\n",
    "    printTags(top10, direction)\n",
    "    print(\"  bottom10 (smallest to largest):\")\n",
    "    printTags(bottom10, direction)"
   ]
  },
  {
   "cell_type": "code",
   "execution_count": 124,
   "metadata": {
    "collapsed": false,
    "scrolled": false
   },
   "outputs": [
    {
     "name": "stdout",
     "output_type": "stream",
     "text": [
      "1st principal direction:\n",
      "  top10 (largest to smallest):\n",
      "    0.00408974341015 : original\n",
      "    0.00306611406518 : great ending\n",
      "    0.00293642113118 : mentor\n",
      "    0.00292593174661 : dialogue\n",
      "    0.00277424141257 : great\n",
      "    0.00276465655914 : story\n",
      "    0.00273015860636 : storytelling\n",
      "    0.00268612542398 : good\n",
      "    0.0026220352338 : good soundtrack\n",
      "    0.00255990893073 : catastrophe\n",
      "  bottom10 (smallest to largest):\n",
      "    1.93366137854e-05 : hannibal lecter\n",
      "    3.01643721523e-05 : iraq war\n",
      "    3.52018897445e-05 : swedish\n",
      "    3.87716669739e-05 : batman\n",
      "    4.1120358451e-05 : vietnam war\n",
      "    4.30617257492e-05 : beatles\n",
      "    4.99244950592e-05 : 9/11\n",
      "    5.02116196097e-05 : iran\n",
      "    5.33817393121e-05 : neo-nazis\n",
      "    5.38058466111e-05 : aardman\n",
      "\n",
      "2nd principal direction:\n",
      "  top10 (largest to smallest):\n",
      "    0.00119078919816 : predictable\n",
      "    0.000996382298644 : action\n",
      "    0.000988587903866 : so bad it's funny\n",
      "    0.000890407629481 : bad plot\n",
      "    0.000818849036364 : good action\n",
      "    0.000804662743984 : original\n",
      "    0.000789374647304 : fun movie\n",
      "    0.000772887344852 : teen movie\n",
      "    0.000759640566387 : bad acting\n",
      "    0.000740348808374 : franchise\n",
      "  bottom10 (smallest to largest):\n",
      "    -0.000592134380588 : masterpiece\n",
      "    -0.00051008566307 : poignant\n",
      "    -0.000509319661436 : beautifully filmed\n",
      "    -0.000502819804247 : breathtaking\n",
      "    -0.000490649623169 : melancholy\n",
      "    -0.000482869300036 : tragedy\n",
      "    -0.000465074605711 : black and white\n",
      "    -0.000446628919453 : imdb top 250\n",
      "    -0.000441760559231 : oscar (best foreign language film)\n",
      "    -0.00043990244666 : golden palm\n",
      "\n",
      "3rd principal direction:\n",
      "  top10 (largest to smallest):\n",
      "    0.00902671612378 : original\n",
      "    0.00647555766056 : mentor\n",
      "    0.0064632685203 : great ending\n",
      "    0.00608295563227 : dialogue\n",
      "    0.00589747091683 : storytelling\n",
      "    0.00561563167209 : catastrophe\n",
      "    0.00559866245888 : story\n",
      "    0.00550178292125 : good soundtrack\n",
      "    0.00544841981401 : good\n",
      "    0.00523557358709 : brutality\n",
      "  bottom10 (smallest to largest):\n",
      "    4.60156834964e-05 : james bond\n",
      "    6.06874106295e-05 : beatles\n",
      "    6.37742092322e-05 : aardman\n",
      "    6.75375132903e-05 : claymation\n",
      "    7.25827091355e-05 : hannibal lecter\n",
      "    9.52844503201e-05 : batman\n",
      "    9.81429354846e-05 : marx brothers\n",
      "    0.000105179604303 : emma watson\n",
      "    0.000105918513793 : pixar\n",
      "    0.000108008746749 : miyazaki\n",
      "\n",
      "4th principal direction:\n",
      "  top10 (largest to smallest):\n",
      "    0.00190313608412 : original\n",
      "    0.00128806750022 : great ending\n",
      "    0.00127661973724 : dialogue\n",
      "    0.0012514241983 : family\n",
      "    0.00122819792046 : predictable\n",
      "    0.00121844963432 : catastrophe\n",
      "    0.00120000342065 : mentor\n",
      "    0.00111560771725 : story\n",
      "    0.00104582069296 : great\n",
      "    0.00102654593708 : adaptation\n",
      "  bottom10 (smallest to largest):\n",
      "    -7.23485174745e-05 : coming-of-age\n",
      "    -6.09579920114e-05 : teenager\n",
      "    -5.67299007558e-05 : college\n",
      "    -1.46564443579e-05 : vietnam war\n",
      "    -1.22420579211e-05 : disability\n",
      "    -1.17201873488e-05 : teenagers\n",
      "    -1.11378756767e-05 : virginity\n",
      "    -1.01656297788e-05 : cheerleading\n",
      "    -8.62261422069e-06 : slackers\n",
      "    -8.32779145627e-06 : communism\n",
      "\n",
      "5th principal direction:\n",
      "  top10 (largest to smallest):\n",
      "    -5.0299265641e-05 : hannibal lecter\n",
      "    -6.39214588403e-05 : beatles\n",
      "    -8.82643060345e-05 : claymation\n",
      "    -9.4333879188e-05 : aardman\n",
      "    -0.000102519465466 : ballet\n",
      "    -0.000111568312612 : miyazaki\n",
      "    -0.000113135003653 : james bond\n",
      "    -0.000119458472866 : swedish\n",
      "    -0.000120219643171 : marx brothers\n",
      "    -0.000121499171344 : iraq war\n",
      "  bottom10 (smallest to largest):\n",
      "    -0.0091893201313 : original\n",
      "    -0.00680283935475 : mentor\n",
      "    -0.00650914514847 : dialogue\n",
      "    -0.0063337729859 : great ending\n",
      "    -0.00585427947742 : good\n",
      "    -0.00584743792181 : story\n",
      "    -0.00583169991658 : catastrophe\n",
      "    -0.00573079546847 : great\n",
      "    -0.00551837326919 : storytelling\n",
      "    -0.00550773412324 : good soundtrack\n",
      "\n"
     ]
    }
   ],
   "source": [
    "count = [\"1st\", \"2nd\", \"3rd\", \"4th\", \"5th\"]\n",
    "\n",
    "for i in range(5):\n",
    "    print(count[i], \"principal direction:\")\n",
    "    find_tags(rel_dirs[i])\n",
    "    print(\"\")"
   ]
  },
  {
   "cell_type": "markdown",
   "metadata": {},
   "source": [
    "### What concepts would you use to describe these dimensions?\n",
    "\n",
    "The first direction has high values for tags including story, original, whereas most tags in the bottom 10 are about war. \n",
    "\n",
    "One might note that the first and the fifth top10 and bottom10 tags are reversed. Also, the \"good\" word is mainly situated in the top 10 tags."
   ]
  },
  {
   "cell_type": "markdown",
   "metadata": {},
   "source": [
    "### Create a dict which maps every tag to it's coordinates in the first 5 principal directions"
   ]
  },
  {
   "cell_type": "code",
   "execution_count": 155,
   "metadata": {
    "collapsed": false
   },
   "outputs": [],
   "source": [
    "# construct the dict\n",
    "tag_dict = {}\n",
    "for i in tags.toLocalIterator():\n",
    "    tmp = []\n",
    "    for j in range(5):\n",
    "        tmp.append(rel_dirs[j][i[\"tagId\"]-1])\n",
    "    tag_dict[i[\"tag\"]] = tmp"
   ]
  },
  {
   "cell_type": "code",
   "execution_count": 151,
   "metadata": {
    "collapsed": true
   },
   "outputs": [],
   "source": [
    "# save to file\n",
    "with open('tag_dict.txt', 'wb') as file:\n",
    "    pickle.dump(tag_dict, file)"
   ]
  },
  {
   "cell_type": "code",
   "execution_count": 156,
   "metadata": {
    "collapsed": false
   },
   "outputs": [],
   "source": [
    "# reopen file\n",
    "with open(\"tag_dict.txt\", \"rb\") as file:\n",
    "    tag_dict_load = pickle.load(file)"
   ]
  },
  {
   "cell_type": "markdown",
   "metadata": {},
   "source": [
    "## Exercice 3.3"
   ]
  },
  {
   "cell_type": "markdown",
   "metadata": {},
   "source": [
    "### Create an interactive plot that displays the 2D-projection of the movies using bokeh and its hover tool. "
   ]
  },
  {
   "cell_type": "code",
   "execution_count": 126,
   "metadata": {
    "collapsed": false
   },
   "outputs": [
    {
     "data": {
      "text/html": [
       "\n",
       "    <div class=\"bk-root\">\n",
       "        <a href=\"http://bokeh.pydata.org\" target=\"_blank\" class=\"bk-logo bk-logo-small bk-logo-notebook\"></a>\n",
       "        <span id=\"cd7c1292-b163-4b96-a5d5-2f89c4d3dc5c\">Loading BokehJS ...</span>\n",
       "    </div>"
      ]
     },
     "metadata": {},
     "output_type": "display_data"
    },
    {
     "data": {
      "application/javascript": [
       "\n",
       "(function(global) {\n",
       "  function now() {\n",
       "    return new Date();\n",
       "  }\n",
       "\n",
       "  var force = \"1\";\n",
       "\n",
       "  if (typeof (window._bokeh_onload_callbacks) === \"undefined\" || force !== \"\") {\n",
       "    window._bokeh_onload_callbacks = [];\n",
       "    window._bokeh_is_loading = undefined;\n",
       "  }\n",
       "\n",
       "\n",
       "  \n",
       "  if (typeof (window._bokeh_timeout) === \"undefined\" || force !== \"\") {\n",
       "    window._bokeh_timeout = Date.now() + 5000;\n",
       "    window._bokeh_failed_load = false;\n",
       "  }\n",
       "\n",
       "  var NB_LOAD_WARNING = {'data': {'text/html':\n",
       "     \"<div style='background-color: #fdd'>\\n\"+\n",
       "     \"<p>\\n\"+\n",
       "     \"BokehJS does not appear to have successfully loaded. If loading BokehJS from CDN, this \\n\"+\n",
       "     \"may be due to a slow or bad network connection. Possible fixes:\\n\"+\n",
       "     \"</p>\\n\"+\n",
       "     \"<ul>\\n\"+\n",
       "     \"<li>re-rerun `output_notebook()` to attempt to load from CDN again, or</li>\\n\"+\n",
       "     \"<li>use INLINE resources instead, as so:</li>\\n\"+\n",
       "     \"</ul>\\n\"+\n",
       "     \"<code>\\n\"+\n",
       "     \"from bokeh.resources import INLINE\\n\"+\n",
       "     \"output_notebook(resources=INLINE)\\n\"+\n",
       "     \"</code>\\n\"+\n",
       "     \"</div>\"}};\n",
       "\n",
       "  function display_loaded() {\n",
       "    if (window.Bokeh !== undefined) {\n",
       "      Bokeh.$(\"#cd7c1292-b163-4b96-a5d5-2f89c4d3dc5c\").text(\"BokehJS successfully loaded.\");\n",
       "    } else if (Date.now() < window._bokeh_timeout) {\n",
       "      setTimeout(display_loaded, 100)\n",
       "    }\n",
       "  }\n",
       "\n",
       "  function run_callbacks() {\n",
       "    window._bokeh_onload_callbacks.forEach(function(callback) { callback() });\n",
       "    delete window._bokeh_onload_callbacks\n",
       "    console.info(\"Bokeh: all callbacks have finished\");\n",
       "  }\n",
       "\n",
       "  function load_libs(js_urls, callback) {\n",
       "    window._bokeh_onload_callbacks.push(callback);\n",
       "    if (window._bokeh_is_loading > 0) {\n",
       "      console.log(\"Bokeh: BokehJS is being loaded, scheduling callback at\", now());\n",
       "      return null;\n",
       "    }\n",
       "    if (js_urls == null || js_urls.length === 0) {\n",
       "      run_callbacks();\n",
       "      return null;\n",
       "    }\n",
       "    console.log(\"Bokeh: BokehJS not loaded, scheduling load and callback at\", now());\n",
       "    window._bokeh_is_loading = js_urls.length;\n",
       "    for (var i = 0; i < js_urls.length; i++) {\n",
       "      var url = js_urls[i];\n",
       "      var s = document.createElement('script');\n",
       "      s.src = url;\n",
       "      s.async = false;\n",
       "      s.onreadystatechange = s.onload = function() {\n",
       "        window._bokeh_is_loading--;\n",
       "        if (window._bokeh_is_loading === 0) {\n",
       "          console.log(\"Bokeh: all BokehJS libraries loaded\");\n",
       "          run_callbacks()\n",
       "        }\n",
       "      };\n",
       "      s.onerror = function() {\n",
       "        console.warn(\"failed to load library \" + url);\n",
       "      };\n",
       "      console.log(\"Bokeh: injecting script tag for BokehJS library: \", url);\n",
       "      document.getElementsByTagName(\"head\")[0].appendChild(s);\n",
       "    }\n",
       "  };var element = document.getElementById(\"cd7c1292-b163-4b96-a5d5-2f89c4d3dc5c\");\n",
       "  if (element == null) {\n",
       "    console.log(\"Bokeh: ERROR: autoload.js configured with elementid 'cd7c1292-b163-4b96-a5d5-2f89c4d3dc5c' but no matching script tag was found. \")\n",
       "    return false;\n",
       "  }\n",
       "\n",
       "  var js_urls = ['https://cdn.pydata.org/bokeh/release/bokeh-0.12.2.min.js', 'https://cdn.pydata.org/bokeh/release/bokeh-widgets-0.12.2.min.js', 'https://cdn.pydata.org/bokeh/release/bokeh-compiler-0.12.2.min.js'];\n",
       "\n",
       "  var inline_js = [\n",
       "    function(Bokeh) {\n",
       "      Bokeh.set_log_level(\"info\");\n",
       "    },\n",
       "    \n",
       "    function(Bokeh) {\n",
       "      \n",
       "      Bokeh.$(\"#cd7c1292-b163-4b96-a5d5-2f89c4d3dc5c\").text(\"BokehJS is loading...\");\n",
       "    },\n",
       "    function(Bokeh) {\n",
       "      console.log(\"Bokeh: injecting CSS: https://cdn.pydata.org/bokeh/release/bokeh-0.12.2.min.css\");\n",
       "      Bokeh.embed.inject_css(\"https://cdn.pydata.org/bokeh/release/bokeh-0.12.2.min.css\");\n",
       "      console.log(\"Bokeh: injecting CSS: https://cdn.pydata.org/bokeh/release/bokeh-widgets-0.12.2.min.css\");\n",
       "      Bokeh.embed.inject_css(\"https://cdn.pydata.org/bokeh/release/bokeh-widgets-0.12.2.min.css\");\n",
       "    }\n",
       "  ];\n",
       "\n",
       "  function run_inline_js() {\n",
       "    \n",
       "    if ((window.Bokeh !== undefined) || (force === \"1\")) {\n",
       "      for (var i = 0; i < inline_js.length; i++) {\n",
       "        inline_js[i](window.Bokeh);\n",
       "      }if (force === \"1\") {\n",
       "        display_loaded();\n",
       "      }} else if (Date.now() < window._bokeh_timeout) {\n",
       "      setTimeout(run_inline_js, 100);\n",
       "    } else if (!window._bokeh_failed_load) {\n",
       "      console.log(\"Bokeh: BokehJS failed to load within specified timeout.\");\n",
       "      window._bokeh_failed_load = true;\n",
       "    } else if (!force) {\n",
       "      var cell = $(\"#cd7c1292-b163-4b96-a5d5-2f89c4d3dc5c\").parents('.cell').data().cell;\n",
       "      cell.output_area.append_execute_result(NB_LOAD_WARNING)\n",
       "    }\n",
       "\n",
       "  }\n",
       "\n",
       "  if (window._bokeh_is_loading === 0) {\n",
       "    console.log(\"Bokeh: BokehJS loaded, going straight to plotting\");\n",
       "    run_inline_js();\n",
       "  } else {\n",
       "    load_libs(js_urls, function() {\n",
       "      console.log(\"Bokeh: BokehJS plotting callback run at\", now());\n",
       "      run_inline_js();\n",
       "    });\n",
       "  }\n",
       "}(this));"
      ]
     },
     "metadata": {},
     "output_type": "display_data"
    }
   ],
   "source": [
    "from bokeh.io import show, output_notebook\n",
    "from bokeh.plotting import figure, ColumnDataSource\n",
    "from bokeh.models import HoverTool, ResetTool, PanTool, WheelZoomTool, SaveTool\n",
    "output_notebook()"
   ]
  },
  {
   "cell_type": "code",
   "execution_count": 127,
   "metadata": {
    "collapsed": false
   },
   "outputs": [],
   "source": [
    "# Reading an object from disk.\n",
    "with open(\"selected-movies.pickle\", \"rb\") as f:\n",
    "    movies = pickle.load(f, encoding=\"utf-8\")\n",
    "    \n",
    "for movie in movies:\n",
    "#    print(movie)\n",
    "    pass"
   ]
  },
  {
   "cell_type": "code",
   "execution_count": 128,
   "metadata": {
    "collapsed": false
   },
   "outputs": [],
   "source": [
    "projected_x = [] # first principal direction\n",
    "projected_y = [] # second principal direction\n",
    "\n",
    "for i in movies:\n",
    "    projected_x.append(np.dot(relevance_array.T[i[0]-1], rel_dirs[0]))\n",
    "    projected_y.append(np.dot(relevance_array.T[i[0]-1], rel_dirs[1]))"
   ]
  },
  {
   "cell_type": "code",
   "execution_count": 129,
   "metadata": {
    "collapsed": false,
    "scrolled": false
   },
   "outputs": [
    {
     "data": {
      "text/html": [
       "\n",
       "\n",
       "    <div class=\"bk-root\">\n",
       "        <div class=\"plotdiv\" id=\"aea1f0b6-99f5-4784-8799-83dd7a0ad5be\"></div>\n",
       "    </div>\n",
       "<script type=\"text/javascript\">\n",
       "  \n",
       "  (function(global) {\n",
       "    function now() {\n",
       "      return new Date();\n",
       "    }\n",
       "  \n",
       "    var force = \"\";\n",
       "  \n",
       "    if (typeof (window._bokeh_onload_callbacks) === \"undefined\" || force !== \"\") {\n",
       "      window._bokeh_onload_callbacks = [];\n",
       "      window._bokeh_is_loading = undefined;\n",
       "    }\n",
       "  \n",
       "  \n",
       "    \n",
       "    if (typeof (window._bokeh_timeout) === \"undefined\" || force !== \"\") {\n",
       "      window._bokeh_timeout = Date.now() + 0;\n",
       "      window._bokeh_failed_load = false;\n",
       "    }\n",
       "  \n",
       "    var NB_LOAD_WARNING = {'data': {'text/html':\n",
       "       \"<div style='background-color: #fdd'>\\n\"+\n",
       "       \"<p>\\n\"+\n",
       "       \"BokehJS does not appear to have successfully loaded. If loading BokehJS from CDN, this \\n\"+\n",
       "       \"may be due to a slow or bad network connection. Possible fixes:\\n\"+\n",
       "       \"</p>\\n\"+\n",
       "       \"<ul>\\n\"+\n",
       "       \"<li>re-rerun `output_notebook()` to attempt to load from CDN again, or</li>\\n\"+\n",
       "       \"<li>use INLINE resources instead, as so:</li>\\n\"+\n",
       "       \"</ul>\\n\"+\n",
       "       \"<code>\\n\"+\n",
       "       \"from bokeh.resources import INLINE\\n\"+\n",
       "       \"output_notebook(resources=INLINE)\\n\"+\n",
       "       \"</code>\\n\"+\n",
       "       \"</div>\"}};\n",
       "  \n",
       "    function display_loaded() {\n",
       "      if (window.Bokeh !== undefined) {\n",
       "        Bokeh.$(\"#aea1f0b6-99f5-4784-8799-83dd7a0ad5be\").text(\"BokehJS successfully loaded.\");\n",
       "      } else if (Date.now() < window._bokeh_timeout) {\n",
       "        setTimeout(display_loaded, 100)\n",
       "      }\n",
       "    }\n",
       "  \n",
       "    function run_callbacks() {\n",
       "      window._bokeh_onload_callbacks.forEach(function(callback) { callback() });\n",
       "      delete window._bokeh_onload_callbacks\n",
       "      console.info(\"Bokeh: all callbacks have finished\");\n",
       "    }\n",
       "  \n",
       "    function load_libs(js_urls, callback) {\n",
       "      window._bokeh_onload_callbacks.push(callback);\n",
       "      if (window._bokeh_is_loading > 0) {\n",
       "        console.log(\"Bokeh: BokehJS is being loaded, scheduling callback at\", now());\n",
       "        return null;\n",
       "      }\n",
       "      if (js_urls == null || js_urls.length === 0) {\n",
       "        run_callbacks();\n",
       "        return null;\n",
       "      }\n",
       "      console.log(\"Bokeh: BokehJS not loaded, scheduling load and callback at\", now());\n",
       "      window._bokeh_is_loading = js_urls.length;\n",
       "      for (var i = 0; i < js_urls.length; i++) {\n",
       "        var url = js_urls[i];\n",
       "        var s = document.createElement('script');\n",
       "        s.src = url;\n",
       "        s.async = false;\n",
       "        s.onreadystatechange = s.onload = function() {\n",
       "          window._bokeh_is_loading--;\n",
       "          if (window._bokeh_is_loading === 0) {\n",
       "            console.log(\"Bokeh: all BokehJS libraries loaded\");\n",
       "            run_callbacks()\n",
       "          }\n",
       "        };\n",
       "        s.onerror = function() {\n",
       "          console.warn(\"failed to load library \" + url);\n",
       "        };\n",
       "        console.log(\"Bokeh: injecting script tag for BokehJS library: \", url);\n",
       "        document.getElementsByTagName(\"head\")[0].appendChild(s);\n",
       "      }\n",
       "    };var element = document.getElementById(\"aea1f0b6-99f5-4784-8799-83dd7a0ad5be\");\n",
       "    if (element == null) {\n",
       "      console.log(\"Bokeh: ERROR: autoload.js configured with elementid 'aea1f0b6-99f5-4784-8799-83dd7a0ad5be' but no matching script tag was found. \")\n",
       "      return false;\n",
       "    }\n",
       "  \n",
       "    var js_urls = [];\n",
       "  \n",
       "    var inline_js = [\n",
       "      function(Bokeh) {\n",
       "        Bokeh.$(function() {\n",
       "            var docs_json = {\"bf4e7335-a1d2-4bf8-b526-022b61348d66\":{\"roots\":{\"references\":[{\"attributes\":{\"below\":[{\"id\":\"e56b5e08-83de-4b8e-a84b-d17701dbc154\",\"type\":\"LinearAxis\"}],\"left\":[{\"id\":\"86e4b332-1126-49d5-8fdc-867acd6150f9\",\"type\":\"LinearAxis\"}],\"plot_height\":960,\"plot_width\":960,\"renderers\":[{\"id\":\"e56b5e08-83de-4b8e-a84b-d17701dbc154\",\"type\":\"LinearAxis\"},{\"id\":\"082fead4-100e-4661-ac2f-34b33bdf6380\",\"type\":\"Grid\"},{\"id\":\"86e4b332-1126-49d5-8fdc-867acd6150f9\",\"type\":\"LinearAxis\"},{\"id\":\"f9aa0bc4-f2ad-423e-98ae-a51467884d04\",\"type\":\"Grid\"},{\"id\":\"4aa82c53-af58-4a43-96fd-e59ded882ef6\",\"type\":\"GlyphRenderer\"}],\"title\":{\"id\":\"a0fb6655-faf9-4fc0-b529-9bae5059b3bc\",\"type\":\"Title\"},\"tool_events\":{\"id\":\"a5e0ec3a-3236-42fd-b8ad-84b61118b2c0\",\"type\":\"ToolEvents\"},\"toolbar\":{\"id\":\"8b43e419-6bcb-4bea-8a14-60beed0369b5\",\"type\":\"Toolbar\"},\"x_range\":{\"id\":\"d84ec8e5-3f0c-4f0b-b471-577ecaeb1f6e\",\"type\":\"DataRange1d\"},\"y_range\":{\"id\":\"5a6420f8-dd14-476a-a97b-59fb1e5815d8\",\"type\":\"DataRange1d\"}},\"id\":\"6a823486-2cb4-46aa-969f-ae5f29a1e230\",\"subtype\":\"Figure\",\"type\":\"Plot\"},{\"attributes\":{},\"id\":\"c05f005b-7734-442d-8fe8-6e378caa5ded\",\"type\":\"BasicTickFormatter\"},{\"attributes\":{\"fill_alpha\":{\"value\":0.1},\"fill_color\":{\"value\":\"#1f77b4\"},\"line_alpha\":{\"value\":0.1},\"line_color\":{\"value\":\"#1f77b4\"},\"size\":{\"units\":\"screen\",\"value\":20},\"x\":{\"field\":\"x\"},\"y\":{\"field\":\"y\"}},\"id\":\"12d7d7cc-6d3a-4fe1-bdc4-1cbd190b1979\",\"type\":\"Circle\"},{\"attributes\":{\"plot\":{\"id\":\"6a823486-2cb4-46aa-969f-ae5f29a1e230\",\"subtype\":\"Figure\",\"type\":\"Plot\"},\"ticker\":{\"id\":\"f0b8663b-9ae6-47fe-af24-7af73c3e1338\",\"type\":\"BasicTicker\"}},\"id\":\"082fead4-100e-4661-ac2f-34b33bdf6380\",\"type\":\"Grid\"},{\"attributes\":{\"active_drag\":\"auto\",\"active_scroll\":\"auto\",\"active_tap\":\"auto\",\"tools\":[{\"id\":\"8ff47f56-4deb-4bd7-9a8c-fb74908638a3\",\"type\":\"HoverTool\"},{\"id\":\"a218e3e1-6f4c-4e82-8be2-887e7c78bfac\",\"type\":\"ResetTool\"},{\"id\":\"0b8e9e97-b14a-4855-96dd-6bf543f289d3\",\"type\":\"PanTool\"},{\"id\":\"457917a8-bdea-4dd4-bcec-b53c71aefa14\",\"type\":\"WheelZoomTool\"},{\"id\":\"c511cd54-60eb-46e7-8566-e7d0895593d5\",\"type\":\"SaveTool\"}]},\"id\":\"8b43e419-6bcb-4bea-8a14-60beed0369b5\",\"type\":\"Toolbar\"},{\"attributes\":{\"formatter\":{\"id\":\"c05f005b-7734-442d-8fe8-6e378caa5ded\",\"type\":\"BasicTickFormatter\"},\"plot\":{\"id\":\"6a823486-2cb4-46aa-969f-ae5f29a1e230\",\"subtype\":\"Figure\",\"type\":\"Plot\"},\"ticker\":{\"id\":\"8305632b-44ca-4ffb-b047-92368b9d33e0\",\"type\":\"BasicTicker\"}},\"id\":\"86e4b332-1126-49d5-8fdc-867acd6150f9\",\"type\":\"LinearAxis\"},{\"attributes\":{\"plot\":{\"id\":\"6a823486-2cb4-46aa-969f-ae5f29a1e230\",\"subtype\":\"Figure\",\"type\":\"Plot\"}},\"id\":\"457917a8-bdea-4dd4-bcec-b53c71aefa14\",\"type\":\"WheelZoomTool\"},{\"attributes\":{},\"id\":\"f0b8663b-9ae6-47fe-af24-7af73c3e1338\",\"type\":\"BasicTicker\"},{\"attributes\":{\"fill_color\":{\"field\":\"color\"},\"line_color\":{\"field\":\"color\"},\"size\":{\"units\":\"screen\",\"value\":20},\"x\":{\"field\":\"x\"},\"y\":{\"field\":\"y\"}},\"id\":\"ab2e2664-dd86-4dc2-bc18-63fcfaf88829\",\"type\":\"Circle\"},{\"attributes\":{\"callback\":null,\"plot\":{\"id\":\"6a823486-2cb4-46aa-969f-ae5f29a1e230\",\"subtype\":\"Figure\",\"type\":\"Plot\"},\"tooltips\":[[\"Name\",\"@name\"]]},\"id\":\"8ff47f56-4deb-4bd7-9a8c-fb74908638a3\",\"type\":\"HoverTool\"},{\"attributes\":{\"plot\":{\"id\":\"6a823486-2cb4-46aa-969f-ae5f29a1e230\",\"subtype\":\"Figure\",\"type\":\"Plot\"}},\"id\":\"a218e3e1-6f4c-4e82-8be2-887e7c78bfac\",\"type\":\"ResetTool\"},{\"attributes\":{},\"id\":\"8305632b-44ca-4ffb-b047-92368b9d33e0\",\"type\":\"BasicTicker\"},{\"attributes\":{\"plot\":null,\"text\":\"Mouse over the dots\"},\"id\":\"a0fb6655-faf9-4fc0-b529-9bae5059b3bc\",\"type\":\"Title\"},{\"attributes\":{\"callback\":null},\"id\":\"d84ec8e5-3f0c-4f0b-b471-577ecaeb1f6e\",\"type\":\"DataRange1d\"},{\"attributes\":{\"dimension\":1,\"plot\":{\"id\":\"6a823486-2cb4-46aa-969f-ae5f29a1e230\",\"subtype\":\"Figure\",\"type\":\"Plot\"},\"ticker\":{\"id\":\"8305632b-44ca-4ffb-b047-92368b9d33e0\",\"type\":\"BasicTicker\"}},\"id\":\"f9aa0bc4-f2ad-423e-98ae-a51467884d04\",\"type\":\"Grid\"},{\"attributes\":{\"data_source\":{\"id\":\"07fc1358-547f-44b5-8fe3-d14720c2b19c\",\"type\":\"ColumnDataSource\"},\"glyph\":{\"id\":\"ab2e2664-dd86-4dc2-bc18-63fcfaf88829\",\"type\":\"Circle\"},\"hover_glyph\":null,\"nonselection_glyph\":{\"id\":\"12d7d7cc-6d3a-4fe1-bdc4-1cbd190b1979\",\"type\":\"Circle\"},\"selection_glyph\":null},\"id\":\"4aa82c53-af58-4a43-96fd-e59ded882ef6\",\"type\":\"GlyphRenderer\"},{\"attributes\":{\"callback\":null,\"column_names\":[\"y\",\"color\",\"name\",\"x\"],\"data\":{\"color\":[\"#ccff00\",\"#38ff00\",\"#42ff00\",\"#2eff00\",\"#57ff00\",\"#1aff00\",\"#42ff00\",\"#ff4c00\",\"#ff4200\",\"#4dff00\",\"#70ff00\",\"#4dff00\",\"#29ff00\",\"#24ff00\",\"#24ff00\",\"#fff000\",\"#14ff00\",\"#6bff00\",\"#ff5700\",\"#3dff00\",\"#33ff00\",\"#ffad00\",\"#61ff00\",\"#00ff00\",\"#2eff00\",\"#8fff00\",\"#1aff00\",\"#66ff00\",\"#a3ff00\",\"#b8ff00\",\"#0aff00\",\"#faff00\",\"#1aff00\",\"#a8ff00\",\"#57ff00\",\"#3dff00\",\"#ccff00\"],\"name\":[\"Independence Day (a.k.a. ID4) (1996)\",\"Spider-Man (2002)\",\"Matrix, The (1999)\",\"Shawshank Redemption, The (1994)\",\"American History X (1998)\",\"Wild Strawberries (Smultronst\\u00e4llet) (1957)\",\"Control (2007)\",\"Miss Congeniality 2: Armed and Fabulous (2005)\",\"Just My Luck (2006)\",\"Santa Sangre (1989)\",\"Videodrome (1983)\",\"Billy Elliot (2000)\",\"Pride (2014)\",\"Jurassic Park (1993)\",\"Star Wars: Episode IV - A New Hope (1977)\",\"Princess Diaries, The (2001)\",\"Schindler's List (1993)\",\"Fight Club (1999)\",\"New York Ripper, The (Squartatore di New York, Lo) (1982)\",\"American Beauty (1999)\",\"City of God (Cidade de Deus) (2002)\",\"Battleship (2012)\",\"Take Care of My Cat (Goyangileul butaghae) (2001)\",\"Terminator, The (1984)\",\"Edge of Tomorrow (2014)\",\"Forrest Gump (1994)\",\"King's Speech, The (2010)\",\"Life Is Beautiful (La Vita \\u00e8 bella) (1997)\",\"Stage Fright (Deliria) (1987)\",\"Ichi the Killer (Koroshiya 1) (2001)\",\"Brazil (1985)\",\"Fountain, The (2006)\",\"Accused, The (1988)\",\"Time to Kill, A (1996)\",\"Ghost Writer, The (2010)\",\"Superbad (2007)\",\"American Pie (1999)\"],\"x\":[0.21456652389805217,0.21307729358794303,0.3057417423871654,0.30679190449098703,0.2780684868907373,0.21928464132966538,0.2238840500782485,0.104833492061323,0.09212523234352729,0.18199829803378462,0.1591965635238637,0.19571308554571865,0.18860580984714398,0.24224485276195104,0.28256359831367595,0.1255797220043813,0.26860477762744434,0.30341532285320816,0.13276663586768817,0.2794784124707262,0.2813634259169362,0.1390234586508199,0.0875211876468368,0.25608561508059385,0.24872807559244736,0.2629389460660947,0.2275514143838977,0.24704545033116287,0.17529704890245673,0.16509421311928468,0.2358481805584185,0.22150926105473714,0.20491342486193403,0.16962586446393446,0.19299910861233738,0.1877245850341373,0.18089129386876507],\"y\":[0.03059452793522333,0.03239611922556122,0.02055076786525855,0.005283662156480867,0.0069307356849917364,-0.00930115943157361,-0.0011393328104773376,0.02240050723522491,0.02114523448402848,0.004160404529280305,0.007501820694896123,0.0047397652916032,0.001955814266640232,0.0260627372259479,0.0186750180203236,0.024217174140756078,-0.0012351449925529728,0.01106896792469651,0.019517969978387662,0.0013088490075755747,0.004712993340321714,0.030536808148804065,-0.00045802557332619834,0.021370525927362202,0.020360974082876283,0.008575301174245521,0.00010083566912952774,-0.0007570341381723402,0.01499696899131131,0.0159074243412618,0.0013731394596118995,8.589289721438532e-05,0.011566655132459105,0.017711781306588476,0.007326918720267168,0.019485666484429696,0.028608067585221435]}},\"id\":\"07fc1358-547f-44b5-8fe3-d14720c2b19c\",\"type\":\"ColumnDataSource\"},{\"attributes\":{\"callback\":null},\"id\":\"5a6420f8-dd14-476a-a97b-59fb1e5815d8\",\"type\":\"DataRange1d\"},{\"attributes\":{},\"id\":\"a5e0ec3a-3236-42fd-b8ad-84b61118b2c0\",\"type\":\"ToolEvents\"},{\"attributes\":{},\"id\":\"ea1b746e-a279-46f6-a33c-85b58d56f864\",\"type\":\"BasicTickFormatter\"},{\"attributes\":{\"formatter\":{\"id\":\"ea1b746e-a279-46f6-a33c-85b58d56f864\",\"type\":\"BasicTickFormatter\"},\"plot\":{\"id\":\"6a823486-2cb4-46aa-969f-ae5f29a1e230\",\"subtype\":\"Figure\",\"type\":\"Plot\"},\"ticker\":{\"id\":\"f0b8663b-9ae6-47fe-af24-7af73c3e1338\",\"type\":\"BasicTicker\"}},\"id\":\"e56b5e08-83de-4b8e-a84b-d17701dbc154\",\"type\":\"LinearAxis\"},{\"attributes\":{\"plot\":{\"id\":\"6a823486-2cb4-46aa-969f-ae5f29a1e230\",\"subtype\":\"Figure\",\"type\":\"Plot\"}},\"id\":\"0b8e9e97-b14a-4855-96dd-6bf543f289d3\",\"type\":\"PanTool\"},{\"attributes\":{\"plot\":{\"id\":\"6a823486-2cb4-46aa-969f-ae5f29a1e230\",\"subtype\":\"Figure\",\"type\":\"Plot\"}},\"id\":\"c511cd54-60eb-46e7-8566-e7d0895593d5\",\"type\":\"SaveTool\"}],\"root_ids\":[\"6a823486-2cb4-46aa-969f-ae5f29a1e230\"]},\"title\":\"Bokeh Application\",\"version\":\"0.12.2\"}};\n",
       "            var render_items = [{\"docid\":\"bf4e7335-a1d2-4bf8-b526-022b61348d66\",\"elementid\":\"aea1f0b6-99f5-4784-8799-83dd7a0ad5be\",\"modelid\":\"6a823486-2cb4-46aa-969f-ae5f29a1e230\"}];\n",
       "            \n",
       "            Bokeh.embed.embed_items(docs_json, render_items);\n",
       "        });\n",
       "      },\n",
       "      function(Bokeh) {\n",
       "      }\n",
       "    ];\n",
       "  \n",
       "    function run_inline_js() {\n",
       "      \n",
       "      if ((window.Bokeh !== undefined) || (force === \"1\")) {\n",
       "        for (var i = 0; i < inline_js.length; i++) {\n",
       "          inline_js[i](window.Bokeh);\n",
       "        }if (force === \"1\") {\n",
       "          display_loaded();\n",
       "        }} else if (Date.now() < window._bokeh_timeout) {\n",
       "        setTimeout(run_inline_js, 100);\n",
       "      } else if (!window._bokeh_failed_load) {\n",
       "        console.log(\"Bokeh: BokehJS failed to load within specified timeout.\");\n",
       "        window._bokeh_failed_load = true;\n",
       "      } else if (!force) {\n",
       "        var cell = $(\"#aea1f0b6-99f5-4784-8799-83dd7a0ad5be\").parents('.cell').data().cell;\n",
       "        cell.output_area.append_execute_result(NB_LOAD_WARNING)\n",
       "      }\n",
       "  \n",
       "    }\n",
       "  \n",
       "    if (window._bokeh_is_loading === 0) {\n",
       "      console.log(\"Bokeh: BokehJS loaded, going straight to plotting\");\n",
       "      run_inline_js();\n",
       "    } else {\n",
       "      load_libs(js_urls, function() {\n",
       "        console.log(\"Bokeh: BokehJS plotting callback run at\", now());\n",
       "        run_inline_js();\n",
       "      });\n",
       "    }\n",
       "  }(this));\n",
       "</script>"
      ]
     },
     "metadata": {},
     "output_type": "display_data"
    }
   ],
   "source": [
    "# Continuous colors\n",
    "from matplotlib.colors import rgb2hex \n",
    "\n",
    "# colors:   0% -> red\n",
    "#          50% -> yellow\n",
    "#         100% -> green\n",
    "# interpolated in between\n",
    "def rottenColor(val):\n",
    "    if val<0.5:\n",
    "        return rgb2hex([1.0, 2*val, 0.0])\n",
    "    else:\n",
    "        return rgb2hex([2*(1.0-val), 1.0, 0.0])\n",
    "\n",
    "source = ColumnDataSource(\n",
    "    data={\n",
    "        \"x\": projected_x,\n",
    "        \"y\": projected_y,\n",
    "        \"name\": [x[1] for x in movies],\n",
    "        \"color\": [rottenColor(x[2]) for x in movies],\n",
    "    })\n",
    "\n",
    "hover = HoverTool(\n",
    "    tooltips=[\n",
    "        (\"Name\", \"@name\"),\n",
    "    ])\n",
    "tools = [hover, ResetTool(), PanTool(), WheelZoomTool(), SaveTool()]\n",
    "\n",
    "p = figure(plot_width=960, plot_height=960, tools=tools, title=\"Mouse over the dots\")\n",
    "p.circle(\"x\", \"y\", source=source, size=20, color=\"color\", alpha=1.0)\n",
    "show(p)"
   ]
  },
  {
   "cell_type": "markdown",
   "metadata": {},
   "source": [
    "### Explain the coordinates of a few of the movies."
   ]
  },
  {
   "cell_type": "markdown",
   "metadata": {},
   "source": [
    "The first principal direction is on the X direction, the second is on Y. A result close to 0 means that movie is perfectly represented by that principal direction. For example, \"King's Speech\" is very close to 0 on the Y axism which means that its tags are almost perfectly represented by that direction."
   ]
  },
  {
   "cell_type": "markdown",
   "metadata": {},
   "source": [
    "### How do the PCA directions correlate with the Rotten Tomatoes score?"
   ]
  },
  {
   "cell_type": "markdown",
   "metadata": {
    "collapsed": true
   },
   "source": []
  },
  {
   "cell_type": "code",
   "execution_count": null,
   "metadata": {
    "collapsed": true
   },
   "outputs": [],
   "source": []
  }
 ],
 "metadata": {
  "anaconda-cloud": {},
  "kernelspec": {
   "display_name": "Python [Root]",
   "language": "python",
   "name": "Python [Root]"
  },
  "language_info": {
   "codemirror_mode": {
    "name": "ipython",
    "version": 3
   },
   "file_extension": ".py",
   "mimetype": "text/x-python",
   "name": "python",
   "nbconvert_exporter": "python",
   "pygments_lexer": "ipython3",
   "version": "3.5.2"
  }
 },
 "nbformat": 4,
 "nbformat_minor": 1
}
