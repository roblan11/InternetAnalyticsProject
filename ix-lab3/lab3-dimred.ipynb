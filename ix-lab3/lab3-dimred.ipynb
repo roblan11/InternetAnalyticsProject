{
 "cells": [
  {
   "cell_type": "markdown",
   "metadata": {},
   "source": [
    "# Lab 3 — dimensionality reduction\n",
    "**Internet Analytics - Lab 3**\n",
    "\n",
    "---\n",
    "\n",
    "**Group:** *K*\n",
    "\n",
    "**Names:**\n",
    "\n",
    "* *Robin Lang*\n",
    "* *Kim Lan Phan Hoang*"
   ]
  },
  {
   "cell_type": "code",
   "execution_count": 1,
   "metadata": {
    "collapsed": false
   },
   "outputs": [],
   "source": [
    "import json\n",
    "import matplotlib.pyplot as plt\n",
    "import numpy as np\n",
    "import numpy.linalg as la\n",
    "\n",
    "from operator import itemgetter\n",
    "\n",
    "%matplotlib inline\n",
    "plt.style.use(\"ggplot\")\n",
    "\n",
    "relevance_file_name = \"relevance_array.npy\""
   ]
  },
  {
   "cell_type": "markdown",
   "metadata": {},
   "source": [
    "**construct ratings array** <br>\n",
    "Using PySpark on the cluster, create the array containing all the ratings from `genome-scores.txt`"
   ]
  },
  {
   "cell_type": "code",
   "execution_count": null,
   "metadata": {
    "collapsed": true
   },
   "outputs": [],
   "source": [
    "movies = sc.textFile(\"/ix/ml-20m/movies.txt\").map(json.loads)\n",
    "tags = sc.textFile(\"/ix/ml-20m/genome-tags.txt\").map(json.loads)\n",
    "data = sc.textFile(\"/ix/ml-20m/genome-scores.txt\").map(json.loads)"
   ]
  },
  {
   "cell_type": "code",
   "execution_count": 10,
   "metadata": {
    "collapsed": false
   },
   "outputs": [],
   "source": [
    "n_movies = movies.map(lambda x: x[\"movieId\"]).max()\n",
    "n_tags = tags.map(lambda x: x[\"tagId\"]).max()"
   ]
  },
  {
   "cell_type": "code",
   "execution_count": 11,
   "metadata": {
    "collapsed": false
   },
   "outputs": [
    {
     "name": "stdout",
     "output_type": "stream",
     "text": [
      "movies: 131262 | tags: 1128\n"
     ]
    }
   ],
   "source": [
    "print(\"movies:\", n_movies, \"| tags:\", n_tags)"
   ]
  },
  {
   "cell_type": "code",
   "execution_count": 12,
   "metadata": {
    "collapsed": false
   },
   "outputs": [],
   "source": [
    "relevance_array = np.zeros((n_tags, n_movies), dtype=float)\n",
    "\n",
    "for i in data.toLocalIterator():\n",
    "    relevance_array[i[\"tagId\"]-1][i[\"movieId\"]-1] = i[\"relevance\"]"
   ]
  },
  {
   "cell_type": "markdown",
   "metadata": {},
   "source": [
    "**save to file** <br>\n",
    "Save the computed array to a file on disk"
   ]
  },
  {
   "cell_type": "code",
   "execution_count": 13,
   "metadata": {
    "collapsed": false
   },
   "outputs": [],
   "source": [
    "np.save(relevance_file_name, relevance_array)"
   ]
  },
  {
   "cell_type": "markdown",
   "metadata": {},
   "source": [
    "**open existing array file** <br>\n",
    "This allows us to use the previously done computations, so that we don't need to relaunch the expensive computation of the matrix, nor need the cluster, freeing up ressources for others"
   ]
  },
  {
   "cell_type": "code",
   "execution_count": 2,
   "metadata": {
    "collapsed": false
   },
   "outputs": [],
   "source": [
    "relevance_array = np.load(relevance_file_name)\n",
    "\n",
    "n_movies = len(relevance_array[1])\n",
    "n_tags = len(relevance_array)"
   ]
  },
  {
   "cell_type": "markdown",
   "metadata": {},
   "source": [
    "## Exercice 3.1"
   ]
  },
  {
   "cell_type": "markdown",
   "metadata": {},
   "source": [
    "### Plot the variance of each dimension / tag."
   ]
  },
  {
   "cell_type": "code",
   "execution_count": 3,
   "metadata": {
    "collapsed": true
   },
   "outputs": [],
   "source": [
    "# compute the variance of each tag and save it into an array\n",
    "rel_var = []\n",
    "for i in relevance_array:\n",
    "    rel_var.append(np.var(i))"
   ]
  },
  {
   "cell_type": "code",
   "execution_count": 4,
   "metadata": {
    "collapsed": false
   },
   "outputs": [
    {
     "data": {
      "text/plain": [
       "[<matplotlib.lines.Line2D at 0x10f6becc0>]"
      ]
     },
     "execution_count": 4,
     "metadata": {},
     "output_type": "execute_result"
    },
    {
     "data": {
      "image/png": "[encoded data removed]",
      "text/plain": [
       "<matplotlib.figure.Figure at 0x10c988780>"
      ]
     },
     "metadata": {},
     "output_type": "display_data"
    }
   ],
   "source": [
    "# plot the variances\n",
    "# TODO title, plot unsorted ?\n",
    "plt.loglog(sorted(rel_var))"
   ]
  },
  {
   "cell_type": "markdown",
   "metadata": {},
   "source": [
    "\n",
    "### Plot the eigenvalues of the covariance matrix."
   ]
  },
  {
   "cell_type": "code",
   "execution_count": 5,
   "metadata": {
    "collapsed": false
   },
   "outputs": [],
   "source": [
    "# compute covariance matrix\n",
    "rel_cov = np.cov(relevance_array)\n",
    "# the formula is:\n",
    "#   rel_cov = 1/n_tags * relevance_array.T @ relevance_array\n",
    "# which gives the same result as the above formula, but is way slower\n",
    "\n",
    "# compute the eigenvalues and -vectors\n",
    "rel_eigvals, rel_eigvecs = la.eigh(rel_cov)"
   ]
  },
  {
   "cell_type": "code",
   "execution_count": 6,
   "metadata": {
    "collapsed": false,
    "scrolled": true
   },
   "outputs": [
    {
     "data": {
      "text/plain": [
       "[<matplotlib.lines.Line2D at 0x1592bb9b0>]"
      ]
     },
     "execution_count": 6,
     "metadata": {},
     "output_type": "execute_result"
    },
    {
     "data": {
      "image/png": "[encoded data removed]",
      "text/plain": [
       "<matplotlib.figure.Figure at 0x159da5208>"
      ]
     },
     "metadata": {},
     "output_type": "display_data"
    }
   ],
   "source": [
    "# plot the eigenvalues\n",
    "plt.loglog(rel_eigvals)"
   ]
  },
  {
   "cell_type": "markdown",
   "metadata": {},
   "source": [
    "### Explain the implications for dimensionality reduction.\n",
    "\n",
    "Dimensionality reduction means you take some principal directions and project the data onto them. <br>\n",
    "By doing this you effectively lose some precision, however the dimension of the data can often be greatly decreased, improving performance.\n",
    "\n",
    "**How many principal directions do you need to capture $2 \\over 3$ of the variability in the data?**"
   ]
  },
  {
   "cell_type": "code",
   "execution_count": 7,
   "metadata": {
    "collapsed": false
   },
   "outputs": [
    {
     "name": "stdout",
     "output_type": "stream",
     "text": [
      "to capture 2/3 of the variability you need 3 principal directions\n"
     ]
    }
   ],
   "source": [
    "# TODO probably wrong, iunno\n",
    "sum_eig = sum(rel_eigvals)\n",
    "s = 0\n",
    "n_eigvals = len(rel_eigvals)\n",
    "index = 0\n",
    "\n",
    "while s < sum_eig*2/3:\n",
    "    s += rel_eigvals[n_eigvals-index-1]\n",
    "    index += 1\n",
    "\n",
    "print(\"to capture 2/3 of the variability you need\", index, \"principal directions\")"
   ]
  },
  {
   "cell_type": "markdown",
   "metadata": {},
   "source": [
    "## Exercice 3.2"
   ]
  },
  {
   "cell_type": "markdown",
   "metadata": {},
   "source": [
    "### For the five first principal directions, find the 10 tags that have the highest and lowest coordinates in that direction."
   ]
  },
  {
   "cell_type": "code",
   "execution_count": 8,
   "metadata": {
    "collapsed": false
   },
   "outputs": [],
   "source": [
    "# first 5 principle directions\n",
    "# TODO not sure about formula...\n",
    "rel_dirs = []\n",
    "for i in range(5):\n",
    "    rel_dirs.append(rel_cov @ rel_eigvecs[-i-1])\n",
    "    # multiply by covariance matrix ?"
   ]
  },
  {
   "cell_type": "code",
   "execution_count": 9,
   "metadata": {
    "collapsed": false
   },
   "outputs": [],
   "source": [
    "def find_tags(tags, direction):\n",
    "    N = len(tags)\n",
    "    \n",
    "    scores = np.zeros(N)\n",
    "\n",
    "    for i in range(N):\n",
    "        scores[i] = np.dot(tags[i], direction)\n",
    "    \n",
    "    # find indeces of 10 highest / lowest entries\n",
    "    top10 = np.argsort(-scores)[:10]\n",
    "    bottom10 = np.argsort(scores)[:10] # bottom 10 are always 0, as there are empty tags, where all entries are 0\n",
    "    \n",
    "    print(\"  top10:\", top10+1)\n",
    "    print(\"  bottom10:\", bottom10+1)"
   ]
  },
  {
   "cell_type": "code",
   "execution_count": 10,
   "metadata": {
    "collapsed": false,
    "scrolled": true
   },
   "outputs": [
    {
     "name": "stdout",
     "output_type": "stream",
     "text": [
      "1st principal direction:\n",
      "  top10: [   318   2571   2959 112582  27667  40697   4226     50 119139   4878]\n",
      "  bottom10: [131262  84564  84563  84562  84561  84560  84559  84558  84557  84556]\n",
      "\n",
      "2nd principal direction:\n",
      "  top10: [ 8859 53996 36531 51520 60072 61348  5507 34150  7454  2617]\n",
      "  bottom10: [ 5373  7767  3134  8125 26587  3089  6669  5147  6985  6611]\n",
      "\n",
      "3rd principal direction:\n",
      "  top10: [  2959    318   2571  27667   4226 112582     50  40697 119139   4878]\n",
      "  bottom10: [131262  84707  84706  84705  84704  84703  84702  84701  84700  84699]\n",
      "\n",
      "4th principal direction:\n",
      "  top10: [ 27667   2571 119139 112582  40697    318   2959    260   1196   4226]\n",
      "  bottom10: [131262  83946  83945  83944  83943  83942  83941  83940  83939  83938]\n",
      "\n",
      "5th principal direction:\n",
      "  top10: [131262  84682  84681  84680  84679  84678  84677  84676  84675  84674]\n",
      "  bottom10: [   318   2571   2959  27667 112582  40697     50 119139   4226  25911]\n",
      "\n"
     ]
    }
   ],
   "source": [
    "count = [\"1st\", \"2nd\", \"3rd\", \"4th\", \"5th\"]\n",
    "\n",
    "for i in range(5):\n",
    "    print(count[i], \"principal direction:\")\n",
    "    find_tags(relevance_array.T, rel_dirs[i])\n",
    "    print(\"\")"
   ]
  },
  {
   "cell_type": "markdown",
   "metadata": {},
   "source": [
    "### What concepts would you use to describe these dimensions?"
   ]
  },
  {
   "cell_type": "markdown",
   "metadata": {
    "collapsed": true
   },
   "source": [
    "WHAT??"
   ]
  },
  {
   "cell_type": "markdown",
   "metadata": {},
   "source": [
    "## Exercice 3.3"
   ]
  },
  {
   "cell_type": "markdown",
   "metadata": {},
   "source": [
    "### Create an interactive plot that displays the 2D-projection of the movies using bokeh and its hover tool. Color the nodes by their Rotten Tomatoes score."
   ]
  },
  {
   "cell_type": "code",
   "execution_count": 11,
   "metadata": {
    "collapsed": false
   },
   "outputs": [
    {
     "data": {
      "text/html": [
       "\n",
       "    <div class=\"bk-root\">\n",
       "        <a href=\"http://bokeh.pydata.org\" target=\"_blank\" class=\"bk-logo bk-logo-small bk-logo-notebook\"></a>\n",
       "        <span id=\"9aefcd88-2e89-4e82-9d0d-95db4efb5897\">Loading BokehJS ...</span>\n",
       "    </div>"
      ]
     },
     "metadata": {},
     "output_type": "display_data"
    },
    {
     "data": {
      "application/javascript": [
       "\n",
       "(function(global) {\n",
       "  function now() {\n",
       "    return new Date();\n",
       "  }\n",
       "\n",
       "  if (typeof (window._bokeh_onload_callbacks) === \"undefined\") {\n",
       "    window._bokeh_onload_callbacks = [];\n",
       "  }\n",
       "\n",
       "  function run_callbacks() {\n",
       "    window._bokeh_onload_callbacks.forEach(function(callback) { callback() });\n",
       "    delete window._bokeh_onload_callbacks\n",
       "    console.info(\"Bokeh: all callbacks have finished\");\n",
       "  }\n",
       "\n",
       "  function load_libs(js_urls, callback) {\n",
       "    window._bokeh_onload_callbacks.push(callback);\n",
       "    if (window._bokeh_is_loading > 0) {\n",
       "      console.log(\"Bokeh: BokehJS is being loaded, scheduling callback at\", now());\n",
       "      return null;\n",
       "    }\n",
       "    if (js_urls == null || js_urls.length === 0) {\n",
       "      run_callbacks();\n",
       "      return null;\n",
       "    }\n",
       "    console.log(\"Bokeh: BokehJS not loaded, scheduling load and callback at\", now());\n",
       "    window._bokeh_is_loading = js_urls.length;\n",
       "    for (var i = 0; i < js_urls.length; i++) {\n",
       "      var url = js_urls[i];\n",
       "      var s = document.createElement('script');\n",
       "      s.src = url;\n",
       "      s.async = false;\n",
       "      s.onreadystatechange = s.onload = function() {\n",
       "        window._bokeh_is_loading--;\n",
       "        if (window._bokeh_is_loading === 0) {\n",
       "          console.log(\"Bokeh: all BokehJS libraries loaded\");\n",
       "          run_callbacks()\n",
       "        }\n",
       "      };\n",
       "      s.onerror = function() {\n",
       "        console.warn(\"failed to load library \" + url);\n",
       "      };\n",
       "      console.log(\"Bokeh: injecting script tag for BokehJS library: \", url);\n",
       "      document.getElementsByTagName(\"head\")[0].appendChild(s);\n",
       "    }\n",
       "  };\n",
       "\n",
       "  var js_urls = ['https://cdn.pydata.org/bokeh/release/bokeh-0.12.0.min.js', 'https://cdn.pydata.org/bokeh/release/bokeh-widgets-0.12.0.min.js', 'https://cdn.pydata.org/bokeh/release/bokeh-compiler-0.12.0.min.js'];\n",
       "\n",
       "  var inline_js = [\n",
       "    function(Bokeh) {\n",
       "      Bokeh.set_log_level(\"info\");\n",
       "    },\n",
       "    \n",
       "    function(Bokeh) {\n",
       "      Bokeh.$(\"#9aefcd88-2e89-4e82-9d0d-95db4efb5897\").text(\"BokehJS successfully loaded\");\n",
       "    },\n",
       "    function(Bokeh) {\n",
       "      console.log(\"Bokeh: injecting CSS: https://cdn.pydata.org/bokeh/release/bokeh-0.12.0.min.css\");\n",
       "      Bokeh.embed.inject_css(\"https://cdn.pydata.org/bokeh/release/bokeh-0.12.0.min.css\");\n",
       "      console.log(\"Bokeh: injecting CSS: https://cdn.pydata.org/bokeh/release/bokeh-widgets-0.12.0.min.css\");\n",
       "      Bokeh.embed.inject_css(\"https://cdn.pydata.org/bokeh/release/bokeh-widgets-0.12.0.min.css\");\n",
       "    }\n",
       "  ];\n",
       "\n",
       "  function run_inline_js() {\n",
       "    for (var i = 0; i < inline_js.length; i++) {\n",
       "      inline_js[i](window.Bokeh);\n",
       "    }\n",
       "  }\n",
       "\n",
       "  if (window._bokeh_is_loading === 0) {\n",
       "    console.log(\"Bokeh: BokehJS loaded, going straight to plotting\");\n",
       "    run_inline_js();\n",
       "  } else {\n",
       "    load_libs(js_urls, function() {\n",
       "      console.log(\"Bokeh: BokehJS plotting callback run at\", now());\n",
       "      run_inline_js();\n",
       "    });\n",
       "  }\n",
       "}(this));"
      ]
     },
     "metadata": {},
     "output_type": "display_data"
    }
   ],
   "source": [
    "from bokeh.io import show, output_notebook\n",
    "from bokeh.plotting import figure, ColumnDataSource\n",
    "from bokeh.models import HoverTool, ResetTool, PanTool, WheelZoomTool, SaveTool\n",
    "output_notebook()\n",
    "import pickle"
   ]
  },
  {
   "cell_type": "code",
   "execution_count": 12,
   "metadata": {
    "collapsed": false
   },
   "outputs": [],
   "source": [
    "# Reading an object from disk.\n",
    "with open(\"selected-movies.pickle\", \"rb\") as f:\n",
    "    movies = pickle.load(f, encoding=\"utf-8\")\n",
    "    \n",
    "for movie in movies:\n",
    "#    print(movie)\n",
    "    pass"
   ]
  },
  {
   "cell_type": "code",
   "execution_count": 13,
   "metadata": {
    "collapsed": false
   },
   "outputs": [],
   "source": [
    "projected_x = [] # first principal direction\n",
    "projected_y = [] # second principal direction\n",
    "\n",
    "for i in movies:\n",
    "    projected_x.append(np.dot(relevance_array.T[i[0]-1], rel_dirs[0]))\n",
    "    projected_y.append(np.dot(relevance_array.T[i[0]-1], rel_dirs[1]))"
   ]
  },
  {
   "cell_type": "code",
   "execution_count": 14,
   "metadata": {
    "collapsed": false,
    "scrolled": false
   },
   "outputs": [
    {
     "data": {
      "text/html": [
       "\n",
       "\n",
       "    <div class=\"bk-root\">\n",
       "        <div class=\"plotdiv\" id=\"cf758ea2-c4b8-450f-bd4e-a5a6658e0896\"></div>\n",
       "    </div>\n",
       "<script type=\"text/javascript\">\n",
       "  \n",
       "  (function(global) {\n",
       "    function now() {\n",
       "      return new Date();\n",
       "    }\n",
       "  \n",
       "    if (typeof (window._bokeh_onload_callbacks) === \"undefined\") {\n",
       "      window._bokeh_onload_callbacks = [];\n",
       "    }\n",
       "  \n",
       "    function run_callbacks() {\n",
       "      window._bokeh_onload_callbacks.forEach(function(callback) { callback() });\n",
       "      delete window._bokeh_onload_callbacks\n",
       "      console.info(\"Bokeh: all callbacks have finished\");\n",
       "    }\n",
       "  \n",
       "    function load_libs(js_urls, callback) {\n",
       "      window._bokeh_onload_callbacks.push(callback);\n",
       "      if (window._bokeh_is_loading > 0) {\n",
       "        console.log(\"Bokeh: BokehJS is being loaded, scheduling callback at\", now());\n",
       "        return null;\n",
       "      }\n",
       "      if (js_urls == null || js_urls.length === 0) {\n",
       "        run_callbacks();\n",
       "        return null;\n",
       "      }\n",
       "      console.log(\"Bokeh: BokehJS not loaded, scheduling load and callback at\", now());\n",
       "      window._bokeh_is_loading = js_urls.length;\n",
       "      for (var i = 0; i < js_urls.length; i++) {\n",
       "        var url = js_urls[i];\n",
       "        var s = document.createElement('script');\n",
       "        s.src = url;\n",
       "        s.async = false;\n",
       "        s.onreadystatechange = s.onload = function() {\n",
       "          window._bokeh_is_loading--;\n",
       "          if (window._bokeh_is_loading === 0) {\n",
       "            console.log(\"Bokeh: all BokehJS libraries loaded\");\n",
       "            run_callbacks()\n",
       "          }\n",
       "        };\n",
       "        s.onerror = function() {\n",
       "          console.warn(\"failed to load library \" + url);\n",
       "        };\n",
       "        console.log(\"Bokeh: injecting script tag for BokehJS library: \", url);\n",
       "        document.getElementsByTagName(\"head\")[0].appendChild(s);\n",
       "      }\n",
       "    };var element = document.getElementById(\"cf758ea2-c4b8-450f-bd4e-a5a6658e0896\");\n",
       "    if (element == null) {\n",
       "      console.log(\"Bokeh: ERROR: autoload.js configured with elementid 'cf758ea2-c4b8-450f-bd4e-a5a6658e0896' but no matching script tag was found. \")\n",
       "      return false;\n",
       "    }\n",
       "  \n",
       "    var js_urls = [];\n",
       "  \n",
       "    var inline_js = [\n",
       "      function(Bokeh) {\n",
       "        Bokeh.$(function() {\n",
       "            var docs_json = {\"37cddd5f-49d1-4c19-a4a4-b4e006561d37\":{\"roots\":{\"references\":[{\"attributes\":{\"active_drag\":\"auto\",\"active_scroll\":\"auto\",\"active_tap\":\"auto\",\"tools\":[{\"id\":\"054f74bd-9a21-4877-b4b5-c6ee6d487429\",\"type\":\"HoverTool\"},{\"id\":\"84f0f897-4e14-46d4-b5f9-e7fc57531836\",\"type\":\"ResetTool\"},{\"id\":\"b1968a68-ea62-4fbb-a335-4fdbe4fc1986\",\"type\":\"PanTool\"},{\"id\":\"994e241d-f6f1-4471-a1ad-5ffbf33b5be6\",\"type\":\"WheelZoomTool\"},{\"id\":\"62df708c-f363-45d3-bd22-d4d69841160c\",\"type\":\"SaveTool\"}]},\"id\":\"3f5628a6-a232-46f1-a3ee-6c30a52d6948\",\"type\":\"Toolbar\"},{\"attributes\":{},\"id\":\"0087641e-4b14-4329-80a5-b8e7e6450de9\",\"type\":\"BasicTickFormatter\"},{\"attributes\":{\"formatter\":{\"id\":\"f7648152-5748-449c-bac6-2c81813df3e1\",\"type\":\"BasicTickFormatter\"},\"plot\":{\"id\":\"e97558a1-b3d6-431f-9a49-832af5bc9688\",\"subtype\":\"Figure\",\"type\":\"Plot\"},\"ticker\":{\"id\":\"5391a8ea-036c-44dc-bccd-ba6e833e154e\",\"type\":\"BasicTicker\"}},\"id\":\"e69b959a-46ed-4810-8aa7-543e152c7817\",\"type\":\"LinearAxis\"},{\"attributes\":{\"plot\":{\"id\":\"e97558a1-b3d6-431f-9a49-832af5bc9688\",\"subtype\":\"Figure\",\"type\":\"Plot\"}},\"id\":\"62df708c-f363-45d3-bd22-d4d69841160c\",\"type\":\"SaveTool\"},{\"attributes\":{\"data_source\":{\"id\":\"f3f6cf97-1aa9-4a7d-b454-552f5a6e7b1b\",\"type\":\"ColumnDataSource\"},\"glyph\":{\"id\":\"5250ec46-726a-4381-ac28-d0c503822e23\",\"type\":\"Circle\"},\"hover_glyph\":null,\"nonselection_glyph\":{\"id\":\"dff6f2f6-16fa-4dac-9c80-b9938aaacbcc\",\"type\":\"Circle\"},\"selection_glyph\":null},\"id\":\"431da40c-10c1-40d9-93bf-77535fb5361d\",\"type\":\"GlyphRenderer\"},{\"attributes\":{},\"id\":\"5391a8ea-036c-44dc-bccd-ba6e833e154e\",\"type\":\"BasicTicker\"},{\"attributes\":{\"callback\":null},\"id\":\"832dfd90-bbd9-4052-9e07-8965f134d75f\",\"type\":\"DataRange1d\"},{\"attributes\":{\"formatter\":{\"id\":\"0087641e-4b14-4329-80a5-b8e7e6450de9\",\"type\":\"BasicTickFormatter\"},\"plot\":{\"id\":\"e97558a1-b3d6-431f-9a49-832af5bc9688\",\"subtype\":\"Figure\",\"type\":\"Plot\"},\"ticker\":{\"id\":\"d59249f9-1bb6-44f7-9e71-87bce2cf6ea6\",\"type\":\"BasicTicker\"}},\"id\":\"1038b121-be78-4246-a634-03f7498c06fb\",\"type\":\"LinearAxis\"},{\"attributes\":{},\"id\":\"f7648152-5748-449c-bac6-2c81813df3e1\",\"type\":\"BasicTickFormatter\"},{\"attributes\":{\"callback\":null,\"column_names\":[\"y\",\"name\",\"x\",\"color\"],\"data\":{\"color\":[\"#ccff00\",\"#38ff00\",\"#42ff00\",\"#2eff00\",\"#57ff00\",\"#1aff00\",\"#42ff00\",\"#ff4c00\",\"#ff4200\",\"#4dff00\",\"#70ff00\",\"#4dff00\",\"#29ff00\",\"#24ff00\",\"#24ff00\",\"#fff000\",\"#14ff00\",\"#6bff00\",\"#ff5700\",\"#3dff00\",\"#33ff00\",\"#ffad00\",\"#61ff00\",\"#00ff00\",\"#2eff00\",\"#8fff00\",\"#1aff00\",\"#66ff00\",\"#a3ff00\",\"#b8ff00\",\"#0aff00\",\"#faff00\",\"#1aff00\",\"#a8ff00\",\"#57ff00\",\"#3dff00\",\"#ccff00\"],\"name\":[\"Independence Day (a.k.a. ID4) (1996)\",\"Spider-Man (2002)\",\"Matrix, The (1999)\",\"Shawshank Redemption, The (1994)\",\"American History X (1998)\",\"Wild Strawberries (Smultronst\\u00e4llet) (1957)\",\"Control (2007)\",\"Miss Congeniality 2: Armed and Fabulous (2005)\",\"Just My Luck (2006)\",\"Santa Sangre (1989)\",\"Videodrome (1983)\",\"Billy Elliot (2000)\",\"Pride (2014)\",\"Jurassic Park (1993)\",\"Star Wars: Episode IV - A New Hope (1977)\",\"Princess Diaries, The (2001)\",\"Schindler's List (1993)\",\"Fight Club (1999)\",\"New York Ripper, The (Squartatore di New York, Lo) (1982)\",\"American Beauty (1999)\",\"City of God (Cidade de Deus) (2002)\",\"Battleship (2012)\",\"Take Care of My Cat (Goyangileul butaghae) (2001)\",\"Terminator, The (1984)\",\"Edge of Tomorrow (2014)\",\"Forrest Gump (1994)\",\"King's Speech, The (2010)\",\"Life Is Beautiful (La Vita \\u00e8 bella) (1997)\",\"Stage Fright (Deliria) (1987)\",\"Ichi the Killer (Koroshiya 1) (2001)\",\"Brazil (1985)\",\"Fountain, The (2006)\",\"Accused, The (1988)\",\"Time to Kill, A (1996)\",\"Ghost Writer, The (2010)\",\"Superbad (2007)\",\"American Pie (1999)\"],\"x\":[0.21456652389973627,0.2130772935896184,0.30574174238931706,0.3067919044930742,0.27806848689267544,0.2192846413310482,0.22388405007973008,0.10483349206223469,0.09212523234432811,0.18199829803499623,0.1591965635249426,0.19571308554706973,0.18860580984846237,0.2422448527637202,0.2825635983156441,0.1255797220053792,0.26860477762928303,0.3034153228552744,0.13276663586872647,0.27947841247261146,0.2813634259188374,0.13902345865202065,0.08752118764742581,0.25608561508240646,0.248728075594251,0.26293894606794477,0.22755141438546495,0.24704545033286046,0.1752970489037183,0.16509421312048822,0.23584818055993845,0.2215092610562034,0.20491342486341887,0.16962586446522623,0.19299910861367034,0.18772458503553585,0.18089129387020544],\"y\":[0.0305945279320431,0.03239611922242126,0.020550767861028486,0.0052836621523451,0.006930735681119315,-0.009301159434447474,-0.0011393328134907707,0.02240050723355497,0.021145234482568394,0.004160404526742401,0.007501820692638159,0.004739765288977864,0.001955814264063663,0.026062737222535895,0.01867501801648433,0.024217174138918884,-0.001235144996212502,0.011068967920534642,0.019517969976296835,0.001308849003787296,0.004712993336485193,0.030536808146574106,-0.00045802557452869077,0.021370525923803434,0.020360974079387435,0.008575301170676935,0.00010083566606024848,-0.0007570341414936438,0.01499696898874146,0.01590742433882586,0.0013731394564796572,8.589289424066601e-05,0.01156665512949722,0.01771178130406683,0.007326918717541738,0.019485666481744615,0.028608067582518097]}},\"id\":\"f3f6cf97-1aa9-4a7d-b454-552f5a6e7b1b\",\"type\":\"ColumnDataSource\"},{\"attributes\":{\"plot\":{\"id\":\"e97558a1-b3d6-431f-9a49-832af5bc9688\",\"subtype\":\"Figure\",\"type\":\"Plot\"}},\"id\":\"84f0f897-4e14-46d4-b5f9-e7fc57531836\",\"type\":\"ResetTool\"},{\"attributes\":{\"plot\":null,\"text\":\"Mouse over the dots\"},\"id\":\"1d31b7d0-10ef-44f7-8c5f-367c1e3f519c\",\"type\":\"Title\"},{\"attributes\":{\"dimension\":1,\"plot\":{\"id\":\"e97558a1-b3d6-431f-9a49-832af5bc9688\",\"subtype\":\"Figure\",\"type\":\"Plot\"},\"ticker\":{\"id\":\"d59249f9-1bb6-44f7-9e71-87bce2cf6ea6\",\"type\":\"BasicTicker\"}},\"id\":\"74f4cde4-446b-499a-8f39-d0d83bb6ecd3\",\"type\":\"Grid\"},{\"attributes\":{},\"id\":\"db53c9e1-8134-4826-9be9-41977366b8b0\",\"type\":\"ToolEvents\"},{\"attributes\":{\"plot\":{\"id\":\"e97558a1-b3d6-431f-9a49-832af5bc9688\",\"subtype\":\"Figure\",\"type\":\"Plot\"},\"ticker\":{\"id\":\"5391a8ea-036c-44dc-bccd-ba6e833e154e\",\"type\":\"BasicTicker\"}},\"id\":\"52f8d9db-75ff-4f16-9c1a-09a9bededa1d\",\"type\":\"Grid\"},{\"attributes\":{\"callback\":null,\"plot\":{\"id\":\"e97558a1-b3d6-431f-9a49-832af5bc9688\",\"subtype\":\"Figure\",\"type\":\"Plot\"},\"tooltips\":[[\"Name\",\"@name\"]]},\"id\":\"054f74bd-9a21-4877-b4b5-c6ee6d487429\",\"type\":\"HoverTool\"},{\"attributes\":{\"below\":[{\"id\":\"e69b959a-46ed-4810-8aa7-543e152c7817\",\"type\":\"LinearAxis\"}],\"left\":[{\"id\":\"1038b121-be78-4246-a634-03f7498c06fb\",\"type\":\"LinearAxis\"}],\"plot_height\":960,\"plot_width\":960,\"renderers\":[{\"id\":\"e69b959a-46ed-4810-8aa7-543e152c7817\",\"type\":\"LinearAxis\"},{\"id\":\"52f8d9db-75ff-4f16-9c1a-09a9bededa1d\",\"type\":\"Grid\"},{\"id\":\"1038b121-be78-4246-a634-03f7498c06fb\",\"type\":\"LinearAxis\"},{\"id\":\"74f4cde4-446b-499a-8f39-d0d83bb6ecd3\",\"type\":\"Grid\"},{\"id\":\"431da40c-10c1-40d9-93bf-77535fb5361d\",\"type\":\"GlyphRenderer\"}],\"title\":{\"id\":\"1d31b7d0-10ef-44f7-8c5f-367c1e3f519c\",\"type\":\"Title\"},\"tool_events\":{\"id\":\"db53c9e1-8134-4826-9be9-41977366b8b0\",\"type\":\"ToolEvents\"},\"toolbar\":{\"id\":\"3f5628a6-a232-46f1-a3ee-6c30a52d6948\",\"type\":\"Toolbar\"},\"x_range\":{\"id\":\"36a7888a-586c-4c0d-b323-c602b36f1cfa\",\"type\":\"DataRange1d\"},\"y_range\":{\"id\":\"832dfd90-bbd9-4052-9e07-8965f134d75f\",\"type\":\"DataRange1d\"}},\"id\":\"e97558a1-b3d6-431f-9a49-832af5bc9688\",\"subtype\":\"Figure\",\"type\":\"Plot\"},{\"attributes\":{},\"id\":\"d59249f9-1bb6-44f7-9e71-87bce2cf6ea6\",\"type\":\"BasicTicker\"},{\"attributes\":{\"plot\":{\"id\":\"e97558a1-b3d6-431f-9a49-832af5bc9688\",\"subtype\":\"Figure\",\"type\":\"Plot\"}},\"id\":\"b1968a68-ea62-4fbb-a335-4fdbe4fc1986\",\"type\":\"PanTool\"},{\"attributes\":{\"fill_alpha\":{\"value\":0.1},\"fill_color\":{\"value\":\"#1f77b4\"},\"line_alpha\":{\"value\":0.1},\"line_color\":{\"value\":\"#1f77b4\"},\"size\":{\"units\":\"screen\",\"value\":20},\"x\":{\"field\":\"x\"},\"y\":{\"field\":\"y\"}},\"id\":\"dff6f2f6-16fa-4dac-9c80-b9938aaacbcc\",\"type\":\"Circle\"},{\"attributes\":{\"callback\":null},\"id\":\"36a7888a-586c-4c0d-b323-c602b36f1cfa\",\"type\":\"DataRange1d\"},{\"attributes\":{\"plot\":{\"id\":\"e97558a1-b3d6-431f-9a49-832af5bc9688\",\"subtype\":\"Figure\",\"type\":\"Plot\"}},\"id\":\"994e241d-f6f1-4471-a1ad-5ffbf33b5be6\",\"type\":\"WheelZoomTool\"},{\"attributes\":{\"fill_color\":{\"field\":\"color\"},\"line_color\":{\"field\":\"color\"},\"size\":{\"units\":\"screen\",\"value\":20},\"x\":{\"field\":\"x\"},\"y\":{\"field\":\"y\"}},\"id\":\"5250ec46-726a-4381-ac28-d0c503822e23\",\"type\":\"Circle\"}],\"root_ids\":[\"e97558a1-b3d6-431f-9a49-832af5bc9688\"]},\"title\":\"Bokeh Application\",\"version\":\"0.12.0\"}};\n",
       "            var render_items = [{\"docid\":\"37cddd5f-49d1-4c19-a4a4-b4e006561d37\",\"elementid\":\"cf758ea2-c4b8-450f-bd4e-a5a6658e0896\",\"modelid\":\"e97558a1-b3d6-431f-9a49-832af5bc9688\",\"notebook_comms_target\":\"33b64914-2724-43ba-a92a-6c053e4dde58\"}];\n",
       "            \n",
       "            Bokeh.embed.embed_items(docs_json, render_items);\n",
       "        });\n",
       "      },\n",
       "      function(Bokeh) {\n",
       "      }\n",
       "    ];\n",
       "  \n",
       "    function run_inline_js() {\n",
       "      for (var i = 0; i < inline_js.length; i++) {\n",
       "        inline_js[i](window.Bokeh);\n",
       "      }\n",
       "    }\n",
       "  \n",
       "    if (window._bokeh_is_loading === 0) {\n",
       "      console.log(\"Bokeh: BokehJS loaded, going straight to plotting\");\n",
       "      run_inline_js();\n",
       "    } else {\n",
       "      load_libs(js_urls, function() {\n",
       "        console.log(\"Bokeh: BokehJS plotting callback run at\", now());\n",
       "        run_inline_js();\n",
       "      });\n",
       "    }\n",
       "  }(this));\n",
       "</script>"
      ]
     },
     "metadata": {},
     "output_type": "display_data"
    },
    {
     "data": {
      "text/html": [
       "<p><code>&lt;Bokeh Notebook handle for <strong>In[14]</strong>&gt;</code></p>"
      ],
      "text/plain": [
       "<bokeh.io._CommsHandle at 0x16073b6d8>"
      ]
     },
     "execution_count": 14,
     "metadata": {},
     "output_type": "execute_result"
    }
   ],
   "source": [
    "# Continuous colors\n",
    "from matplotlib.colors import rgb2hex \n",
    "\n",
    "# colors:   0% -> red\n",
    "#          50% -> yellow\n",
    "#         100% -> green\n",
    "# interpolated in between\n",
    "def rottenColor(val):\n",
    "    if val<0.5:\n",
    "        return rgb2hex([1.0, 2*val, 0.0])\n",
    "    else:\n",
    "        return rgb2hex([2*(1.0-val), 1.0, 0.0])\n",
    "\n",
    "source = ColumnDataSource(\n",
    "    data={\n",
    "        \"x\": projected_x,\n",
    "        \"y\": projected_y,\n",
    "        \"name\": [x[1] for x in movies],\n",
    "        \"color\": [rottenColor(x[2]) for x in movies],\n",
    "    })\n",
    "\n",
    "hover = HoverTool(\n",
    "    tooltips=[\n",
    "        (\"Name\", \"@name\"),\n",
    "    ])\n",
    "tools = [hover, ResetTool(), PanTool(), WheelZoomTool(), SaveTool()]\n",
    "\n",
    "p = figure(plot_width=960, plot_height=960, tools=tools, title=\"Mouse over the dots\")\n",
    "p.circle(\"x\", \"y\", source=source, size=20, color=\"color\", alpha=1.0)\n",
    "show(p)"
   ]
  },
  {
   "cell_type": "markdown",
   "metadata": {},
   "source": [
    "***PROBLEM: PRETTY SURE THAT'S SUPPOSED TO BE CENTERED AROUND 0***"
   ]
  },
  {
   "cell_type": "markdown",
   "metadata": {},
   "source": [
    "### Explain the coordinates of a few of the movies."
   ]
  },
  {
   "cell_type": "markdown",
   "metadata": {},
   "source": [
    "The first principal direction is on the X direction, the second is on Y. A result close to 0 means that movie is perfectly represented by that principal direction. For example, \"King's Speech\" is very close to 0 on the Y axism which means that its tags are almost perfectly represented by that direction."
   ]
  },
  {
   "cell_type": "markdown",
   "metadata": {},
   "source": [
    "### How do the PCA directions correlate with the Rotten Tomatoes score?"
   ]
  },
  {
   "cell_type": "markdown",
   "metadata": {
    "collapsed": true
   },
   "source": [
    "iunno"
   ]
  },
  {
   "cell_type": "code",
   "execution_count": null,
   "metadata": {
    "collapsed": true
   },
   "outputs": [],
   "source": []
  }
 ],
 "metadata": {
  "anaconda-cloud": {},
  "kernelspec": {
   "display_name": "Python [Root]",
   "language": "python",
   "name": "Python [Root]"
  },
  "language_info": {
   "codemirror_mode": {
    "name": "ipython",
    "version": 3
   },
   "file_extension": ".py",
   "mimetype": "text/x-python",
   "name": "python",
   "nbconvert_exporter": "python",
   "pygments_lexer": "ipython3",
   "version": "3.5.2"
  }
 },
 "nbformat": 4,
 "nbformat_minor": 1
}
