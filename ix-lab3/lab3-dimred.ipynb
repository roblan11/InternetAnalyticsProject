{
 "cells": [
  {
   "cell_type": "markdown",
   "metadata": {},
   "source": [
    "# Lab 3 — dimensionality reduction\n",
    "**Internet Analytics - Lab 3**\n",
    "\n",
    "---\n",
    "\n",
    "**Group:** *K*\n",
    "\n",
    "**Names:**\n",
    "\n",
    "* *Robin Lang*\n",
    "* *Kim Lan Phan Hoang*"
   ]
  },
  {
   "cell_type": "code",
   "execution_count": 3,
   "metadata": {
    "collapsed": false
   },
   "outputs": [],
   "source": [
    "import json\n",
    "import matplotlib.pyplot as plt\n",
    "import numpy as np\n",
    "import numpy.linalg as la\n",
    "\n",
    "from operator import itemgetter\n",
    "\n",
    "%matplotlib inline\n",
    "plt.style.use(\"ggplot\")\n",
    "\n",
    "relevance_file_name = \"relevance_array.npy\""
   ]
  },
  {
   "cell_type": "markdown",
   "metadata": {},
   "source": [
    "## TESTS PLEASE DELETE"
   ]
  },
  {
   "cell_type": "markdown",
   "metadata": {
    "collapsed": false
   },
   "source": [
    "``` !hdfs dfs -cat /ix/ml-20m/genome-tags.txt | tail -n 2 ```"
   ]
  },
  {
   "cell_type": "code",
   "execution_count": 4,
   "metadata": {
    "collapsed": false
   },
   "outputs": [],
   "source": [
    "movies = sc.textFile(\"/ix/ml-20m/movies.txt\").map(json.loads)\n",
    "tags = sc.textFile(\"/ix/ml-20m/genome-tags.txt\").map(json.loads)\n",
    "data = sc.textFile(\"/ix/ml-20m/genome-scores.txt\").map(json.loads)\n",
    "#tag2name = dict(data.map(itemgetter(\"tagId\", \"tag\")).collect())"
   ]
  },
  {
   "cell_type": "code",
   "execution_count": 5,
   "metadata": {
    "collapsed": false
   },
   "outputs": [
    {
     "data": {
      "text/plain": [
       "[{'movieId': 1, 'relevance': 0.025000000000000022, 'tagId': 1}]"
      ]
     },
     "execution_count": 5,
     "metadata": {},
     "output_type": "execute_result"
    }
   ],
   "source": [
    "data.filter(lambda x: x[\"movieId\"]==1 & x[\"tagId\"]==1).take(1)"
   ]
  },
  {
   "cell_type": "code",
   "execution_count": 6,
   "metadata": {
    "collapsed": false
   },
   "outputs": [
    {
     "data": {
      "text/plain": [
       "[{'tag': '007', 'tagId': 1},\n",
       " {'tag': '007 (series)', 'tagId': 2},\n",
       " {'tag': '18th century', 'tagId': 3},\n",
       " {'tag': '1920s', 'tagId': 4},\n",
       " {'tag': '1930s', 'tagId': 5},\n",
       " {'tag': '1950s', 'tagId': 6},\n",
       " {'tag': '1960s', 'tagId': 7},\n",
       " {'tag': '1970s', 'tagId': 8},\n",
       " {'tag': '1980s', 'tagId': 9},\n",
       " {'tag': '19th century', 'tagId': 10}]"
      ]
     },
     "execution_count": 6,
     "metadata": {},
     "output_type": "execute_result"
    }
   ],
   "source": [
    "tags.take(10)"
   ]
  },
  {
   "cell_type": "code",
   "execution_count": 7,
   "metadata": {
    "collapsed": false
   },
   "outputs": [],
   "source": [
    "scoresByTag = data.groupBy(lambda x: x[\"tagId\"])"
   ]
  },
  {
   "cell_type": "code",
   "execution_count": 8,
   "metadata": {
    "collapsed": false,
    "scrolled": true
   },
   "outputs": [
    {
     "data": {
      "text/plain": [
       "[(552, <pyspark.resultiterable.ResultIterable at 0x7f72081d04e0>),\n",
       " (1068, <pyspark.resultiterable.ResultIterable at 0x7f72081d0550>),\n",
       " (456, <pyspark.resultiterable.ResultIterable at 0x7f72040b5710>),\n",
       " (792, <pyspark.resultiterable.ResultIterable at 0x7f72040b5780>),\n",
       " (570, <pyspark.resultiterable.ResultIterable at 0x7f71ffcc5d68>),\n",
       " (882, <pyspark.resultiterable.ResultIterable at 0x7f71ff992390>),\n",
       " (576, <pyspark.resultiterable.ResultIterable at 0x7f71ff65b978>),\n",
       " (816, <pyspark.resultiterable.ResultIterable at 0x7f71ff325f60>),\n",
       " (294, <pyspark.resultiterable.ResultIterable at 0x7f71feff1588>),\n",
       " (870, <pyspark.resultiterable.ResultIterable at 0x7f71fecbab70>)]"
      ]
     },
     "execution_count": 8,
     "metadata": {},
     "output_type": "execute_result"
    }
   ],
   "source": [
    "scoresByTag.take(10)"
   ]
  },
  {
   "cell_type": "markdown",
   "metadata": {},
   "source": [
    "---"
   ]
  },
  {
   "cell_type": "markdown",
   "metadata": {},
   "source": [
    "**construct ratings array**"
   ]
  },
  {
   "cell_type": "code",
   "execution_count": 9,
   "metadata": {
    "collapsed": true
   },
   "outputs": [],
   "source": [
    "# relaunch!! may contain error!!"
   ]
  },
  {
   "cell_type": "code",
   "execution_count": 10,
   "metadata": {
    "collapsed": false
   },
   "outputs": [],
   "source": [
    "n_movies = movies.map(lambda x: x[\"movieId\"]).max()\n",
    "n_tags = tags.map(lambda x: x[\"tagId\"]).max()"
   ]
  },
  {
   "cell_type": "code",
   "execution_count": 11,
   "metadata": {
    "collapsed": false
   },
   "outputs": [
    {
     "name": "stdout",
     "output_type": "stream",
     "text": [
      "movies: 131262 | tags: 1128\n"
     ]
    }
   ],
   "source": [
    "print(\"movies:\", n_movies, \"| tags:\", n_tags)"
   ]
  },
  {
   "cell_type": "code",
   "execution_count": 12,
   "metadata": {
    "collapsed": false
   },
   "outputs": [],
   "source": [
    "relevance_array = np.zeros((n_tags, n_movies), dtype=float)\n",
    "\n",
    "for i in data.toLocalIterator():\n",
    "    relevance_array[i[\"tagId\"]-1][i[\"movieId\"]-1] = i[\"relevance\"]"
   ]
  },
  {
   "cell_type": "markdown",
   "metadata": {},
   "source": [
    "**save to file**"
   ]
  },
  {
   "cell_type": "code",
   "execution_count": 13,
   "metadata": {
    "collapsed": false
   },
   "outputs": [],
   "source": [
    "np.save(relevance_file_name, relevance_array)"
   ]
  },
  {
   "cell_type": "markdown",
   "metadata": {},
   "source": [
    "**open existing array file**"
   ]
  },
  {
   "cell_type": "code",
   "execution_count": 14,
   "metadata": {
    "collapsed": false
   },
   "outputs": [],
   "source": [
    "relevance_array_load = np.load(relevance_file_name)"
   ]
  },
  {
   "cell_type": "markdown",
   "metadata": {},
   "source": [
    "## Exercice 3.1"
   ]
  },
  {
   "cell_type": "markdown",
   "metadata": {},
   "source": [
    "### Plot the variance of each dimension / tag."
   ]
  },
  {
   "cell_type": "code",
   "execution_count": 15,
   "metadata": {
    "collapsed": true
   },
   "outputs": [],
   "source": [
    "rel_var = []\n",
    "for i in relevance_array_load:\n",
    "    rel_var.append(np.var(i))"
   ]
  },
  {
   "cell_type": "code",
   "execution_count": 16,
   "metadata": {
    "collapsed": false
   },
   "outputs": [
    {
     "data": {
      "text/plain": [
       "[<matplotlib.lines.Line2D at 0x7f71fe5f6668>]"
      ]
     },
     "execution_count": 16,
     "metadata": {},
     "output_type": "execute_result"
    },
    {
     "data": {
      "image/png": "[encoded data removed]",
      "text/plain": [
       "<matplotlib.figure.Figure at 0x7f71fe5d0e80>"
      ]
     },
     "metadata": {},
     "output_type": "display_data"
    }
   ],
   "source": [
    "plt.loglog(sorted(rel_var))"
   ]
  },
  {
   "cell_type": "markdown",
   "metadata": {},
   "source": [
    "\n",
    "### Plot the eigenvalues of the covariance matrix."
   ]
  },
  {
   "cell_type": "code",
   "execution_count": 56,
   "metadata": {
    "collapsed": false
   },
   "outputs": [],
   "source": [
    "rel_cov = np.cov(relevance_array_load)\n",
    "rel_eigvals, rel_eigvecs = la.eigh(rel_cov)"
   ]
  },
  {
   "cell_type": "code",
   "execution_count": 57,
   "metadata": {
    "collapsed": false,
    "scrolled": true
   },
   "outputs": [
    {
     "data": {
      "text/plain": [
       "[<matplotlib.lines.Line2D at 0x7f7199f16a90>]"
      ]
     },
     "execution_count": 57,
     "metadata": {},
     "output_type": "execute_result"
    },
    {
     "data": {
      "image/png": "[encoded data removed]",
      "text/plain": [
       "<matplotlib.figure.Figure at 0x7f7199e5bb70>"
      ]
     },
     "metadata": {},
     "output_type": "display_data"
    }
   ],
   "source": [
    "plt.loglog(rel_eigvals)"
   ]
  },
  {
   "cell_type": "code",
   "execution_count": 58,
   "metadata": {
    "collapsed": false
   },
   "outputs": [
    {
     "ename": "MemoryError",
     "evalue": "",
     "output_type": "error",
     "traceback": [
      "\u001b[0;31m---------------------------------------------------------------------------\u001b[0m",
      "\u001b[0;31mMemoryError\u001b[0m                               Traceback (most recent call last)",
      "\u001b[0;32m<ipython-input-58-0fdd5a8f935a>\u001b[0m in \u001b[0;36m<module>\u001b[0;34m()\u001b[0m\n\u001b[1;32m      1\u001b[0m \u001b[0;31m# WAAAY SLOWER, BUT SAME RESULT\u001b[0m\u001b[0;34m\u001b[0m\u001b[0;34m\u001b[0m\u001b[0m\n\u001b[0;32m----> 2\u001b[0;31m \u001b[0mrel_cov2\u001b[0m \u001b[0;34m=\u001b[0m \u001b[0;36m1\u001b[0m\u001b[0;34m/\u001b[0m\u001b[0mn_tags\u001b[0m \u001b[0;34m*\u001b[0m \u001b[0mrelevance_array_load\u001b[0m\u001b[0;34m.\u001b[0m\u001b[0mT\u001b[0m \u001b[0;34m@\u001b[0m \u001b[0mrelevance_array_load\u001b[0m\u001b[0;34m\u001b[0m\u001b[0m\n\u001b[0m\u001b[1;32m      3\u001b[0m \u001b[0mrel_eigvals2\u001b[0m\u001b[0;34m,\u001b[0m \u001b[0mrel_eigvecs2\u001b[0m \u001b[0;34m=\u001b[0m \u001b[0mla\u001b[0m\u001b[0;34m.\u001b[0m\u001b[0meigh\u001b[0m\u001b[0;34m(\u001b[0m\u001b[0mrel_cov\u001b[0m\u001b[0;34m)\u001b[0m\u001b[0;34m\u001b[0m\u001b[0m\n",
      "\u001b[0;31mMemoryError\u001b[0m: "
     ]
    }
   ],
   "source": [
    "# WAAAY SLOWER, BUT SAME RESULT\n",
    "rel_cov2 = 1/n_tags * relevance_array_load.T @ relevance_array_load\n",
    "rel_eigvals2, rel_eigvecs2 = la.eigh(rel_cov)"
   ]
  },
  {
   "cell_type": "code",
   "execution_count": null,
   "metadata": {
    "collapsed": false,
    "scrolled": true
   },
   "outputs": [],
   "source": [
    "plt.loglog(rel_eigvals2)"
   ]
  },
  {
   "cell_type": "markdown",
   "metadata": {},
   "source": [
    "### Explain the implications for dimensionality reduction.\n",
    "\n",
    "Dimensionality reduction means you take some principal directions and project the data onto them. <br>\n",
    "By doing this you effectively lose some precision, however the dimension of the data can often be greatly decreased, improving performance.\n",
    "\n",
    "**How many principal directions do you need to capture $2 \\over 3$ of the variability in the data?**"
   ]
  },
  {
   "cell_type": "code",
   "execution_count": null,
   "metadata": {
    "collapsed": false
   },
   "outputs": [],
   "source": [
    "sum_eig = sum(rel_eigvals)\n",
    "s = 0\n",
    "n_eigvals = len(rel_eigvals)\n",
    "index = 0\n",
    "\n",
    "while s < sum_eig*2/3:\n",
    "    s += rel_eigvals[n_eigvals-index-1]\n",
    "    index += 1\n",
    "\n",
    "print(\"to capture 2/3 of the variability you need\", index, \"principal directions\")"
   ]
  },
  {
   "cell_type": "markdown",
   "metadata": {},
   "source": [
    "## Exercice 3.2"
   ]
  },
  {
   "cell_type": "markdown",
   "metadata": {},
   "source": [
    "### For the five first principal directions, find the 10 tags that have the highest and lowest coordinates in that direction."
   ]
  },
  {
   "cell_type": "code",
   "execution_count": null,
   "metadata": {
    "collapsed": false
   },
   "outputs": [],
   "source": [
    "# first 5 principle directions (i think anyway)\n",
    "rel_dirs = []\n",
    "for i in range(5):\n",
    "    rel_dirs.append(rel_cov @ rel_eigvecs[-i-1])"
   ]
  },
  {
   "cell_type": "code",
   "execution_count": null,
   "metadata": {
    "collapsed": false
   },
   "outputs": [],
   "source": [
    "def find_tags(tags, direction):\n",
    "    N = len(tags)\n",
    "    \n",
    "    scores = np.zeros(N)\n",
    "\n",
    "    for i in range(N):\n",
    "        scores[i] = np.dot(tags[i], direction)\n",
    "    \n",
    "    top10 = np.argsort(-scores)[:10]\n",
    "    bottom10 = np.argsort(scores)[:10] # bottom 10 are always 0, as there are empty tags, where all entries are 0\n",
    "    \n",
    "    print(\"top10:\", top10+1)\n",
    "    print(\"bottom10:\", bottom10+1)"
   ]
  },
  {
   "cell_type": "code",
   "execution_count": null,
   "metadata": {
    "collapsed": false,
    "scrolled": true
   },
   "outputs": [],
   "source": [
    "find_tags(relevance_array_load.T, rel_dirs[0])"
   ]
  },
  {
   "cell_type": "markdown",
   "metadata": {},
   "source": [
    "### What concepts would you use to describe these dimensions?"
   ]
  },
  {
   "cell_type": "markdown",
   "metadata": {
    "collapsed": true
   },
   "source": [
    "WHAT??"
   ]
  },
  {
   "cell_type": "markdown",
   "metadata": {},
   "source": [
    "## Exercice 3.3"
   ]
  },
  {
   "cell_type": "markdown",
   "metadata": {},
   "source": [
    "### Create an interactive plot that displays the 2D-projection of the movies using bokeh and its hover tool. Color the nodes by their Rotten Tomatoes score."
   ]
  },
  {
   "cell_type": "code",
   "execution_count": null,
   "metadata": {
    "collapsed": false
   },
   "outputs": [],
   "source": [
    "from bokeh.io import show, output_notebook\n",
    "from bokeh.plotting import figure, ColumnDataSource\n",
    "from bokeh.models import HoverTool, ResetTool, PanTool, WheelZoomTool, SaveTool\n",
    "output_notebook()\n",
    "import pickle"
   ]
  },
  {
   "cell_type": "code",
   "execution_count": null,
   "metadata": {
    "collapsed": false
   },
   "outputs": [],
   "source": [
    "# Reading an object from disk.\n",
    "with open(\"selected-movies.pickle\", \"rb\") as f:\n",
    "    movies = pickle.load(f, encoding=\"utf-8\")\n",
    "    \n",
    "for movie in movies:\n",
    "#    print(movie)\n",
    "    pass"
   ]
  },
  {
   "cell_type": "code",
   "execution_count": null,
   "metadata": {
    "collapsed": false
   },
   "outputs": [],
   "source": [
    "projected_x = [] # first principal direction\n",
    "projected_y = [] # second principal direction\n",
    "\n",
    "for i in movies:\n",
    "    projected_x.append(np.dot(relevance_array_load.T[i[0]-1], rel_dirs[0]))\n",
    "    projected_y.append(np.dot(relevance_array_load.T[i[0]-1], rel_dirs[1]))"
   ]
  },
  {
   "cell_type": "code",
   "execution_count": 59,
   "metadata": {
    "collapsed": false,
    "scrolled": false
   },
   "outputs": [
    {
     "data": {
      "text/html": [
       "\n",
       "\n",
       "    <div class=\"bk-root\">\n",
       "        <div class=\"plotdiv\" id=\"1f4c6ca6-53e6-4a5c-963f-e7410bb6a02f\"></div>\n",
       "    </div>\n",
       "<script type=\"text/javascript\">\n",
       "  \n",
       "  (function(global) {\n",
       "    function now() {\n",
       "      return new Date();\n",
       "    }\n",
       "  \n",
       "    var force = \"\";\n",
       "  \n",
       "    if (typeof (window._bokeh_onload_callbacks) === \"undefined\" || force !== \"\") {\n",
       "      window._bokeh_onload_callbacks = [];\n",
       "      window._bokeh_is_loading = undefined;\n",
       "    }\n",
       "  \n",
       "  \n",
       "    \n",
       "    if (typeof (window._bokeh_timeout) === \"undefined\" || force !== \"\") {\n",
       "      window._bokeh_timeout = Date.now() + 0;\n",
       "      window._bokeh_failed_load = false;\n",
       "    }\n",
       "  \n",
       "    var NB_LOAD_WARNING = {'data': {'text/html':\n",
       "       \"<div style='background-color: #fdd'>\\n\"+\n",
       "       \"<p>\\n\"+\n",
       "       \"BokehJS does not appear to have successfully loaded. If loading BokehJS from CDN, this \\n\"+\n",
       "       \"may be due to a slow or bad network connection. Possible fixes:\\n\"+\n",
       "       \"</p>\\n\"+\n",
       "       \"<ul>\\n\"+\n",
       "       \"<li>re-rerun `output_notebook()` to attempt to load from CDN again, or</li>\\n\"+\n",
       "       \"<li>use INLINE resources instead, as so:</li>\\n\"+\n",
       "       \"</ul>\\n\"+\n",
       "       \"<code>\\n\"+\n",
       "       \"from bokeh.resources import INLINE\\n\"+\n",
       "       \"output_notebook(resources=INLINE)\\n\"+\n",
       "       \"</code>\\n\"+\n",
       "       \"</div>\"}};\n",
       "  \n",
       "    function display_loaded() {\n",
       "      if (window.Bokeh !== undefined) {\n",
       "        Bokeh.$(\"#1f4c6ca6-53e6-4a5c-963f-e7410bb6a02f\").text(\"BokehJS successfully loaded.\");\n",
       "      } else if (Date.now() < window._bokeh_timeout) {\n",
       "        setTimeout(display_loaded, 100)\n",
       "      }\n",
       "    }if ((window.Jupyter !== undefined) && Jupyter.notebook.kernel) {\n",
       "      comm_manager = Jupyter.notebook.kernel.comm_manager\n",
       "      comm_manager.register_target(\"ce16bd75-87ae-495e-b6ae-67195a8cb213\", function () {});\n",
       "    }\n",
       "  \n",
       "    function run_callbacks() {\n",
       "      window._bokeh_onload_callbacks.forEach(function(callback) { callback() });\n",
       "      delete window._bokeh_onload_callbacks\n",
       "      console.info(\"Bokeh: all callbacks have finished\");\n",
       "    }\n",
       "  \n",
       "    function load_libs(js_urls, callback) {\n",
       "      window._bokeh_onload_callbacks.push(callback);\n",
       "      if (window._bokeh_is_loading > 0) {\n",
       "        console.log(\"Bokeh: BokehJS is being loaded, scheduling callback at\", now());\n",
       "        return null;\n",
       "      }\n",
       "      if (js_urls == null || js_urls.length === 0) {\n",
       "        run_callbacks();\n",
       "        return null;\n",
       "      }\n",
       "      console.log(\"Bokeh: BokehJS not loaded, scheduling load and callback at\", now());\n",
       "      window._bokeh_is_loading = js_urls.length;\n",
       "      for (var i = 0; i < js_urls.length; i++) {\n",
       "        var url = js_urls[i];\n",
       "        var s = document.createElement('script');\n",
       "        s.src = url;\n",
       "        s.async = false;\n",
       "        s.onreadystatechange = s.onload = function() {\n",
       "          window._bokeh_is_loading--;\n",
       "          if (window._bokeh_is_loading === 0) {\n",
       "            console.log(\"Bokeh: all BokehJS libraries loaded\");\n",
       "            run_callbacks()\n",
       "          }\n",
       "        };\n",
       "        s.onerror = function() {\n",
       "          console.warn(\"failed to load library \" + url);\n",
       "        };\n",
       "        console.log(\"Bokeh: injecting script tag for BokehJS library: \", url);\n",
       "        document.getElementsByTagName(\"head\")[0].appendChild(s);\n",
       "      }\n",
       "    };var element = document.getElementById(\"1f4c6ca6-53e6-4a5c-963f-e7410bb6a02f\");\n",
       "    if (element == null) {\n",
       "      console.log(\"Bokeh: ERROR: autoload.js configured with elementid '1f4c6ca6-53e6-4a5c-963f-e7410bb6a02f' but no matching script tag was found. \")\n",
       "      return false;\n",
       "    }\n",
       "  \n",
       "    var js_urls = [];\n",
       "  \n",
       "    var inline_js = [\n",
       "      function(Bokeh) {\n",
       "        Bokeh.$(function() {\n",
       "            var docs_json = {\"51ac274a-e2ce-4f6c-abf3-94cdf3544538\":{\"roots\":{\"references\":[{\"attributes\":{\"callback\":null,\"plot\":{\"id\":\"e161b4a1-fcf0-4a42-b509-562e7c020206\",\"subtype\":\"Figure\",\"type\":\"Plot\"},\"tooltips\":[[\"Name\",\"@name\"]]},\"id\":\"d6e397e7-3264-45a8-b56e-843a8b323795\",\"type\":\"HoverTool\"},{\"attributes\":{\"plot\":{\"id\":\"e161b4a1-fcf0-4a42-b509-562e7c020206\",\"subtype\":\"Figure\",\"type\":\"Plot\"}},\"id\":\"4fc244d3-b202-4fc7-ac00-4dff7c5b7487\",\"type\":\"ResetTool\"},{\"attributes\":{\"active_drag\":\"auto\",\"active_scroll\":\"auto\",\"active_tap\":\"auto\",\"tools\":[{\"id\":\"d6e397e7-3264-45a8-b56e-843a8b323795\",\"type\":\"HoverTool\"},{\"id\":\"4fc244d3-b202-4fc7-ac00-4dff7c5b7487\",\"type\":\"ResetTool\"},{\"id\":\"dfabe434-99e3-43e1-a783-f901009a8db9\",\"type\":\"PanTool\"},{\"id\":\"069e5a61-e3c2-4854-bbb7-f56c28f0765c\",\"type\":\"WheelZoomTool\"},{\"id\":\"e22b820a-0911-49e1-9a57-8e3fda4c29b7\",\"type\":\"SaveTool\"}]},\"id\":\"52904a2e-9b5c-4e66-8e9d-7be3561b8868\",\"type\":\"Toolbar\"},{\"attributes\":{},\"id\":\"8dccaf21-2bb1-4798-a586-c55ad6055c2e\",\"type\":\"BasicTickFormatter\"},{\"attributes\":{\"below\":[{\"id\":\"f1f45d87-2c96-487a-b9ba-f33fdaa5ae80\",\"type\":\"LinearAxis\"}],\"left\":[{\"id\":\"7646251c-037e-4fed-b5a6-1f4cd72e4b62\",\"type\":\"LinearAxis\"}],\"plot_height\":960,\"plot_width\":960,\"renderers\":[{\"id\":\"f1f45d87-2c96-487a-b9ba-f33fdaa5ae80\",\"type\":\"LinearAxis\"},{\"id\":\"eb1e628e-ad02-4201-9f0d-e031b06cb6ce\",\"type\":\"Grid\"},{\"id\":\"7646251c-037e-4fed-b5a6-1f4cd72e4b62\",\"type\":\"LinearAxis\"},{\"id\":\"00b2d2eb-f772-4e81-b56e-5099017ea296\",\"type\":\"Grid\"},{\"id\":\"75dbe574-2a79-4645-a7a2-e0818934a29c\",\"type\":\"GlyphRenderer\"}],\"title\":{\"id\":\"08ba8607-2c6b-44f3-943c-c21768580352\",\"type\":\"Title\"},\"tool_events\":{\"id\":\"4b3691df-027c-4773-982b-40684771eaa5\",\"type\":\"ToolEvents\"},\"toolbar\":{\"id\":\"52904a2e-9b5c-4e66-8e9d-7be3561b8868\",\"type\":\"Toolbar\"},\"x_range\":{\"id\":\"446704ae-cc11-4067-aeb1-9a1edbffa746\",\"type\":\"DataRange1d\"},\"y_range\":{\"id\":\"9a6d0dc3-55b4-4d33-8f95-7871d1852f70\",\"type\":\"DataRange1d\"}},\"id\":\"e161b4a1-fcf0-4a42-b509-562e7c020206\",\"subtype\":\"Figure\",\"type\":\"Plot\"},{\"attributes\":{\"plot\":null,\"text\":\"Mouse over the dots\"},\"id\":\"08ba8607-2c6b-44f3-943c-c21768580352\",\"type\":\"Title\"},{\"attributes\":{},\"id\":\"4b3691df-027c-4773-982b-40684771eaa5\",\"type\":\"ToolEvents\"},{\"attributes\":{\"callback\":null},\"id\":\"446704ae-cc11-4067-aeb1-9a1edbffa746\",\"type\":\"DataRange1d\"},{\"attributes\":{\"data_source\":{\"id\":\"942ac0a3-71eb-487f-b209-207f5433be16\",\"type\":\"ColumnDataSource\"},\"glyph\":{\"id\":\"9ec19a68-c7c5-4a09-a5b1-0d1759903d12\",\"type\":\"Circle\"},\"hover_glyph\":null,\"nonselection_glyph\":{\"id\":\"727ca2ce-2e70-40eb-9f4b-24e852c48fd6\",\"type\":\"Circle\"},\"selection_glyph\":null},\"id\":\"75dbe574-2a79-4645-a7a2-e0818934a29c\",\"type\":\"GlyphRenderer\"},{\"attributes\":{\"plot\":{\"id\":\"e161b4a1-fcf0-4a42-b509-562e7c020206\",\"subtype\":\"Figure\",\"type\":\"Plot\"},\"ticker\":{\"id\":\"7d134f86-ddbf-48da-bcb5-79d735c0d5e3\",\"type\":\"BasicTicker\"}},\"id\":\"eb1e628e-ad02-4201-9f0d-e031b06cb6ce\",\"type\":\"Grid\"},{\"attributes\":{\"plot\":{\"id\":\"e161b4a1-fcf0-4a42-b509-562e7c020206\",\"subtype\":\"Figure\",\"type\":\"Plot\"}},\"id\":\"dfabe434-99e3-43e1-a783-f901009a8db9\",\"type\":\"PanTool\"},{\"attributes\":{},\"id\":\"c489afac-7ac8-44cf-b1e1-5987d352c4e4\",\"type\":\"BasicTicker\"},{\"attributes\":{\"plot\":{\"id\":\"e161b4a1-fcf0-4a42-b509-562e7c020206\",\"subtype\":\"Figure\",\"type\":\"Plot\"}},\"id\":\"069e5a61-e3c2-4854-bbb7-f56c28f0765c\",\"type\":\"WheelZoomTool\"},{\"attributes\":{\"fill_color\":{\"field\":\"color\"},\"line_color\":{\"field\":\"color\"},\"size\":{\"units\":\"screen\",\"value\":20},\"x\":{\"field\":\"x\"},\"y\":{\"field\":\"y\"}},\"id\":\"9ec19a68-c7c5-4a09-a5b1-0d1759903d12\",\"type\":\"Circle\"},{\"attributes\":{\"fill_alpha\":{\"value\":0.1},\"fill_color\":{\"value\":\"#1f77b4\"},\"line_alpha\":{\"value\":0.1},\"line_color\":{\"value\":\"#1f77b4\"},\"size\":{\"units\":\"screen\",\"value\":20},\"x\":{\"field\":\"x\"},\"y\":{\"field\":\"y\"}},\"id\":\"727ca2ce-2e70-40eb-9f4b-24e852c48fd6\",\"type\":\"Circle\"},{\"attributes\":{},\"id\":\"05368f63-1cd1-480f-a19c-c6484a06e490\",\"type\":\"BasicTickFormatter\"},{\"attributes\":{\"callback\":null},\"id\":\"9a6d0dc3-55b4-4d33-8f95-7871d1852f70\",\"type\":\"DataRange1d\"},{\"attributes\":{},\"id\":\"7d134f86-ddbf-48da-bcb5-79d735c0d5e3\",\"type\":\"BasicTicker\"},{\"attributes\":{\"callback\":null,\"column_names\":[\"y\",\"color\",\"name\",\"x\"],\"data\":{\"color\":[\"#ccff00\",\"#38ff00\",\"#42ff00\",\"#2eff00\",\"#57ff00\",\"#1aff00\",\"#42ff00\",\"#ff4c00\",\"#ff4200\",\"#4dff00\",\"#70ff00\",\"#4dff00\",\"#29ff00\",\"#24ff00\",\"#24ff00\",\"#fff000\",\"#14ff00\",\"#6bff00\",\"#ff5700\",\"#3dff00\",\"#33ff00\",\"#ffad00\",\"#61ff00\",\"#00ff00\",\"#2eff00\",\"#8fff00\",\"#1aff00\",\"#66ff00\",\"#a3ff00\",\"#b8ff00\",\"#0aff00\",\"#faff00\",\"#1aff00\",\"#a8ff00\",\"#57ff00\",\"#3dff00\",\"#ccff00\"],\"name\":[\"Independence Day (a.k.a. ID4) (1996)\",\"Spider-Man (2002)\",\"Matrix, The (1999)\",\"Shawshank Redemption, The (1994)\",\"American History X (1998)\",\"Wild Strawberries (Smultronst\\u00e4llet) (1957)\",\"Control (2007)\",\"Miss Congeniality 2: Armed and Fabulous (2005)\",\"Just My Luck (2006)\",\"Santa Sangre (1989)\",\"Videodrome (1983)\",\"Billy Elliot (2000)\",\"Pride (2014)\",\"Jurassic Park (1993)\",\"Star Wars: Episode IV - A New Hope (1977)\",\"Princess Diaries, The (2001)\",\"Schindler's List (1993)\",\"Fight Club (1999)\",\"New York Ripper, The (Squartatore di New York, Lo) (1982)\",\"American Beauty (1999)\",\"City of God (Cidade de Deus) (2002)\",\"Battleship (2012)\",\"Take Care of My Cat (Goyangileul butaghae) (2001)\",\"Terminator, The (1984)\",\"Edge of Tomorrow (2014)\",\"Forrest Gump (1994)\",\"King's Speech, The (2010)\",\"Life Is Beautiful (La Vita \\u00e8 bella) (1997)\",\"Stage Fright (Deliria) (1987)\",\"Ichi the Killer (Koroshiya 1) (2001)\",\"Brazil (1985)\",\"Fountain, The (2006)\",\"Accused, The (1988)\",\"Time to Kill, A (1996)\",\"Ghost Writer, The (2010)\",\"Superbad (2007)\",\"American Pie (1999)\"],\"x\":[0.2073739925803003,0.2058847622701911,0.29854921106941334,0.29959937317323504,0.27087595557298527,0.2120921100119133,0.21669151876049658,0.09764096074357102,0.08493270102577531,0.17480576671603265,0.15200403220611167,0.18852055422796662,0.18141327852939212,0.23505232144419919,0.27537106699592384,0.1183871906866294,0.26141224630969234,0.2962227915354561,0.12557410454993623,0.2722858811529742,0.2741708945991843,0.13183092733306795,0.08032865632908487,0.24889308376284197,0.24153554427469537,0.25574641474834264,0.22035888306614576,0.2398529190134109,0.1681045175847047,0.1579016818015328,0.2286556492406666,0.21431672973698523,0.1977208935441821,0.16243333314618247,0.18580657729458547,0.18053205371638537,0.1736987625510131],\"y\":[0.029989243791171565,0.03179083508150945,0.019945483721206796,0.004678378012429098,0.006325451540939966,-0.009906443575625385,-0.0017446169545291112,0.021795223091173134,0.020539950339976715,0.0035551203852285337,0.006896536550844349,0.0041344811475514266,0.0013505301225884589,0.02545745308189612,0.018069733876271813,0.02361188999670432,-0.0018404291366047431,0.010463683780644734,0.018912685834335884,0.0007035648635238031,0.004107709196269944,0.02993152400475229,-0.001063309717377968,0.020765241783310434,0.019755689938824525,0.007970017030193753,-0.0005044484749222425,-0.0013623182822241114,0.01439168484725953,0.01530214019721003,0.0007678553155601251,-0.0005193912468373864,0.010961370988407333,0.017106497162536694,0.006721634576215395,0.01888038234037793,0.028002783441169674]}},\"id\":\"942ac0a3-71eb-487f-b209-207f5433be16\",\"type\":\"ColumnDataSource\"},{\"attributes\":{\"plot\":{\"id\":\"e161b4a1-fcf0-4a42-b509-562e7c020206\",\"subtype\":\"Figure\",\"type\":\"Plot\"}},\"id\":\"e22b820a-0911-49e1-9a57-8e3fda4c29b7\",\"type\":\"SaveTool\"},{\"attributes\":{\"dimension\":1,\"plot\":{\"id\":\"e161b4a1-fcf0-4a42-b509-562e7c020206\",\"subtype\":\"Figure\",\"type\":\"Plot\"},\"ticker\":{\"id\":\"c489afac-7ac8-44cf-b1e1-5987d352c4e4\",\"type\":\"BasicTicker\"}},\"id\":\"00b2d2eb-f772-4e81-b56e-5099017ea296\",\"type\":\"Grid\"},{\"attributes\":{\"formatter\":{\"id\":\"05368f63-1cd1-480f-a19c-c6484a06e490\",\"type\":\"BasicTickFormatter\"},\"plot\":{\"id\":\"e161b4a1-fcf0-4a42-b509-562e7c020206\",\"subtype\":\"Figure\",\"type\":\"Plot\"},\"ticker\":{\"id\":\"c489afac-7ac8-44cf-b1e1-5987d352c4e4\",\"type\":\"BasicTicker\"}},\"id\":\"7646251c-037e-4fed-b5a6-1f4cd72e4b62\",\"type\":\"LinearAxis\"},{\"attributes\":{\"formatter\":{\"id\":\"8dccaf21-2bb1-4798-a586-c55ad6055c2e\",\"type\":\"BasicTickFormatter\"},\"plot\":{\"id\":\"e161b4a1-fcf0-4a42-b509-562e7c020206\",\"subtype\":\"Figure\",\"type\":\"Plot\"},\"ticker\":{\"id\":\"7d134f86-ddbf-48da-bcb5-79d735c0d5e3\",\"type\":\"BasicTicker\"}},\"id\":\"f1f45d87-2c96-487a-b9ba-f33fdaa5ae80\",\"type\":\"LinearAxis\"}],\"root_ids\":[\"e161b4a1-fcf0-4a42-b509-562e7c020206\"]},\"title\":\"Bokeh Application\",\"version\":\"0.12.2\"}};\n",
       "            var render_items = [{\"docid\":\"51ac274a-e2ce-4f6c-abf3-94cdf3544538\",\"elementid\":\"1f4c6ca6-53e6-4a5c-963f-e7410bb6a02f\",\"modelid\":\"e161b4a1-fcf0-4a42-b509-562e7c020206\",\"notebook_comms_target\":\"ce16bd75-87ae-495e-b6ae-67195a8cb213\"}];\n",
       "            \n",
       "            Bokeh.embed.embed_items(docs_json, render_items);\n",
       "        });\n",
       "      },\n",
       "      function(Bokeh) {\n",
       "      }\n",
       "    ];\n",
       "  \n",
       "    function run_inline_js() {\n",
       "      \n",
       "      if ((window.Bokeh !== undefined) || (force === \"1\")) {\n",
       "        for (var i = 0; i < inline_js.length; i++) {\n",
       "          inline_js[i](window.Bokeh);\n",
       "        }if (force === \"1\") {\n",
       "          display_loaded();\n",
       "        }} else if (Date.now() < window._bokeh_timeout) {\n",
       "        setTimeout(run_inline_js, 100);\n",
       "      } else if (!window._bokeh_failed_load) {\n",
       "        console.log(\"Bokeh: BokehJS failed to load within specified timeout.\");\n",
       "        window._bokeh_failed_load = true;\n",
       "      } else if (!force) {\n",
       "        var cell = $(\"#1f4c6ca6-53e6-4a5c-963f-e7410bb6a02f\").parents('.cell').data().cell;\n",
       "        cell.output_area.append_execute_result(NB_LOAD_WARNING)\n",
       "      }\n",
       "  \n",
       "    }\n",
       "  \n",
       "    if (window._bokeh_is_loading === 0) {\n",
       "      console.log(\"Bokeh: BokehJS loaded, going straight to plotting\");\n",
       "      run_inline_js();\n",
       "    } else {\n",
       "      load_libs(js_urls, function() {\n",
       "        console.log(\"Bokeh: BokehJS plotting callback run at\", now());\n",
       "        run_inline_js();\n",
       "      });\n",
       "    }\n",
       "  }(this));\n",
       "</script>"
      ]
     },
     "metadata": {},
     "output_type": "display_data"
    },
    {
     "data": {
      "text/html": [
       "<p><code>&lt;Bokeh Notebook handle for <strong>In[12]</strong>&gt;</code></p>"
      ],
      "text/plain": [
       "<bokeh.io._CommsHandle at 0x7f719a023470>"
      ]
     },
     "execution_count": 59,
     "metadata": {},
     "output_type": "execute_result"
    }
   ],
   "source": [
    "# Continuous colors\n",
    "from matplotlib.colors import rgb2hex \n",
    "\n",
    "# colors:   0% -> red\n",
    "#          50% -> yellow\n",
    "#         100% -> green\n",
    "# interpolated in between\n",
    "def rottenColor(val):\n",
    "    if val<0.5:\n",
    "        return rgb2hex([1.0, 2*val, 0.0])\n",
    "    else:\n",
    "        return rgb2hex([2*(1.0-val), 1.0, 0.0])\n",
    "\n",
    "source = ColumnDataSource(\n",
    "    data={\n",
    "        \"x\": projected_x,\n",
    "        \"y\": projected_y,\n",
    "        \"name\": [x[1] for x in movies],\n",
    "        \"color\": [rottenColor(x[2]) for x in movies],\n",
    "    })\n",
    "\n",
    "hover = HoverTool(\n",
    "    tooltips=[\n",
    "        (\"Name\", \"@name\"),\n",
    "    ])\n",
    "tools = [hover, ResetTool(), PanTool(), WheelZoomTool(), SaveTool()]\n",
    "\n",
    "p = figure(plot_width=960, plot_height=960, tools=tools, title=\"Mouse over the dots\")\n",
    "p.circle(\"x\", \"y\", source=source, size=20, color=\"color\", alpha=1.0)\n",
    "show(p, notebook_handle=True)"
   ]
  },
  {
   "cell_type": "markdown",
   "metadata": {},
   "source": [
    "***PROBLEM: PRETTY SURE THAT'S SUPPOSED TO BE CENTERED AROUND 0***"
   ]
  },
  {
   "cell_type": "markdown",
   "metadata": {},
   "source": [
    "### Explain the coordinates of a few of the movies."
   ]
  },
  {
   "cell_type": "markdown",
   "metadata": {},
   "source": [
    "The first principal direction is on the X direction, the second is on Y. A result close to 0 means that movie is perfectly represented by that principal direction. For example, \"King's Speech\" is very close to 0 on the Y axism which means that its tags are almost perfectly represented by that direction."
   ]
  },
  {
   "cell_type": "markdown",
   "metadata": {},
   "source": [
    "### How do the PCA directions correlate with the Rotten Tomatoes score?"
   ]
  },
  {
   "cell_type": "markdown",
   "metadata": {
    "collapsed": true
   },
   "source": [
    "iunno"
   ]
  },
  {
   "cell_type": "code",
   "execution_count": null,
   "metadata": {
    "collapsed": true
   },
   "outputs": [],
   "source": []
  }
 ],
 "metadata": {
  "anaconda-cloud": {},
  "kernelspec": {
   "display_name": "Python 3",
   "language": "python",
   "name": "python3"
  },
  "language_info": {
   "codemirror_mode": {
    "name": "ipython",
    "version": 3
   },
   "file_extension": ".py",
   "mimetype": "text/x-python",
   "name": "python",
   "nbconvert_exporter": "python",
   "pygments_lexer": "ipython3",
   "version": "3.5.2"
  }
 },
 "nbformat": 4,
 "nbformat_minor": 1
}
