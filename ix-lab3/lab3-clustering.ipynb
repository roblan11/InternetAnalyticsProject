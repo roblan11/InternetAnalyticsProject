{
 "cells": [
  {
   "cell_type": "markdown",
   "metadata": {},
   "source": [
    "# Lab 3 — clustering\n",
    "**Internet Analytics - Lab 3**\n",
    "\n",
    "---\n",
    "\n",
    "**Group:** *K*\n",
    "\n",
    "**Names:**\n",
    "\n",
    "* *Robin Lang*\n",
    "* *Kim Lan Phan Hoang*"
   ]
  },
  {
   "cell_type": "code",
   "execution_count": 1,
   "metadata": {
    "collapsed": false
   },
   "outputs": [],
   "source": [
    "import json\n",
    "import matplotlib.pyplot as plt\n",
    "import numpy as np\n",
    "import pickle\n",
    "import random\n",
    "\n",
    "import sklearn.cluster as scl\n",
    "\n",
    "%matplotlib inline\n",
    "plt.style.use(\"ggplot\")"
   ]
  },
  {
   "cell_type": "markdown",
   "metadata": {
    "collapsed": true
   },
   "source": [
    "## Exercice 3.11"
   ]
  },
  {
   "cell_type": "markdown",
   "metadata": {},
   "source": [
    "### Cluster the data using the k-means clustering algorithm."
   ]
  },
  {
   "cell_type": "code",
   "execution_count": null,
   "metadata": {
    "collapsed": true
   },
   "outputs": [],
   "source": [
    "#http://scikit-learn.org/stable/modules/generated/sklearn.cluster.k_means.html"
   ]
  },
  {
   "cell_type": "code",
   "execution_count": null,
   "metadata": {
    "collapsed": true
   },
   "outputs": [],
   "source": [
    "km2 = scl.k_means(data,2)"
   ]
  },
  {
   "cell_type": "code",
   "execution_count": null,
   "metadata": {
    "collapsed": true
   },
   "outputs": [],
   "source": [
    "km5 = scl.k_means(data,5)"
   ]
  },
  {
   "cell_type": "markdown",
   "metadata": {},
   "source": [
    "### Visualize the clusters using an interactive bokeh plot. Try projecting on different principal directions"
   ]
  },
  {
   "cell_type": "code",
   "execution_count": null,
   "metadata": {
    "collapsed": true
   },
   "outputs": [],
   "source": []
  },
  {
   "cell_type": "markdown",
   "metadata": {},
   "source": [
    "### Which principal directions separate the clusters well?"
   ]
  },
  {
   "cell_type": "code",
   "execution_count": null,
   "metadata": {
    "collapsed": true
   },
   "outputs": [],
   "source": []
  },
  {
   "cell_type": "markdown",
   "metadata": {},
   "source": [
    "## Exercice 3.12"
   ]
  },
  {
   "cell_type": "markdown",
   "metadata": {},
   "source": [
    "### Implement the k-medioids algorithm with the Jaccard distance."
   ]
  },
  {
   "cell_type": "code",
   "execution_count": null,
   "metadata": {
    "collapsed": true
   },
   "outputs": [],
   "source": [
    "def jaccard_index(a,b):\n",
    "    return (a union b) / (a intersect b)\n",
    "\n",
    "def jaccard_distance(a,b):\n",
    "    return 1-jaccard_index(a,b)"
   ]
  },
  {
   "cell_type": "code",
   "execution_count": null,
   "metadata": {
    "collapsed": true
   },
   "outputs": [],
   "source": [
    "def kmedioids(points, k):\n",
    "    medioids = np.array(k)\n",
    "    clusters = np.array(k)\n",
    "    \n",
    "    # initialize medioids\n",
    "    for i in range k:\n",
    "        medioids[i] = random.choice(points)\n",
    "        clusters[i] = []\n",
    "        \n",
    "    # convergence parameters\n",
    "    convergedLimit = 2\n",
    "    convergedLoop = 0\n",
    "        \n",
    "    # repeat until convergence\n",
    "    while(convergedLoop < convergedLimit):\n",
    "        \n",
    "        #initialize cluster_tmp (use it to check convergence)\n",
    "        clusters_tmp = np.array(k)\n",
    "        for i in range k:\n",
    "            clusters_tmp[i] = []\n",
    "            \n",
    "        \n",
    "        # class points in clusters\n",
    "        for p in points:\n",
    "            min_i = 0\n",
    "            jdk = 1000000000\n",
    "            for i in range k:\n",
    "                jdi = jaccard_distance(medioids[i], p)\n",
    "                if(jdi < jdk):\n",
    "                    min_i = i\n",
    "                    jdk = jdi\n",
    "                    \n",
    "            clusters_tmp[min_i].append(p)\n",
    "        \n",
    "        #recompute medioids -> choose the closest point to the others\n",
    "        for i in range k:\n",
    "            best_x = 0\n",
    "            for x in range clusters_tmp[i]:\n",
    "                \n",
    "                add = 0\n",
    "                best_add = 1000000000\n",
    "                \n",
    "                for y in range clusters_tmp[i]:\n",
    "                    add = add + jaccard_distance(x,y)\n",
    "                    \n",
    "                if add < best_add:\n",
    "                    best_add = add\n",
    "                    best_x = x\n",
    "                    \n",
    "            medioids[i] = best_x\n",
    "            \n",
    "        # check convergence\n",
    "        if(clusters_tmp == clusters):\n",
    "            convergedLoop = convergedLoop + 1\n",
    "        else :\n",
    "            convergedLoop = 0"
   ]
  },
  {
   "cell_type": "markdown",
   "metadata": {},
   "source": [
    "### Cluster the set of movies in the file most-rated.pickle, using k = 2"
   ]
  },
  {
   "cell_type": "code",
   "execution_count": null,
   "metadata": {
    "collapsed": true
   },
   "outputs": [],
   "source": []
  },
  {
   "cell_type": "markdown",
   "metadata": {},
   "source": [
    "### Find a good way to visualize the results of the clustering. How do you intepret the two clusters?"
   ]
  },
  {
   "cell_type": "code",
   "execution_count": null,
   "metadata": {
    "collapsed": true
   },
   "outputs": [],
   "source": []
  }
 ],
 "metadata": {
  "anaconda-cloud": {},
  "kernelspec": {
   "display_name": "Python [Root]",
   "language": "python",
   "name": "Python [Root]"
  },
  "language_info": {
   "codemirror_mode": {
    "name": "ipython",
    "version": 3
   },
   "file_extension": ".py",
   "mimetype": "text/x-python",
   "name": "python",
   "nbconvert_exporter": "python",
   "pygments_lexer": "ipython3",
   "version": "3.5.2"
  }
 },
 "nbformat": 4,
 "nbformat_minor": 1
}
